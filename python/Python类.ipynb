{
 "cells": [
  {
   "cell_type": "markdown",
   "id": "d3260bb7-565d-4d1b-9cd4-a07468eb06fd",
   "metadata": {},
   "source": [
    "# 1、创建类"
   ]
  },
  {
   "cell_type": "code",
   "execution_count": 2,
   "id": "815ca11d-8c6c-4b40-9e09-73ef9d47749f",
   "metadata": {},
   "outputs": [],
   "source": [
    "# 类名使用大驼峰命名\n",
    "class ClassName:\n",
    "    pass"
   ]
  },
  {
   "cell_type": "markdown",
   "id": "e115b115-1307-45e3-bd4d-b7343fe6db9e",
   "metadata": {},
   "source": [
    "# 2、创建类属性"
   ]
  },
  {
   "cell_type": "code",
   "execution_count": 5,
   "id": "61dc9749-294f-42b3-8bcb-425e5662e3ca",
   "metadata": {},
   "outputs": [],
   "source": [
    "class MyClass:  # 定义一个类\n",
    "    \"\"\"A simple example class\"\"\"  # 定义该类的说明字符串\n",
    "    i = 12345  # 定义成员变量\n",
    "    def f(self):  # 定义方法\n",
    "        return 'I love Python'"
   ]
  },
  {
   "cell_type": "code",
   "execution_count": 6,
   "id": "9bd9b5b0-a436-421e-80ff-939f278c3cf9",
   "metadata": {},
   "outputs": [],
   "source": [
    "# 实例化\n",
    "myc = MyClass()"
   ]
  },
  {
   "cell_type": "code",
   "execution_count": 7,
   "id": "bca013cb-0853-4151-9257-7d58ddb7c71e",
   "metadata": {},
   "outputs": [
    {
     "data": {
      "text/plain": [
       "12345"
      ]
     },
     "execution_count": 7,
     "metadata": {},
     "output_type": "execute_result"
    }
   ],
   "source": [
    "myc.i"
   ]
  },
  {
   "cell_type": "code",
   "execution_count": 8,
   "id": "09cc02ef-d622-473f-af46-65cd751c379b",
   "metadata": {},
   "outputs": [
    {
     "data": {
      "text/plain": [
       "'I love Python'"
      ]
     },
     "execution_count": 8,
     "metadata": {},
     "output_type": "execute_result"
    }
   ],
   "source": [
    "myc.f()"
   ]
  },
  {
   "cell_type": "markdown",
   "id": "80686ebe-13fd-4eee-80ac-f241f322b9d5",
   "metadata": {},
   "source": [
    "### 类的内置属性"
   ]
  },
  {
   "cell_type": "code",
   "execution_count": 9,
   "id": "96a6bd88-bfa6-4d4e-9c90-c752577a03c0",
   "metadata": {},
   "outputs": [
    {
     "data": {
      "text/plain": [
       "'MyClass'"
      ]
     },
     "execution_count": 9,
     "metadata": {},
     "output_type": "execute_result"
    }
   ],
   "source": [
    "# 类名\n",
    "MyClass.__name__"
   ]
  },
  {
   "cell_type": "code",
   "execution_count": 10,
   "id": "2aee03f3-8be6-4282-abb7-51e8247f6b02",
   "metadata": {},
   "outputs": [
    {
     "data": {
      "text/plain": [
       "'A simple example class'"
      ]
     },
     "execution_count": 10,
     "metadata": {},
     "output_type": "execute_result"
    }
   ],
   "source": [
    "# 类的文档字符串\n",
    "MyClass.__doc__"
   ]
  },
  {
   "cell_type": "code",
   "execution_count": 11,
   "id": "398eccb2-cfd2-4044-af15-0e21b6d7dd3d",
   "metadata": {},
   "outputs": [
    {
     "data": {
      "text/plain": [
       "'__main__'"
      ]
     },
     "execution_count": 11,
     "metadata": {},
     "output_type": "execute_result"
    }
   ],
   "source": [
    "# 类所在模块\n",
    "MyClass.__module__"
   ]
  },
  {
   "cell_type": "code",
   "execution_count": 12,
   "id": "752fc5a3-709a-4428-8ab1-4b00185b55de",
   "metadata": {},
   "outputs": [
    {
     "data": {
      "text/plain": [
       "object"
      ]
     },
     "execution_count": 12,
     "metadata": {},
     "output_type": "execute_result"
    }
   ],
   "source": [
    "# 类的所有父类\n",
    "MyClass.__base__"
   ]
  },
  {
   "cell_type": "code",
   "execution_count": 13,
   "id": "02a32722-d2f6-482b-be45-b13a7bcf018f",
   "metadata": {},
   "outputs": [
    {
     "data": {
      "text/plain": [
       "mappingproxy({'__module__': '__main__',\n",
       "              '__doc__': 'A simple example class',\n",
       "              'i': 12345,\n",
       "              'f': <function __main__.MyClass.f(self)>,\n",
       "              '__dict__': <attribute '__dict__' of 'MyClass' objects>,\n",
       "              '__weakref__': <attribute '__weakref__' of 'MyClass' objects>})"
      ]
     },
     "execution_count": 13,
     "metadata": {},
     "output_type": "execute_result"
    }
   ],
   "source": [
    "# 类的属性\n",
    "MyClass.__dict__"
   ]
  },
  {
   "cell_type": "markdown",
   "id": "da28e38e-2630-4e8c-b13a-e83c4206ada3",
   "metadata": {},
   "source": [
    "# 3、定义类的动态属性"
   ]
  },
  {
   "cell_type": "code",
   "execution_count": 15,
   "id": "86b8f508-824a-4f40-999b-8805ee79f690",
   "metadata": {},
   "outputs": [],
   "source": [
    "# 定义类，添加类的动态属性\n",
    "class Record:\n",
    "    pass\n",
    "\n",
    "Anna = Record()\n",
    "Anna.name = 'Anna'\n",
    "Anna.age = 42"
   ]
  },
  {
   "cell_type": "code",
   "execution_count": 16,
   "id": "65364e52-4e0b-447c-83fc-4e3a09ce4200",
   "metadata": {},
   "outputs": [
    {
     "data": {
      "text/plain": [
       "'Anna'"
      ]
     },
     "execution_count": 16,
     "metadata": {},
     "output_type": "execute_result"
    }
   ],
   "source": [
    "Anna.name"
   ]
  },
  {
   "cell_type": "code",
   "execution_count": 17,
   "id": "fee66bdb-67fd-438c-878a-aab3ca2c514e",
   "metadata": {},
   "outputs": [
    {
     "data": {
      "text/plain": [
       "42"
      ]
     },
     "execution_count": 17,
     "metadata": {},
     "output_type": "execute_result"
    }
   ],
   "source": [
    "Anna.age"
   ]
  },
  {
   "cell_type": "code",
   "execution_count": 18,
   "id": "d908903d-0b31-4240-b3a3-0a4b23e3967b",
   "metadata": {},
   "outputs": [
    {
     "ename": "AttributeError",
     "evalue": "'Record' object has no attribute 'age'",
     "output_type": "error",
     "traceback": [
      "\u001b[0;31m---------------------------------------------------------------------------\u001b[0m",
      "\u001b[0;31mAttributeError\u001b[0m                            Traceback (most recent call last)",
      "Input \u001b[0;32mIn [18]\u001b[0m, in \u001b[0;36m<cell line: 3>\u001b[0;34m()\u001b[0m\n\u001b[1;32m      1\u001b[0m \u001b[38;5;66;03m# 删除动态属性\u001b[39;00m\n\u001b[1;32m      2\u001b[0m \u001b[38;5;28;01mdel\u001b[39;00m Anna\u001b[38;5;241m.\u001b[39mage\n\u001b[0;32m----> 3\u001b[0m \u001b[43mAnna\u001b[49m\u001b[38;5;241;43m.\u001b[39;49m\u001b[43mage\u001b[49m\n",
      "\u001b[0;31mAttributeError\u001b[0m: 'Record' object has no attribute 'age'"
     ]
    }
   ],
   "source": [
    "# 删除动态属性\n",
    "del Anna.age\n",
    "Anna.age"
   ]
  },
  {
   "cell_type": "markdown",
   "id": "812c13ad-b47e-46b3-98b1-f2465ffacbfe",
   "metadata": {},
   "source": [
    "# 4、限制类属性"
   ]
  },
  {
   "cell_type": "code",
   "execution_count": null,
   "id": "0bab4df1-85c5-4504-a4ee-5fe29c67c0a4",
   "metadata": {},
   "outputs": [],
   "source": [
    "# 限制类的属性\n",
    "class Record:\n",
    "    __slots__ = ('name', 'aeg')  # 只能添加规定的属性"
   ]
  },
  {
   "cell_type": "markdown",
   "id": "cc45bf76-5b84-42f1-910a-53134eead784",
   "metadata": {},
   "source": [
    "# 5、带初始值的实例化"
   ]
  },
  {
   "cell_type": "code",
   "execution_count": 19,
   "id": "f05029fb-b4ae-4b76-aabe-024ca316c4da",
   "metadata": {},
   "outputs": [
    {
     "data": {
      "text/plain": [
       "('Anna', 42)"
      ]
     },
     "execution_count": 19,
     "metadata": {},
     "output_type": "execute_result"
    }
   ],
   "source": [
    "class MyClass:\n",
    "    \"\"\"A record class\"\"\"\n",
    "    def __init__(self, name, age):\n",
    "        self.name = name\n",
    "        self.age = age\n",
    "    def getrecode(self):\n",
    "        return self.name, self.age\n",
    "\n",
    "myc = MyClass(\"Anna\", 42)\n",
    "myc.getrecode()"
   ]
  },
  {
   "cell_type": "code",
   "execution_count": null,
   "id": "c3a3fbf0-aa91-4d4a-9d61-945de8d0766a",
   "metadata": {},
   "outputs": [],
   "source": [
    "myc.getrecode()\n",
    "MyClass.getrecode(myc)"
   ]
  },
  {
   "cell_type": "code",
   "execution_count": 20,
   "id": "ec33b966-1737-4bbb-b4f0-a08a79fc8ac7",
   "metadata": {},
   "outputs": [
    {
     "data": {
      "text/plain": [
       "'I love Python'"
      ]
     },
     "execution_count": 20,
     "metadata": {},
     "output_type": "execute_result"
    }
   ],
   "source": [
    "# 将类中的成员函数定义在类外，使得成员函数，可以被多个类使用，提高代码的重用性\n",
    "def fun(self):\n",
    "    return 'I love Python'\n",
    "class MyClass:\n",
    "    \"\"\"A simple example class\"\"\"\n",
    "    i = 12345\n",
    "    f = fun\n",
    "\n",
    "myc = MyClass()\n",
    "myc.f()"
   ]
  },
  {
   "cell_type": "code",
   "execution_count": 21,
   "id": "a0d8b495-be6e-4479-8478-25c2a51b378a",
   "metadata": {},
   "outputs": [],
   "source": [
    "\"\"\"\n",
    "类方法属于类\n",
    "成员方法属于实例化对象\n",
    "\"\"\"\n",
    "class MyClass:\n",
    "    def f(self):\n",
    "        return 'I love Python'\n",
    "    \n",
    "    @classmethod\n",
    "    def fcls(cls):\n",
    "        return '类方法：I love Python'\n",
    "\n",
    "myc = MyClass()"
   ]
  },
  {
   "cell_type": "code",
   "execution_count": 22,
   "id": "aa38b5de-d6fe-494a-990e-3b09e47e1016",
   "metadata": {},
   "outputs": [
    {
     "data": {
      "text/plain": [
       "'I love Python'"
      ]
     },
     "execution_count": 22,
     "metadata": {},
     "output_type": "execute_result"
    }
   ],
   "source": [
    "myc.f()"
   ]
  },
  {
   "cell_type": "code",
   "execution_count": 23,
   "id": "7a92eb59-9b21-4f81-8c8a-7db4879b2aef",
   "metadata": {},
   "outputs": [
    {
     "data": {
      "text/plain": [
       "'类方法：I love Python'"
      ]
     },
     "execution_count": 23,
     "metadata": {},
     "output_type": "execute_result"
    }
   ],
   "source": [
    "MyClass.fcls()  # 调用类方法"
   ]
  },
  {
   "cell_type": "code",
   "execution_count": 24,
   "id": "9e5822f8-43d1-4131-afa1-e7abd838d5e6",
   "metadata": {},
   "outputs": [],
   "source": [
    "# 静态方法，等同于普通函数，只是被封装在类中，独立与整个类\n",
    "class MyClass:\n",
    "    @staticmethod\n",
    "    def fstatic():\n",
    "        return '静态方法：I love Python'\n",
    "    \n",
    "myc = MyClass()"
   ]
  },
  {
   "cell_type": "code",
   "execution_count": 25,
   "id": "8a74e1f5-86c9-4835-ae76-9a13690c0f52",
   "metadata": {},
   "outputs": [
    {
     "data": {
      "text/plain": [
       "'静态方法：I love Python'"
      ]
     },
     "execution_count": 25,
     "metadata": {},
     "output_type": "execute_result"
    }
   ],
   "source": [
    "myc.fstatic()"
   ]
  },
  {
   "cell_type": "code",
   "execution_count": 26,
   "id": "595d6e02-2fd3-4e4b-bd8d-44d9ae41a555",
   "metadata": {},
   "outputs": [
    {
     "data": {
      "text/plain": [
       "'静态方法：I love Python'"
      ]
     },
     "execution_count": 26,
     "metadata": {},
     "output_type": "execute_result"
    }
   ],
   "source": [
    "MyClass.fstatic()"
   ]
  },
  {
   "cell_type": "code",
   "execution_count": 30,
   "id": "13f92a54-7712-47b5-bca9-59ef377f0e79",
   "metadata": {},
   "outputs": [],
   "source": [
    "# 销毁类实例化对象\n",
    "class MyClass:\n",
    "    \"\"\"A record class\"\"\"\n",
    "    def __init__(self, name, age):\n",
    "        self.name = name\n",
    "        self.age = age\n",
    "        \n",
    "    def __del__(self):\n",
    "        print(self.__class__.__name__, \"del\")\n",
    "\n",
    "myc = MyClass(\"Anna\", 42)"
   ]
  },
  {
   "cell_type": "code",
   "execution_count": 31,
   "id": "72a33273-54d8-4963-9b22-bba1cdb5edad",
   "metadata": {},
   "outputs": [
    {
     "name": "stdout",
     "output_type": "stream",
     "text": [
      "MyClass del\n"
     ]
    }
   ],
   "source": [
    "del myc"
   ]
  },
  {
   "cell_type": "markdown",
   "id": "d70ea440-0aa4-4821-a7cc-04e15ab9dcd6",
   "metadata": {},
   "source": [
    "# 6、类变量的私有化属性"
   ]
  },
  {
   "cell_type": "code",
   "execution_count": 32,
   "id": "e4bd3d84-7668-4457-a9b0-b5966a700af7",
   "metadata": {},
   "outputs": [],
   "source": [
    "# 私有化属性不能被该类的实例化对象直接访问，但是类的内部成员函数是可以访问的\n",
    "# 两个下划线开头的成员对象为私有化成员\n",
    "__Occupation = \"scientist\""
   ]
  },
  {
   "cell_type": "markdown",
   "id": "d6462287-560d-4769-869a-797d54f6fb42",
   "metadata": {},
   "source": [
    "# 7、使用装饰器技术实现类的私有化"
   ]
  },
  {
   "cell_type": "code",
   "execution_count": 34,
   "id": "50ee5600-9493-4ae6-abeb-1ab247199a7d",
   "metadata": {},
   "outputs": [],
   "source": [
    "# 装饰器实现私有变量的get函数\n",
    "class MyClass:\n",
    "    \"\"\"A record class\"\"\"\n",
    "    __Occupation = \"scientist\"\n",
    "    def __init__(self, name, age):\n",
    "        self.name = name\n",
    "        self.age = age\n",
    "        \n",
    "    def getrecode(self):\n",
    "        return self.name, self.age\n",
    "    \n",
    "    def getOccupation(self):  # 返回私有变量的方法\n",
    "        return self.__Occupation\n",
    "    \n",
    "    # 装饰器将方法当成属性\n",
    "    @property\n",
    "    def Occupation(self):\n",
    "        return self.__Occupation\n",
    "    \n",
    "myc = MyClass(\"Anna\", 42)"
   ]
  },
  {
   "cell_type": "code",
   "execution_count": 35,
   "id": "a981b93b-ce84-4785-8773-afba21aef937",
   "metadata": {},
   "outputs": [
    {
     "data": {
      "text/plain": [
       "'scientist'"
      ]
     },
     "execution_count": 35,
     "metadata": {},
     "output_type": "execute_result"
    }
   ],
   "source": [
    "myc.getOccupation()"
   ]
  },
  {
   "cell_type": "code",
   "execution_count": 36,
   "id": "51b4378e-1031-4191-b35f-3d92ed274db6",
   "metadata": {},
   "outputs": [
    {
     "data": {
      "text/plain": [
       "'scientist'"
      ]
     },
     "execution_count": 36,
     "metadata": {},
     "output_type": "execute_result"
    }
   ],
   "source": [
    "myc.Occupation  # 以属性的访问方式来调用装饰器的函数"
   ]
  },
  {
   "cell_type": "code",
   "execution_count": 37,
   "id": "e828aceb-0917-469c-8068-67b91f8d56cc",
   "metadata": {},
   "outputs": [],
   "source": [
    "# 装饰器实现私有变量的set函数\n",
    "class MyClass:\n",
    "    \"\"\"A record class\"\"\"\n",
    "    __Occupation = \"scientist\"\n",
    "    def __init__(self, name, age):\n",
    "        self.name = name\n",
    "        self.age = age\n",
    "    \n",
    "    def getOccupation(self):  # 返回私有变量的方法\n",
    "        return self.__Occupation\n",
    "    \n",
    "    # 装饰器将方法当成属性\n",
    "    @property\n",
    "    def Occupation(self):\n",
    "        return self.__Occupation\n",
    "    \n",
    "    @Occupation.setter\n",
    "    def Occupation(self, value):\n",
    "        if (value != 'inventor') and (value != 'scientist'):\n",
    "            raise (ValueError('Occupation must be inventor or scientist'))\n",
    "        else:\n",
    "            self.__Occupation = value\n",
    "            \n",
    "myc = MyClass(\"Anna\", 42)"
   ]
  },
  {
   "cell_type": "code",
   "execution_count": 38,
   "id": "4f0854be-c515-44fe-81c4-243e97a8bc8f",
   "metadata": {},
   "outputs": [
    {
     "data": {
      "text/plain": [
       "'scientist'"
      ]
     },
     "execution_count": 38,
     "metadata": {},
     "output_type": "execute_result"
    }
   ],
   "source": [
    "myc.Occupation"
   ]
  },
  {
   "cell_type": "code",
   "execution_count": 39,
   "id": "c5711862-c866-4e03-8da0-4c9ad597811a",
   "metadata": {},
   "outputs": [],
   "source": [
    "myc.Occupation = 'inventor'  # 以属性访问的方式来调用装饰器的函数，进行私有变量修改"
   ]
  },
  {
   "cell_type": "code",
   "execution_count": 40,
   "id": "79c11c79-b58a-4472-ba28-b282ca61cd69",
   "metadata": {},
   "outputs": [
    {
     "data": {
      "text/plain": [
       "'inventor'"
      ]
     },
     "execution_count": 40,
     "metadata": {},
     "output_type": "execute_result"
    }
   ],
   "source": [
    "myc.Occupation"
   ]
  },
  {
   "cell_type": "markdown",
   "id": "c8ca14ac-3cde-44d7-91a2-0e665f5e95dd",
   "metadata": {},
   "source": [
    "# 8、子类"
   ]
  },
  {
   "cell_type": "code",
   "execution_count": 42,
   "id": "33558a78-fde3-49ad-908c-ed244fa95286",
   "metadata": {},
   "outputs": [],
   "source": [
    "# 当访问派生类的属性时，首先会在当前的派生类中搜索，如果没有则递归地去基类中寻找\n",
    "# 当子类的方法与父类的方法同名时，父类的方法失效\n",
    "# 在多重继承下，若要访问派生类的属性，默认的搜索的规则是：深度优先，从左到右\n",
    "# super函数，获得父类的对象，并调用父类的方法，保证父类的方法只被执行一次\n",
    "# Record.showrecode与super().showrecode()等价\n",
    "# 使用super函数，对父类的方法调用会自动传入self，无需再传入self，否则会报错"
   ]
  },
  {
   "cell_type": "markdown",
   "id": "a90832fe-5e1e-4bc6-ae39-eb2086f1d7a7",
   "metadata": {},
   "source": [
    "# 9、类相关的常用内置函数"
   ]
  },
  {
   "cell_type": "code",
   "execution_count": null,
   "id": "bebd9c03-fee4-41fa-8a2d-3fd2cccb5689",
   "metadata": {},
   "outputs": [],
   "source": [
    "# 判断实例\n",
    "# isinstance，判断某个实例对象是否是某个类或其派生类的实例\n",
    "isinstance(object, class_name)"
   ]
  },
  {
   "cell_type": "code",
   "execution_count": null,
   "id": "eb327cde-7a08-40e0-a35f-24f8336b3545",
   "metadata": {},
   "outputs": [],
   "source": [
    "# 判断子类\n",
    "# issubclass，判断类是否是另一个类的子类\n",
    "# 判断class1是class2的派生类\n",
    "issubclass(class1, class2)"
   ]
  },
  {
   "cell_type": "code",
   "execution_count": null,
   "id": "701e59ae-7ff8-4aac-9ec3-a7b9ef96271a",
   "metadata": {},
   "outputs": [],
   "source": [
    "# 判断类实例中是否包含某个属性\n",
    "# 类实例obj中是否含有name属性\n",
    "hasattr(obj, name, /)"
   ]
  },
  {
   "cell_type": "code",
   "execution_count": null,
   "id": "307c6aed-b527-4f54-9510-77fab9791c89",
   "metadata": {},
   "outputs": [],
   "source": [
    "# 获取类实例中的某个属性\n",
    "getattr(obj, name,[default])"
   ]
  },
  {
   "cell_type": "code",
   "execution_count": null,
   "id": "b68c023b-9924-413d-b8a0-2bd640e40a2d",
   "metadata": {},
   "outputs": [],
   "source": [
    "# 设置类实例中的某个属性值\n",
    "# 为实例obj中的name赋上value的值，如果没有name则新建\n",
    "setattr(obj, name, value, /)\n",
    "\n",
    "# setattr与getattr混合使用\n",
    "# 先为obj中的name赋值value，再取obj中的name属性\n",
    "getattr(obj, name, setattr(obj, name, value, /))"
   ]
  },
  {
   "cell_type": "markdown",
   "id": "9bfe34f1-95b5-4381-a13e-b03270bfd6cf",
   "metadata": {},
   "source": [
    "# 10、重载运算符"
   ]
  },
  {
   "cell_type": "code",
   "execution_count": null,
   "id": "f2cba707-92a0-456b-a87a-9dc8de2cfcff",
   "metadata": {},
   "outputs": [],
   "source": [
    "# 重载运算符，在类中定义并实现一个与运算符对应的处理方法，在两个对象进行运算符操作时，系统就会调佣类中的具体方法来处理"
   ]
  },
  {
   "cell_type": "markdown",
   "id": "cc69bc1a-2924-420f-b2a7-0033201523ec",
   "metadata": {},
   "source": [
    "# 11、包装与代理"
   ]
  },
  {
   "cell_type": "code",
   "execution_count": null,
   "id": "2b395efa-4516-4854-912b-9a855744d705",
   "metadata": {},
   "outputs": [],
   "source": []
  },
  {
   "cell_type": "code",
   "execution_count": null,
   "id": "02c9176f-41ec-4a14-8a57-d58c4c087358",
   "metadata": {},
   "outputs": [],
   "source": []
  },
  {
   "cell_type": "code",
   "execution_count": null,
   "id": "960db4de-a5f0-47e1-b3b8-017d8f8e2344",
   "metadata": {},
   "outputs": [],
   "source": []
  },
  {
   "cell_type": "code",
   "execution_count": null,
   "id": "eaa8e28f-1718-4257-8c0f-28d3792cc29c",
   "metadata": {},
   "outputs": [],
   "source": []
  },
  {
   "cell_type": "code",
   "execution_count": null,
   "id": "9fd2f675-2d48-459e-a64e-0d236d79fc78",
   "metadata": {},
   "outputs": [],
   "source": []
  },
  {
   "cell_type": "code",
   "execution_count": null,
   "id": "645219ad-ef32-4008-b761-80914be87793",
   "metadata": {},
   "outputs": [],
   "source": []
  },
  {
   "cell_type": "code",
   "execution_count": null,
   "id": "eacc0810-92d1-47c3-835c-d6906f8bfdd0",
   "metadata": {},
   "outputs": [],
   "source": []
  },
  {
   "cell_type": "code",
   "execution_count": null,
   "id": "8d77d0ec-df44-4efe-9a2c-716d5750f1d1",
   "metadata": {},
   "outputs": [],
   "source": []
  },
  {
   "cell_type": "code",
   "execution_count": null,
   "id": "b1e0ed6f-a5fc-4a74-b580-fb798135e4a5",
   "metadata": {},
   "outputs": [],
   "source": []
  },
  {
   "cell_type": "code",
   "execution_count": null,
   "id": "768dc43b-7699-4a39-93a7-f9e07255e3d0",
   "metadata": {},
   "outputs": [],
   "source": []
  }
 ],
 "metadata": {
  "kernelspec": {
   "display_name": "Python 3 (ipykernel)",
   "language": "python",
   "name": "python3"
  },
  "language_info": {
   "codemirror_mode": {
    "name": "ipython",
    "version": 3
   },
   "file_extension": ".py",
   "mimetype": "text/x-python",
   "name": "python",
   "nbconvert_exporter": "python",
   "pygments_lexer": "ipython3",
   "version": "3.9.12"
  }
 },
 "nbformat": 4,
 "nbformat_minor": 5
}
