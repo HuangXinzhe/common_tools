{
 "cells": [
  {
   "cell_type": "markdown",
   "id": "9ff2de69-166a-4b1a-a7b7-9722cfa48b4d",
   "metadata": {},
   "source": [
    "# 包"
   ]
  },
  {
   "cell_type": "markdown",
   "id": "01bcc767-f9c6-46a2-9d31-3f68ab19ec51",
   "metadata": {},
   "source": [
    "- Python包\n",
    "    - 在每个包文件夹都必须包含一个__init__.py文件，该文件的作用是告诉Python环境文件夹是一个包。__init__.py可以是一个空文件。"
   ]
  },
  {
   "cell_type": "markdown",
   "id": "7d422f07-bf4d-461c-b514-9dc1856b5742",
   "metadata": {},
   "source": [
    "# 模块的属性"
   ]
  },
  {
   "cell_type": "code",
   "execution_count": 1,
   "id": "ba744446-e0af-4f83-8585-971cb60c6f98",
   "metadata": {},
   "outputs": [],
   "source": [
    "import time"
   ]
  },
  {
   "cell_type": "code",
   "execution_count": 9,
   "id": "1279a002-7827-4da1-a062-9a05c0d1e4f4",
   "metadata": {},
   "outputs": [
    {
     "name": "stdout",
     "output_type": "stream",
     "text": [
      "time\n"
     ]
    }
   ],
   "source": [
    "# 模块名字\n",
    "print(time.__name__)"
   ]
  },
  {
   "cell_type": "code",
   "execution_count": 7,
   "id": "74e277ae-3257-4aae-9ecc-7753d351a15f",
   "metadata": {},
   "outputs": [
    {
     "name": "stdout",
     "output_type": "stream",
     "text": [
      "This module provides various functions to manipulate time values.\n",
      "\n",
      "There are two standard representations of time.  One is the number\n",
      "of seconds since the Epoch, in UTC (a.k.a. GMT).  It may be an integer\n",
      "or a floating point number (to represent fractions of seconds).\n",
      "The Epoch is system-defined; on Unix, it is generally January 1st, 1970.\n",
      "The actual value can be retrieved by calling gmtime(0).\n",
      "\n",
      "The other representation is a tuple of 9 integers giving local time.\n",
      "The tuple items are:\n",
      "  year (including century, e.g. 1998)\n",
      "  month (1-12)\n",
      "  day (1-31)\n",
      "  hours (0-23)\n",
      "  minutes (0-59)\n",
      "  seconds (0-59)\n",
      "  weekday (0-6, Monday is 0)\n",
      "  Julian day (day in the year, 1-366)\n",
      "  DST (Daylight Savings Time) flag (-1, 0 or 1)\n",
      "If the DST flag is 0, the time is given in the regular time zone;\n",
      "if it is 1, the time is given in the DST time zone;\n",
      "if it is -1, mktime() should guess based on the date and time.\n",
      "\n"
     ]
    }
   ],
   "source": [
    "# 详细说明\n",
    "print(time.__doc__)"
   ]
  },
  {
   "cell_type": "code",
   "execution_count": 10,
   "id": "74603e6e-87b3-4a16-97ce-5b84cd4a5be2",
   "metadata": {},
   "outputs": [
    {
     "name": "stdout",
     "output_type": "stream",
     "text": [
      "\n"
     ]
    }
   ],
   "source": [
    "# 包名，因为是内置模块，包名为空，所以输出为空\n",
    "print(time.__package__)"
   ]
  },
  {
   "cell_type": "code",
   "execution_count": 8,
   "id": "0c711594-16b4-4c70-aacf-3784cca8809f",
   "metadata": {},
   "outputs": [
    {
     "name": "stdout",
     "output_type": "stream",
     "text": [
      "<class '_frozen_importlib.BuiltinImporter'>\n"
     ]
    }
   ],
   "source": [
    "# 加载类名\n",
    "print(time.__loader__)"
   ]
  },
  {
   "cell_type": "code",
   "execution_count": 11,
   "id": "173c7f97-ed2b-40a0-b608-59d7a35b5612",
   "metadata": {},
   "outputs": [
    {
     "name": "stdout",
     "output_type": "stream",
     "text": [
      "ModuleSpec(name='time', loader=<class '_frozen_importlib.BuiltinImporter'>, origin='built-in')\n"
     ]
    }
   ],
   "source": [
    "# 简介\n",
    "print(time.__spec__)"
   ]
  },
  {
   "cell_type": "markdown",
   "id": "c359833c-c271-49a0-9a60-1c031eb37bd2",
   "metadata": {},
   "source": [
    "# 模块名字的可变性\n",
    "- 当模块被导入到其他模块时，__name__的值为模块本身的名字\n",
    "- 当该模块独立运行时，__name__的值会变为“__main__”"
   ]
  },
  {
   "cell_type": "markdown",
   "id": "babffd8a-42ce-4efc-8b20-2ce7e368c366",
   "metadata": {},
   "source": [
    "# 模块的常规写法\n",
    "- 编写模块提供的函数或类的同时，把自身当做独立运行的文件来为自身模块做单元测试"
   ]
  },
  {
   "cell_type": "code",
   "execution_count": null,
   "id": "f4c68bdc-4952-46de-832e-2236720ec3b0",
   "metadata": {},
   "outputs": [],
   "source": [
    "if __name__ == '__main__':\n",
    "    # 执行单元测试代码\n",
    "# 快捷键：输入main+回车"
   ]
  },
  {
   "cell_type": "markdown",
   "id": "8a0e4afc-5cd4-43da-8bff-11ca0e14c7bd",
   "metadata": {},
   "source": [
    "# 导入文件名中带空格的模块或以数字开头命名的模块"
   ]
  },
  {
   "cell_type": "code",
   "execution_count": null,
   "id": "63f7ca6b-cfa9-47eb-8a51-a3263cfbcb15",
   "metadata": {},
   "outputs": [],
   "source": [
    "# 使用__import__方法，将模块名称用字符串的方式传入，就可以得到该模块的引用了\n",
    "yuyinutils = __import__(\"9-24  yuyinutils\")"
   ]
  },
  {
   "cell_type": "markdown",
   "id": "168d9f47-7b86-4f75-a0c1-893e179d3585",
   "metadata": {},
   "source": [
    "在Python转给你的符号生效规则是“就近”。"
   ]
  },
  {
   "cell_type": "code",
   "execution_count": null,
   "id": "9c134865-2f08-45b3-b592-d561c6a15ed1",
   "metadata": {},
   "outputs": [],
   "source": []
  },
  {
   "cell_type": "code",
   "execution_count": null,
   "id": "28c90692-4d1b-4711-bc5e-b3f42ee379e2",
   "metadata": {},
   "outputs": [],
   "source": []
  },
  {
   "cell_type": "code",
   "execution_count": null,
   "id": "7333d237-0e61-45c1-85df-bfdd1dcb7987",
   "metadata": {},
   "outputs": [],
   "source": []
  },
  {
   "cell_type": "code",
   "execution_count": null,
   "id": "279732cc-6ab7-4dd5-b190-f5bbf5bd05f9",
   "metadata": {},
   "outputs": [],
   "source": []
  },
  {
   "cell_type": "code",
   "execution_count": null,
   "id": "b1311f70-e3d5-47fd-92b0-c6ff619b230c",
   "metadata": {},
   "outputs": [],
   "source": []
  },
  {
   "cell_type": "code",
   "execution_count": null,
   "id": "3c6111f4-c915-4d73-9edc-1661a9746484",
   "metadata": {},
   "outputs": [],
   "source": []
  },
  {
   "cell_type": "code",
   "execution_count": null,
   "id": "a7cc683c-263a-4499-b187-c567eeb556e7",
   "metadata": {},
   "outputs": [],
   "source": []
  },
  {
   "cell_type": "code",
   "execution_count": null,
   "id": "53c1f73b-cf32-4212-b0d2-3d034982a19e",
   "metadata": {},
   "outputs": [],
   "source": []
  }
 ],
 "metadata": {
  "kernelspec": {
   "display_name": "Python 3 (ipykernel)",
   "language": "python",
   "name": "python3"
  },
  "language_info": {
   "codemirror_mode": {
    "name": "ipython",
    "version": 3
   },
   "file_extension": ".py",
   "mimetype": "text/x-python",
   "name": "python",
   "nbconvert_exporter": "python",
   "pygments_lexer": "ipython3",
   "version": "3.9.12"
  }
 },
 "nbformat": 4,
 "nbformat_minor": 5
}
