{
 "cells": [
  {
   "cell_type": "markdown",
   "id": "5f21329d-d987-4a92-8ee6-763b29dfae3c",
   "metadata": {},
   "source": [
    "# 条件判断"
   ]
  },
  {
   "cell_type": "code",
   "execution_count": 4,
   "id": "dba1c2f7-1ebc-47c6-9bae-53709e888063",
   "metadata": {},
   "outputs": [
    {
     "data": {
      "text/plain": [
       "2"
      ]
     },
     "execution_count": 4,
     "metadata": {},
     "output_type": "execute_result"
    }
   ],
   "source": [
    "a = 1\n",
    "b = 2\n",
    "\n",
    "# 第一种写法\n",
    "if a < b:\n",
    "    c = b\n",
    "else:\n",
    "    c = a\n",
    "\n",
    "# 第二种写法\n",
    "# c = [a, b][a < b]\n",
    "\n",
    "c"
   ]
  },
  {
   "cell_type": "markdown",
   "id": "e1af4762-4d48-4df4-8666-d2c88ff1c49d",
   "metadata": {},
   "source": [
    "# zip函数\n",
    "- zip函数可以将任意多的”序列“类型数据结合起来，生成新序列数据。生成的新序列数据中，每个元素都是一个元组。\n",
    "- 该元组的元素的元素是由传入zip函数中的多个序列数据的元素组成。\n",
    "- 当zip对象被转化为元组货列表后，就会自动销毁，再使用将得不到具体的元素\n",
    "- zip对象可以通过在前面加个字符*的方式来完成unzip（将zip生成的数据返回）\n",
    "- zip里会以最短的序列数据为主"
   ]
  },
  {
   "cell_type": "markdown",
   "id": "94d988ee-ccd0-4e93-8f96-3aed4273f75e",
   "metadata": {},
   "source": [
    "# enumerate函数\n",
    "- 将”序列“类型的数据生成带序号的新序列数据\n",
    "- 生成的新序列中，每个元素都是一个元组，该元组是由传入enoumerate函数中序列的元素与其对应的索引组成的"
   ]
  },
  {
   "cell_type": "markdown",
   "id": "3c98bad0-eb46-497e-a362-f24183cf08c9",
   "metadata": {},
   "source": [
    "# pass\n",
    "- 该语句什么都不做，是为了保持程序结构的完整性。常用在语法上需要一条语句但又不需要任何操作的情况下"
   ]
  },
  {
   "cell_type": "markdown",
   "id": "0eba529b-a8c1-4ef7-9f35-5157b82bd0a3",
   "metadata": {},
   "source": [
    "# 列表推导式\n",
    "- 创建列表的方法\n",
    "- 当需要对一个序列数据中的每个元素做一些操作，并将操作后的结果作为新列表的元素"
   ]
  },
  {
   "cell_type": "code",
   "execution_count": null,
   "id": "1205cc09-6d89-4cf1-964b-673a810a17df",
   "metadata": {},
   "outputs": [],
   "source": []
  },
  {
   "cell_type": "code",
   "execution_count": null,
   "id": "125a18db-454a-4fc7-bc3b-b369b763fc5b",
   "metadata": {},
   "outputs": [],
   "source": []
  },
  {
   "cell_type": "code",
   "execution_count": null,
   "id": "5fb1f094-7bb0-4776-be76-220e895ff413",
   "metadata": {},
   "outputs": [],
   "source": []
  },
  {
   "cell_type": "code",
   "execution_count": null,
   "id": "50907a03-385f-4738-a4aa-6c6ef31cdf74",
   "metadata": {},
   "outputs": [],
   "source": []
  }
 ],
 "metadata": {
  "kernelspec": {
   "display_name": "Python 3 (ipykernel)",
   "language": "python",
   "name": "python3"
  },
  "language_info": {
   "codemirror_mode": {
    "name": "ipython",
    "version": 3
   },
   "file_extension": ".py",
   "mimetype": "text/x-python",
   "name": "python",
   "nbconvert_exporter": "python",
   "pygments_lexer": "ipython3",
   "version": "3.9.12"
  }
 },
 "nbformat": 4,
 "nbformat_minor": 5
}
