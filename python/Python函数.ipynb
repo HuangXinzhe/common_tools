{
 "cells": [
  {
   "cell_type": "markdown",
   "id": "b83aabc1-b4d0-4f39-a358-fce800fb9c63",
   "metadata": {},
   "source": [
    "# 文档字符串\n",
    "- 在函数体中开始位置放置一个多行字符串，用来说明函数的功能及调用方法\n",
    "- 使用print(函数名.__doc__)将其输出\n",
    "- 文档字符串主要用于描述函数的相关信息，以便用户更好地浏览和输出"
   ]
  },
  {
   "cell_type": "markdown",
   "id": "5efab4c2-d273-491f-b767-601b17b6049e",
   "metadata": {},
   "source": [
    "# 在调用时，使用_来接收不需要的返回值\n",
    "personname,_ = getrecoder()"
   ]
  },
  {
   "cell_type": "markdown",
   "id": "98e7a5c2-5b2a-4c68-87c5-bd0ef6be74d9",
   "metadata": {},
   "source": [
    "# 函数属性\n",
    "- 每个函数都有个默认的字典__dict__，用于防止函数的属性\n",
    "- 使用\n",
    "    - 函数名.__dict__\n",
    "    - 函数名.具体属性名"
   ]
  },
  {
   "cell_type": "markdown",
   "id": "82dd6910-6a78-4790-a979-5526ceacf113",
   "metadata": {},
   "source": [
    "# 函数的本质\n",
    "- 函数的本质是对象\n",
    "- 可以被调用的函数会继承可调用方法call，可以使用函数callable来检查某函数是否可以被调用\n",
    "- callable(函数名)"
   ]
  },
  {
   "cell_type": "markdown",
   "id": "548de993-1172-473e-8bf0-c80e1195dab9",
   "metadata": {},
   "source": [
    "# 星号方式定义参数与调用方式\n",
    "- redocer(strname, *, age)\n",
    "- 在星号后面的参数都必须要指定参数名称"
   ]
  },
  {
   "cell_type": "markdown",
   "id": "b63e8cf9-1dae-49a0-b71f-8595ea1e5ce0",
   "metadata": {},
   "source": [
    "# 带默认实参的列表方式\n",
    "- 有默认值的形参时，必须没有默认值的形参后面"
   ]
  },
  {
   "cell_type": "markdown",
   "id": "222f8517-32a4-451f-a010-7eab0262df62",
   "metadata": {},
   "source": [
    "# 传入任意多参数\n",
    "- recoder(*person)，接收实参并转为元组\n",
    "- recoder(**person)，接收实参并转为字典"
   ]
  },
  {
   "cell_type": "markdown",
   "id": "319a417b-900e-4fc0-ab85-a797a6c40b10",
   "metadata": {},
   "source": [
    "# 检查变量类型\n",
    "- isinstance(obj, class_or_tuple)\n",
    "- obj：待检查的具体对象\n",
    "- class_or_tuple：待检查的具体类型"
   ]
  },
  {
   "cell_type": "markdown",
   "id": "a8e1d0a2-abf0-4bae-8019-62af2a0e7123",
   "metadata": {},
   "source": [
    "# 匿名函数\n",
    "- 一般适用于单行代码函数\n",
    "- 作用是把某一简单功能的代码封装起来，让整体代码更规整一些。一般只调用一次就不再需要，所以名字也省略了\n",
    "- 以关键词lambda开始\n",
    "    - lambda 参数1, 参数2...:表达式"
   ]
  },
  {
   "cell_type": "markdown",
   "id": "9afbd996-552f-465d-84e5-c09d9cb43765",
   "metadata": {},
   "source": [
    "# 递归函数\n",
    "- 能用循环就不要用递归，防止因为栈满导致的程序崩溃"
   ]
  },
  {
   "cell_type": "markdown",
   "id": "4e381495-d26f-4efb-9dc6-8d1d23f35c98",
   "metadata": {},
   "source": [
    "# eval与exec函数\n",
    "- 都可以执行一个字符串形式的Python代码\n",
    "- 区别在于eval执行完药返回结果，exec执行完不返回结果\n",
    "- 函数参数\n",
    "    - expression：输入的字符串\n",
    "    - globals：全局命名空间\n",
    "    - locals：局部命名空间\n",
    "    - 当同时存在globals和locals时以locals为准，默认为globals    "
   ]
  },
  {
   "cell_type": "markdown",
   "id": "18129420-6101-427b-9429-dc40b63f1e36",
   "metadata": {},
   "source": [
    "# 生成器与迭代器的区别\n",
    "- 迭代器所有的内容都在内容中，使用next函数类依次往下遍历\n",
    "- 生成器不把内容放在内存里，每次调用next函数时，返回的是本次计算出来的那个元素，用完之后立刻销毁"
   ]
  },
  {
   "cell_type": "markdown",
   "id": "645fe4a2-ee00-4586-9b1e-e3d00a876e5f",
   "metadata": {},
   "source": [
    "# 生成器\n",
    "- 生成器函数使用yield语句返回\n",
    "- 返回值是一个生成器对象"
   ]
  },
  {
   "cell_type": "markdown",
   "id": "0613cf84-c590-427d-a0e2-cf17718d5117",
   "metadata": {},
   "source": [
    "# 生成器表达式\n",
    "- 列表表达式的方括号换为圆括号则为生成器表达式"
   ]
  },
  {
   "cell_type": "code",
   "execution_count": null,
   "id": "1d5d5790-37ff-44f7-93e6-4967ba070010",
   "metadata": {},
   "outputs": [],
   "source": []
  },
  {
   "cell_type": "code",
   "execution_count": null,
   "id": "22d593bd-ad31-45ad-aee0-49501e232e6c",
   "metadata": {},
   "outputs": [],
   "source": []
  }
 ],
 "metadata": {
  "kernelspec": {
   "display_name": "Python 3 (ipykernel)",
   "language": "python",
   "name": "python3"
  },
  "language_info": {
   "codemirror_mode": {
    "name": "ipython",
    "version": 3
   },
   "file_extension": ".py",
   "mimetype": "text/x-python",
   "name": "python",
   "nbconvert_exporter": "python",
   "pygments_lexer": "ipython3",
   "version": "3.9.12"
  }
 },
 "nbformat": 4,
 "nbformat_minor": 5
}
