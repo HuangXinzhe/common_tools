{
 "cells": [
  {
   "cell_type": "markdown",
   "id": "640d45ee-f7ff-486a-9ba4-8997434d629d",
   "metadata": {},
   "source": [
    "# 变量的本质——对象\n",
    "- Python内部使用了一个对象模型，用来存储变量及其对应的变量及其对应的数据\n",
    "- Python内部的对象模型由3部分组成：身份、类型和值\n",
    "    - 身份：\n",
    "        - 用来标识对象的唯一标识\n",
    "        - 通过调用函数id可以得到它\n",
    "        - 这个身份标识值可以被理解成该对象的内存地址\n",
    "    - 类型：\n",
    "        - 用来表明对象可以存放的类型\n",
    "    - 值：\n",
    "        - 对象所存储的具体数值"
   ]
  },
  {
   "cell_type": "markdown",
   "id": "0e29a925-e9e7-4414-893b-875db3cfeb2b",
   "metadata": {},
   "source": [
    "# 变量类型的帮助函数\n",
    "- Python中内置了两个帮助函数\n",
    "    - dir:\n",
    "        - 用来查询类或者类型的所有属性，如dir(list)\n",
    "    - help:\n",
    "        - 用来查询类或者类型具体的说明文档，如help(int)"
   ]
  },
  {
   "cell_type": "markdown",
   "id": "8be23934-188b-491e-b893-c2a95338aa61",
   "metadata": {},
   "source": [
    "# 比较运算符的优先级会比算术运算符低\n",
    "# 尽管Python内部有优先级规则，但还是建议在写的时候在需要的地方加上括号，可以使得代码具有更好的可读性，代码易读，最大程度地消除代码歧义"
   ]
  },
  {
   "cell_type": "markdown",
   "id": "b361be21-adb3-46de-b442-3d4a9ddad428",
   "metadata": {},
   "source": [
    "# is函数\n",
    "- 比较两个对象所在的内存是否相等"
   ]
  },
  {
   "cell_type": "markdown",
   "id": "2771a553-65ee-4eae-962d-148dafd45d1d",
   "metadata": {},
   "source": [
    "# 赋值\n",
    "- 在Python中，等号赋值是指直接将对象的内存指针赋值"
   ]
  },
  {
   "cell_type": "markdown",
   "id": "44127b0d-b981-46b8-a768-1b2a774d6018",
   "metadata": {},
   "source": [
    "# strings（字符串）类型\n",
    "- 字符串类型属于Python中”序列“（sequence）类型的一种\n",
    "- ”序列“类型可以理解成由一个容器和容器中的元素组成的结构体，其中的元素是有一定顺序的\n",
    "- 字符串类型像一个数组，按照一定顺序放置着一个个的字符"
   ]
  },
  {
   "cell_type": "markdown",
   "id": "aa758a97-f963-418d-853f-9df77738005d",
   "metadata": {},
   "source": [
    "# 单行字符串与多行字符串\n",
    "- 单行字符串在逻辑处理方面用得比较多\n",
    "- 多行字符串常用作大段的函数说明，或是对文件或类的说明，有时也会用作以块的方式注释代码"
   ]
  },
  {
   "cell_type": "markdown",
   "id": "d26ff308-4aba-4783-90cb-a2a74cd4168f",
   "metadata": {},
   "source": [
    "# 将包含转义的字符串转换成原字符串\n",
    "- repr(str)函数\n",
    "- 在字符串前加r或R"
   ]
  },
  {
   "cell_type": "markdown",
   "id": "1b61b666-e632-4888-bfc7-90c6fa717faa",
   "metadata": {},
   "source": [
    "# 查看字符串的方法\n",
    "- dir(str)"
   ]
  },
  {
   "cell_type": "markdown",
   "id": "09dfc337-c7a7-40f3-8dbd-0673808d08dd",
   "metadata": {},
   "source": [
    "# 列表\n",
    "- 列表是一个有序集合，与字符串一样，都属于”序列“类型\n",
    "- 在实际过程中，这些内存只是被标为无效，并不是 真正地被系统回收进行二次使用。使用gc库让系统回收这些可用的内存地址"
   ]
  },
  {
   "cell_type": "code",
   "execution_count": null,
   "id": "61f79b18-afed-4f94-b9db-0188ac76964c",
   "metadata": {},
   "outputs": [],
   "source": [
    "import gc  # 引入gc库\n",
    "del list1  # 删除list1\n",
    "gc.collect()  # 回收内存地址"
   ]
  },
  {
   "cell_type": "markdown",
   "id": "65357561-19c7-47e2-97c5-b6a42a0f0772",
   "metadata": {},
   "source": [
    "# format函数\n",
    "- 变量mylist和mytuple的前面加了个符号*，这个*是解包参数列表，即将tuple或list中的内容解包出来，作为参数传入到函数format中。"
   ]
  },
  {
   "cell_type": "markdown",
   "id": "13b5acac-bf49-459f-8bd1-004fc93dd87e",
   "metadata": {},
   "source": [
    "# 不可变集合（frozenset）\n",
    "- 在取值上，不可变集合与集合是一样的。\n",
    "- 不同的是，frozenset里的值不能被改变。"
   ]
  },
  {
   "cell_type": "markdown",
   "id": "83030e53-84d0-483e-aa69-833782695e2b",
   "metadata": {},
   "source": [
    "# 浅拷贝与深拷贝\n",
    "## 浅拷贝\n",
    "- 创建一个新的对象，其内容是源对象中的元素的引用。所有组合对象被创建并赋值的过程，属于浅拷贝\n",
    "## 深拷贝\n",
    "- 创建一个新对象并对其赋值时，原对象中的所有元素都会在新对象重新创建一次 "
   ]
  },
  {
   "cell_type": "code",
   "execution_count": null,
   "id": "dc7e056e-094b-45df-b946-61274a4064fe",
   "metadata": {},
   "outputs": [],
   "source": []
  }
 ],
 "metadata": {
  "kernelspec": {
   "display_name": "Python 3 (ipykernel)",
   "language": "python",
   "name": "python3"
  },
  "language_info": {
   "codemirror_mode": {
    "name": "ipython",
    "version": 3
   },
   "file_extension": ".py",
   "mimetype": "text/x-python",
   "name": "python",
   "nbconvert_exporter": "python",
   "pygments_lexer": "ipython3",
   "version": "3.9.12"
  }
 },
 "nbformat": 4,
 "nbformat_minor": 5
}
