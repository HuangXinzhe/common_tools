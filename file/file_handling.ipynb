{
 "cells": [
  {
   "cell_type": "markdown",
   "id": "8dc5ae6d",
   "metadata": {},
   "source": [
    "# 1、获取当前文件夹路径、当前文件夹下子文件夹和当前文件夹下文件"
   ]
  },
  {
   "cell_type": "code",
   "execution_count": 1,
   "id": "4d4345d5",
   "metadata": {},
   "outputs": [],
   "source": [
    "import os  \n",
    "       \n",
    "def file_name(file_dir):   \n",
    "    \"\"\"get root,dirs and files\n",
    "    \n",
    "    1.Gets the current directory path\n",
    "    2.Gets all subdirectories under the current path\n",
    "    3.Gets all non-directory subfiles under the current path\n",
    "    \n",
    "    Args:\n",
    "        file_dir:The current path\n",
    "    \n",
    "    Returns:\n",
    "        You can change the code to choose the return you want.\n",
    "        1.root:current directory path and return a string\n",
    "        2.dirs:all subdirectories under the current path and return a list\n",
    "        3.files:all non-directory subfiles under the current path adn return a list\n",
    "    \"\"\"\n",
    "    \n",
    "    for root, dirs, files in os.walk(file_dir):  \n",
    "        print(root)  # 当前目录路径  \n",
    "        print(dirs)  # 当前路径下所有子目录  \n",
    "        print(files)  # 当前路径下所有非目录子文件\n",
    "        \n",
    "        return files"
   ]
  },
  {
   "cell_type": "code",
   "execution_count": 2,
   "id": "c1d88f4b",
   "metadata": {},
   "outputs": [
    {
     "name": "stdout",
     "output_type": "stream",
     "text": [
      "C:\\Users\\86183\\Desktop\\简历项目资料\n",
      "['其他论文', '简历项目论文']\n",
      "['~$特征工程.docx', '数据标注.docx', '特征工程.docx', '项目问题.docx']\n"
     ]
    },
    {
     "data": {
      "text/plain": [
       "['~$特征工程.docx', '数据标注.docx', '特征工程.docx', '项目问题.docx']"
      ]
     },
     "execution_count": 2,
     "metadata": {},
     "output_type": "execute_result"
    }
   ],
   "source": [
    "file_name(r'C:\\Users\\86183\\Desktop\\简历项目资料')"
   ]
  }
 ],
 "metadata": {
  "kernelspec": {
   "display_name": "Python 3",
   "language": "python",
   "name": "python3"
  },
  "language_info": {
   "codemirror_mode": {
    "name": "ipython",
    "version": 3
   },
   "file_extension": ".py",
   "mimetype": "text/x-python",
   "name": "python",
   "nbconvert_exporter": "python",
   "pygments_lexer": "ipython3",
   "version": "3.7.11"
  }
 },
 "nbformat": 4,
 "nbformat_minor": 5
}
