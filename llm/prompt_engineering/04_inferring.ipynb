{
 "cells": [
  {
   "cell_type": "markdown",
   "id": "437f15ca-8f3b-4ab4-8cab-4c702e6a0821",
   "metadata": {},
   "source": [
    "# 推理\n",
    "大模型的好处是只需要编写提示即可立即开始生成结果"
   ]
  },
  {
   "cell_type": "code",
   "execution_count": null,
   "id": "49747edf-14ac-4684-b86f-7f84d30908ac",
   "metadata": {},
   "outputs": [],
   "source": [
    "import openai\n",
    "import os\n",
    "\n",
    "from dotenv import load_dotenv, find_dotenv\n",
    "_ = load_dotenv(find_dotenv()) # read local .env file\n",
    "\n",
    "openai.api_key  = os.getenv('OPENAI_API_KEY')"
   ]
  },
  {
   "cell_type": "code",
   "execution_count": null,
   "id": "852a01b4-24ed-448f-ac50-4f25c138301e",
   "metadata": {},
   "outputs": [],
   "source": [
    "def get_completion(prompt, model=\"gpt-3.5-turbo\"):\n",
    "    messages = [{\"role\": \"user\", \"content\": prompt}]\n",
    "    response = openai.ChatCompletion.create(\n",
    "        model=model,\n",
    "        messages=messages,\n",
    "        temperature=0, # this is the degree of randomness of the model's output\n",
    "    )\n",
    "    return response.choices[0].message[\"content\"]"
   ]
  },
  {
   "cell_type": "markdown",
   "id": "a439f565-f50d-468b-bed3-35b13c2ce880",
   "metadata": {},
   "source": [
    "## 产品评论文本"
   ]
  },
  {
   "cell_type": "code",
   "execution_count": null,
   "id": "65eff59f-66f4-474e-b04e-c336c1aae246",
   "metadata": {},
   "outputs": [],
   "source": [
    "lamp_review = \"\"\"\n",
    "Needed a nice lamp for my bedroom, and this one had \\\n",
    "additional storage and not too high of a price point. \\\n",
    "Got it fast.  The string to our lamp broke during the \\\n",
    "transit and the company happily sent over a new one. \\\n",
    "Came within a few days as well. It was easy to put \\\n",
    "together.  I had a missing part, so I contacted their \\\n",
    "support and they very quickly got me the missing piece! \\\n",
    "Lumina seems to me to be a great company that cares \\\n",
    "about their customers and products!!\n",
    "\"\"\""
   ]
  },
  {
   "cell_type": "markdown",
   "id": "6e3823f8-d880-45a0-aee9-62819268abde",
   "metadata": {},
   "source": [
    "## 编写提示，对此进行情感分类"
   ]
  },
  {
   "cell_type": "code",
   "execution_count": null,
   "id": "db3523be-2387-4ee8-9a72-9da09828e897",
   "metadata": {},
   "outputs": [],
   "source": [
    "prompt = f\"\"\"\n",
    "What is the sentiment of the following product review, \n",
    "which is delimited with triple backticks?\n",
    "\n",
    "Review text: '''{lamp_review}'''\n",
    "\"\"\"\n",
    "response = get_completion(prompt)\n",
    "print(response)"
   ]
  },
  {
   "cell_type": "code",
   "execution_count": null,
   "id": "556994db-b5e8-4f1c-8660-7eb8695cf275",
   "metadata": {},
   "outputs": [],
   "source": [
    "\"\"\"\n",
    "The sentiment of the product review is positive.\n",
    "\"\"\""
   ]
  },
  {
   "cell_type": "markdown",
   "id": "67a7a078-be98-4f8c-ae9a-19242c3818fb",
   "metadata": {},
   "source": [
    "### 可以编写更简洁的提示获得情感分类的结果"
   ]
  },
  {
   "cell_type": "code",
   "execution_count": null,
   "id": "ccd9181f-44e3-432b-bae0-ddecc464f8f9",
   "metadata": {},
   "outputs": [],
   "source": [
    "prompt = f\"\"\"\n",
    "What is the sentiment of the following product review, \n",
    "which is delimited with triple backticks?\n",
    "\n",
    "Give your answer as a single word, either \"positive\" \\\n",
    "or \"negative\".\n",
    "\n",
    "Review text: '''{lamp_review}'''\n",
    "\"\"\"\n",
    "response = get_completion(prompt)\n",
    "print(response)"
   ]
  },
  {
   "cell_type": "code",
   "execution_count": null,
   "id": "1d2b9270-8eb4-4019-b136-c808692f5645",
   "metadata": {},
   "outputs": [],
   "source": [
    "\"\"\"\n",
    "positive\n",
    "\"\"\""
   ]
  },
  {
   "cell_type": "markdown",
   "id": "098bf433-4bab-4d89-9857-ed2804cc93b5",
   "metadata": {},
   "source": [
    "## 识别作者在评论中表达的情感列表"
   ]
  },
  {
   "cell_type": "code",
   "execution_count": null,
   "id": "9420e6c3-df9c-4114-b926-00d51581ecbd",
   "metadata": {},
   "outputs": [],
   "source": [
    "prompt = f\"\"\"\n",
    "Identify a list of emotions that the writer of the \\\n",
    "following review is expressing. Include no more than \\\n",
    "five items in the list. Format your answer as a list of \\\n",
    "lower-case words separated by commas.\n",
    "\n",
    "Review text: '''{lamp_review}'''\n",
    "\"\"\"\n",
    "response = get_completion(prompt)\n",
    "print(response)"
   ]
  },
  {
   "cell_type": "code",
   "execution_count": null,
   "id": "a9daf1fb-94bd-44db-8d91-b3981cee49fd",
   "metadata": {},
   "outputs": [],
   "source": [
    "\"\"\"\n",
    "happy, satisfied, grateful, impressed, content\n",
    "\"\"\""
   ]
  },
  {
   "cell_type": "markdown",
   "id": "ea1769db-49db-4090-be75-5ad73cdc490b",
   "metadata": {},
   "source": [
    "### 识别不满"
   ]
  },
  {
   "cell_type": "code",
   "execution_count": null,
   "id": "3bffe4dd-a10f-4136-b8ed-76523b7640f2",
   "metadata": {},
   "outputs": [],
   "source": [
    "prompt = f\"\"\"\n",
    "Is the writer of the following review expressing anger?\\\n",
    "The review is delimited with triple backticks. \\\n",
    "Give your answer as either yes or no.\n",
    "\n",
    "Review text: '''{lamp_review}'''\n",
    "\"\"\"\n",
    "response = get_completion(prompt)\n",
    "print(response)"
   ]
  },
  {
   "cell_type": "code",
   "execution_count": null,
   "id": "ee371ca4-7e4c-4a92-8853-47d5527358ee",
   "metadata": {},
   "outputs": [],
   "source": [
    "\"\"\"\n",
    "No\n",
    "\"\"\""
   ]
  },
  {
   "cell_type": "markdown",
   "id": "f293516b-dbc6-47fe-9ed1-ea2a77789b7e",
   "metadata": {},
   "source": [
    "## 信息抽取"
   ]
  },
  {
   "cell_type": "code",
   "execution_count": null,
   "id": "6f11e9b5-3dcf-4917-8120-111361e201f5",
   "metadata": {},
   "outputs": [],
   "source": [
    "prompt = f\"\"\"\n",
    "Identify the following items from the review text: \n",
    "- Item purchased by reviewer\n",
    "- Company that made the item\n",
    "\n",
    "The review is delimited with triple backticks. \\\n",
    "Format your response as a JSON object with \\\n",
    "\"Item\" and \"Brand\" as the keys. \n",
    "If the information isn't present, use \"unknown\" \\\n",
    "as the value.\n",
    "Make your response as short as possible.\n",
    "  \n",
    "Review text: '''{lamp_review}'''\n",
    "\"\"\"\n",
    "response = get_completion(prompt)\n",
    "print(response)"
   ]
  },
  {
   "cell_type": "code",
   "execution_count": null,
   "id": "80568be1-29f9-45dc-a3a7-0997b4b0bd2f",
   "metadata": {},
   "outputs": [],
   "source": [
    "\"\"\"\n",
    "{\n",
    "  \"Item\": \"lamp\",\n",
    "  \"Brand\": \"Lumina\"\n",
    "}\n",
    "\"\"\""
   ]
  },
  {
   "cell_type": "markdown",
   "id": "a636e5fa-90b2-4532-9554-aa9989acfb68",
   "metadata": {},
   "source": [
    "## 一次提示完成多个任务"
   ]
  },
  {
   "cell_type": "code",
   "execution_count": null,
   "id": "d53996e7-ebd7-40aa-bc86-cbf95e92e620",
   "metadata": {},
   "outputs": [],
   "source": [
    "prompt = f\"\"\"\n",
    "Identify the following items from the review text: \n",
    "- Sentiment (positive or negative)\n",
    "- Is the reviewer expressing anger? (true or false)\n",
    "- Item purchased by reviewer\n",
    "- Company that made the item\n",
    "\n",
    "The review is delimited with triple backticks. \\\n",
    "Format your response as a JSON object with \\\n",
    "\"Sentiment\", \"Anger\", \"Item\" and \"Brand\" as the keys.\n",
    "If the information isn't present, use \"unknown\" \\\n",
    "as the value.\n",
    "Make your response as short as possible.\n",
    "Format the Anger value as a boolean.\n",
    "\n",
    "Review text: '''{lamp_review}'''\n",
    "\"\"\"\n",
    "response = get_completion(prompt)\n",
    "print(response)"
   ]
  },
  {
   "cell_type": "code",
   "execution_count": null,
   "id": "17352001-69d6-40dc-819f-a4943c0c0cfb",
   "metadata": {},
   "outputs": [],
   "source": [
    "\"\"\"\n",
    "{\n",
    "  \"Sentiment\": \"positive\",\n",
    "  \"Anger\": false,\n",
    "  \"Item\": \"lamp with additional storage\",\n",
    "  \"Brand\": \"Lumina\"\n",
    "}\n",
    "\"\"\""
   ]
  },
  {
   "cell_type": "markdown",
   "id": "1fdbfa4d-d43f-4cb8-ae49-42a673c50933",
   "metadata": {},
   "source": [
    "## 判断长文本是关于什么的"
   ]
  },
  {
   "cell_type": "code",
   "execution_count": null,
   "id": "f9dde5ad-8444-4114-bc1c-dadc38ee5efa",
   "metadata": {},
   "outputs": [],
   "source": [
    "# 虚构的新闻文章\n",
    "story = \"\"\"\n",
    "In a recent survey conducted by the government, \n",
    "public sector employees were asked to rate their level \n",
    "of satisfaction with the department they work at. \n",
    "The results revealed that NASA was the most popular \n",
    "department with a satisfaction rating of 95%.\n",
    "\n",
    "One NASA employee, John Smith, commented on the findings, \n",
    "stating, \"I'm not surprised that NASA came out on top. \n",
    "It's a great place to work with amazing people and \n",
    "incredible opportunities. I'm proud to be a part of \n",
    "such an innovative organization.\"\n",
    "\n",
    "The results were also welcomed by NASA's management team, \n",
    "with Director Tom Johnson stating, \"We are thrilled to \n",
    "hear that our employees are satisfied with their work at NASA. \n",
    "We have a talented and dedicated team who work tirelessly \n",
    "to achieve our goals, and it's fantastic to see that their \n",
    "hard work is paying off.\"\n",
    "\n",
    "The survey also revealed that the \n",
    "Social Security Administration had the lowest satisfaction \n",
    "rating, with only 45% of employees indicating they were \n",
    "satisfied with their job. The government has pledged to \n",
    "address the concerns raised by employees in the survey and \n",
    "work towards improving job satisfaction across all departments.\n",
    "\"\"\""
   ]
  },
  {
   "cell_type": "markdown",
   "id": "1247bf89-222c-4d1c-bf8a-b3ee7cb86628",
   "metadata": {},
   "source": [
    "### 推断5个主题"
   ]
  },
  {
   "cell_type": "code",
   "execution_count": null,
   "id": "7e1cc399-dfc5-4ed7-816f-3eb33d71d738",
   "metadata": {},
   "outputs": [],
   "source": [
    "prompt = f\"\"\"\n",
    "Determine five topics that are being discussed in the \\\n",
    "following text, which is delimited by triple backticks.\n",
    "\n",
    "Make each item one or two words long. \n",
    "\n",
    "Format your response as a list of items separated by commas.\n",
    "\n",
    "Text sample: '''{story}'''\n",
    "\"\"\"\n",
    "response = get_completion(prompt)\n",
    "print(response)"
   ]
  },
  {
   "cell_type": "code",
   "execution_count": null,
   "id": "67d1e5f9-451a-4511-aacf-f0f1a017ec4e",
   "metadata": {},
   "outputs": [],
   "source": [
    "\"\"\"\n",
    "government survey, job satisfaction, NASA, Social Security Administration, employee concerns\n",
    "\"\"\""
   ]
  },
  {
   "cell_type": "code",
   "execution_count": null,
   "id": "458fece1-77f0-4704-8451-910993b1c073",
   "metadata": {},
   "outputs": [],
   "source": [
    "response.split(sep=',')"
   ]
  },
  {
   "cell_type": "code",
   "execution_count": null,
   "id": "6b6b708c-fc5f-41dc-9b9f-85c2ba6ffe4c",
   "metadata": {},
   "outputs": [],
   "source": [
    "\"\"\"\n",
    "['government survey',\n",
    " ' job satisfaction',\n",
    " ' NASA',\n",
    " ' Social Security Administration',\n",
    " ' employee concerns']\n",
    "\"\"\""
   ]
  },
  {
   "cell_type": "code",
   "execution_count": null,
   "id": "264f8c0c-1af4-41ee-a354-864701b5fc0c",
   "metadata": {},
   "outputs": [],
   "source": [
    "topic_list = [\n",
    "    \"nasa\", \"local government\", \"engineering\", \n",
    "    \"employee satisfaction\", \"federal government\"\n",
    "]"
   ]
  },
  {
   "cell_type": "markdown",
   "id": "b542c9e7-97d0-44e0-a22e-3a45ebf14996",
   "metadata": {},
   "source": [
    "## 零样本学习"
   ]
  },
  {
   "cell_type": "code",
   "execution_count": null,
   "id": "cf2efb85-6a85-4033-8a82-df0a73b781ef",
   "metadata": {},
   "outputs": [],
   "source": [
    "prompt = f\"\"\"\n",
    "Determine whether each item in the following list of \\\n",
    "topics is a topic in the text below, which\n",
    "is delimited with triple backticks.\n",
    "\n",
    "Give your answer as list with 0 or 1 for each topic.\\\n",
    "\n",
    "List of topics: {\", \".join(topic_list)}\n",
    "\n",
    "Text sample: '''{story}'''\n",
    "\"\"\"\n",
    "response = get_completion(prompt)\n",
    "print(response)"
   ]
  },
  {
   "cell_type": "code",
   "execution_count": null,
   "id": "b1df69c8-c02a-4642-9914-21bdfc089f65",
   "metadata": {},
   "outputs": [],
   "source": [
    "\"\"\"\n",
    "nasa: 1\n",
    "local government: 0\n",
    "engineering: 0\n",
    "employee satisfaction: 1\n",
    "federal government: 1\n",
    "\"\"\""
   ]
  },
  {
   "cell_type": "code",
   "execution_count": null,
   "id": "bac3df89-b642-4fb8-b885-bdf7359f1fdc",
   "metadata": {},
   "outputs": [],
   "source": [
    "# 为特定的主题设置提醒\n",
    "topic_dict = {i.split(': ')[0]: int(i.split(': ')[1]) for i in response.split(sep='\\n')}\n",
    "if topic_dict['nasa'] == 1:\n",
    "    print(\"ALERT: New NASA story!\")"
   ]
  },
  {
   "cell_type": "code",
   "execution_count": null,
   "id": "4a08a0b9-4d05-4bb5-8f08-c151987aaa98",
   "metadata": {},
   "outputs": [],
   "source": [
    "\"\"\"\n",
    "ALERT: New NASA story!\n",
    "\"\"\""
   ]
  },
  {
   "cell_type": "code",
   "execution_count": null,
   "id": "ccc65680-f2c6-4954-b330-f22262c1759b",
   "metadata": {},
   "outputs": [],
   "source": []
  },
  {
   "cell_type": "code",
   "execution_count": null,
   "id": "38e1b759-7419-42f0-b4e6-eec8fbbc248a",
   "metadata": {},
   "outputs": [],
   "source": []
  },
  {
   "cell_type": "code",
   "execution_count": null,
   "id": "1ad787a0-1bcb-46bd-b371-ca83c09ba8ff",
   "metadata": {},
   "outputs": [],
   "source": []
  }
 ],
 "metadata": {
  "kernelspec": {
   "display_name": "Python 3 (ipykernel)",
   "language": "python",
   "name": "python3"
  },
  "language_info": {
   "codemirror_mode": {
    "name": "ipython",
    "version": 3
   },
   "file_extension": ".py",
   "mimetype": "text/x-python",
   "name": "python",
   "nbconvert_exporter": "python",
   "pygments_lexer": "ipython3",
   "version": "3.9.12"
  }
 },
 "nbformat": 4,
 "nbformat_minor": 5
}
