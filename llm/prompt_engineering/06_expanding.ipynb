{
 "cells": [
  {
   "cell_type": "markdown",
   "id": "321bdfd3-b6ee-4d53-9d29-af6d563ab5f5",
   "metadata": {},
   "source": [
    "# 扩展\n",
    "    将短文本（如一组说明或主题列表）通过大型语言模型转化成更长的文本（如一封电子邮件或一篇关于某个主题的文章）\n",
    "    可以将大型语言模型用作头脑风暴的伙伴"
   ]
  },
  {
   "cell_type": "code",
   "execution_count": null,
   "id": "5ae5838e-d0f1-417f-b918-78c850075f2c",
   "metadata": {},
   "outputs": [],
   "source": [
    "import openai\n",
    "import os\n",
    "\n",
    "from dotenv import load_dotenv, find_dotenv\n",
    "_ = load_dotenv(find_dotenv()) # read local .env file\n",
    "\n",
    "openai.api_key  = os.getenv('OPENAI_API_KEY')"
   ]
  },
  {
   "cell_type": "code",
   "execution_count": null,
   "id": "aea4ad05-881e-4559-876f-f935b581ef02",
   "metadata": {},
   "outputs": [],
   "source": [
    "def get_completion(prompt, model=\"gpt-3.5-turbo\",temperature=0): # Andrew mentioned that the prompt/ completion paradigm is preferable for this class\n",
    "    messages = [{\"role\": \"user\", \"content\": prompt}]\n",
    "    response = openai.ChatCompletion.create(\n",
    "        model=model,\n",
    "        messages=messages,\n",
    "        temperature=temperature, # this is the degree of randomness of the model's output\n",
    "    )\n",
    "    return response.choices[0].message[\"content\"]"
   ]
  },
  {
   "cell_type": "markdown",
   "id": "4fe1ba87-1b84-4687-b3f7-603bff1360e7",
   "metadata": {},
   "source": [
    "## 自定义的电子邮件回复\n",
    "根据客户的评论和情感，将生成一个定制的回复"
   ]
  },
  {
   "cell_type": "code",
   "execution_count": null,
   "id": "a72940b0-6532-424e-8bb2-8c836ca24c13",
   "metadata": {},
   "outputs": [],
   "source": [
    "# given the sentiment from the lesson on \"inferring\",\n",
    "# and the original customer message, customize the email\n",
    "sentiment = \"negative\"\n",
    "\n",
    "# review for a blender\n",
    "review = f\"\"\"\n",
    "So, they still had the 17 piece system on seasonal \\\n",
    "sale for around $49 in the month of November, about \\\n",
    "half off, but for some reason (call it price gouging) \\\n",
    "around the second week of December the prices all went \\\n",
    "up to about anywhere from between $70-$89 for the same \\\n",
    "system. And the 11 piece system went up around $10 or \\\n",
    "so in price also from the earlier sale price of $29. \\\n",
    "So it looks okay, but if you look at the base, the part \\\n",
    "where the blade locks into place doesn’t look as good \\\n",
    "as in previous editions from a few years ago, but I \\\n",
    "plan to be very gentle with it (example, I crush \\\n",
    "very hard items like beans, ice, rice, etc. in the \\ \n",
    "blender first then pulverize them in the serving size \\\n",
    "I want in the blender then switch to the whipping \\\n",
    "blade for a finer flour, and use the cross cutting blade \\\n",
    "first when making smoothies, then use the flat blade \\\n",
    "if I need them finer/less pulpy). Special tip when making \\\n",
    "smoothies, finely cut and freeze the fruits and \\\n",
    "vegetables (if using spinach-lightly stew soften the \\ \n",
    "spinach then freeze until ready for use-and if making \\\n",
    "sorbet, use a small to medium sized food processor) \\ \n",
    "that you plan to use that way you can avoid adding so \\\n",
    "much ice if at all-when making your smoothie. \\\n",
    "After about a year, the motor was making a funny noise. \\\n",
    "I called customer service but the warranty expired \\\n",
    "already, so I had to buy another one. FYI: The overall \\\n",
    "quality has gone done in these types of products, so \\\n",
    "they are kind of counting on brand recognition and \\\n",
    "consumer loyalty to maintain sales. Got it in about \\\n",
    "two days.\n",
    "\"\"\""
   ]
  },
  {
   "cell_type": "code",
   "execution_count": null,
   "id": "6adc51b5-23c5-4c67-8144-b49f248c25e3",
   "metadata": {},
   "outputs": [],
   "source": [
    "prompt = f\"\"\"\n",
    "You are a customer service AI assistant.\n",
    "Your task is to send an email reply to a valued customer.\n",
    "Given the customer email delimited by ```, \\\n",
    "Generate a reply to thank the customer for their review.\n",
    "If the sentiment is positive or neutral, thank them for \\\n",
    "their review.\n",
    "If the sentiment is negative, apologize and suggest that \\\n",
    "they can reach out to customer service. \n",
    "Make sure to use specific details from the review.\n",
    "Write in a concise and professional tone.\n",
    "Sign the email as `AI customer agent`.\n",
    "Customer review: ```{review}```\n",
    "Review sentiment: {sentiment}\n",
    "\"\"\"\n",
    "response = get_completion(prompt)\n",
    "print(response)"
   ]
  },
  {
   "cell_type": "code",
   "execution_count": null,
   "id": "622a23c7-ca88-4e24-b98d-9e9e6896d9f7",
   "metadata": {},
   "outputs": [],
   "source": [
    "\"\"\"\n",
    "Dear Valued Customer,\n",
    "\n",
    "Thank you for taking the time to leave a review about our product. We are sorry to hear that you experienced an increase in price and that the quality of the product did not meet your expectations. We apologize for any inconvenience this may have caused you.\n",
    "\n",
    "We would like to assure you that we take all feedback seriously and we will be sure to pass your comments along to our team. If you have any further concerns, please do not hesitate to reach out to our customer service team for assistance.\n",
    "\n",
    "Thank you again for your review and for choosing our product. We hope to have the opportunity to serve you better in the future.\n",
    "\n",
    "Best regards,\n",
    "\n",
    "AI customer agent\n",
    "\"\"\""
   ]
  },
  {
   "cell_type": "markdown",
   "id": "7e69684b-0ec5-4e27-bab7-a3339b83d0bc",
   "metadata": {},
   "source": [
    "## 语言模型参数，温度\n",
    "    允许改变模型响应的多样性\n",
    "    可以将温度是为模型的探索程度或随机性\n",
    "    一般来说，在构建需要可预测回复的应用程序时建议使用温度0\n",
    "    如果想以更优创意的方式使用模型，获得更广泛的不同输出可能需要更高的温度\n",
    "    温度为0时期望每次的结果都是一样的\n",
    "    温度为0.7每次都会得到不同的输出\n",
    "    在较高的温度下，模型的输出更随机，助手更容易分散注意力，但可能更有创造力"
   ]
  },
  {
   "cell_type": "code",
   "execution_count": null,
   "id": "124b1a29-1a09-4c2a-9b47-bd2e72dc00da",
   "metadata": {},
   "outputs": [],
   "source": [
    "prompt = f\"\"\"\n",
    "You are a customer service AI assistant.\n",
    "Your task is to send an email reply to a valued customer.\n",
    "Given the customer email delimited by ```, \\\n",
    "Generate a reply to thank the customer for their review.\n",
    "If the sentiment is positive or neutral, thank them for \\\n",
    "their review.\n",
    "If the sentiment is negative, apologize and suggest that \\\n",
    "they can reach out to customer service. \n",
    "Make sure to use specific details from the review.\n",
    "Write in a concise and professional tone.\n",
    "Sign the email as `AI customer agent`.\n",
    "Customer review: ```{review}```\n",
    "Review sentiment: {sentiment}\n",
    "\"\"\"\n",
    "response = get_completion(prompt, temperature=0.7)\n",
    "print(response)"
   ]
  },
  {
   "cell_type": "code",
   "execution_count": null,
   "id": "baa070a4-3391-4b1c-a6e5-dfcfd5b6b7fb",
   "metadata": {},
   "outputs": [],
   "source": [
    "\"\"\"\n",
    "Dear valued customer,\n",
    "\n",
    "Thank you for taking the time to leave your review. We apologize for any inconvenience you may have experienced with our pricing and the quality of our product. We take these concerns seriously, and we would like to help you in any way we can. Please feel free to reach out to our customer service team, who will be happy to assist you with any issues you may have.\n",
    "\n",
    "We appreciate your feedback and will use it to improve our products and services in the future. Thank you for your continued loyalty to our brand.\n",
    "\n",
    "Best regards,\n",
    "\n",
    "AI customer agent\n",
    "\"\"\""
   ]
  },
  {
   "cell_type": "code",
   "execution_count": null,
   "id": "f31d54b2-2c6a-4e87-b8de-74b411a2739e",
   "metadata": {},
   "outputs": [],
   "source": []
  },
  {
   "cell_type": "code",
   "execution_count": null,
   "id": "db700dbd-2bc2-4e1e-b20f-2707ed52382a",
   "metadata": {},
   "outputs": [],
   "source": []
  },
  {
   "cell_type": "code",
   "execution_count": null,
   "id": "1c74de0c-e35f-4fb3-9180-7ea0a575444f",
   "metadata": {},
   "outputs": [],
   "source": []
  }
 ],
 "metadata": {
  "kernelspec": {
   "display_name": "Python 3 (ipykernel)",
   "language": "python",
   "name": "python3"
  },
  "language_info": {
   "codemirror_mode": {
    "name": "ipython",
    "version": 3
   },
   "file_extension": ".py",
   "mimetype": "text/x-python",
   "name": "python",
   "nbconvert_exporter": "python",
   "pygments_lexer": "ipython3",
   "version": "3.9.12"
  }
 },
 "nbformat": 4,
 "nbformat_minor": 5
}
