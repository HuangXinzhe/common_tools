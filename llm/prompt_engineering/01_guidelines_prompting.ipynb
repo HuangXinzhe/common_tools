{
 "cells": [
  {
   "cell_type": "markdown",
   "id": "c16a8389-4a66-4587-a701-078639762397",
   "metadata": {},
   "source": [
    "# 注：没有openai API密钥，所有运行结果均为DeepLearning.AI课程代码在线运行结果"
   ]
  },
  {
   "cell_type": "markdown",
   "id": "7610c2a5-756b-4ff1-8419-2473998e62ce",
   "metadata": {},
   "source": [
    "# 安装openai"
   ]
  },
  {
   "cell_type": "code",
   "execution_count": null,
   "id": "031090a2-4883-494e-b63f-3f150070d6e9",
   "metadata": {},
   "outputs": [],
   "source": [
    "!pip install openai"
   ]
  },
  {
   "cell_type": "code",
   "execution_count": null,
   "id": "12a2dec7-e556-46a4-bad8-d4446416fb3e",
   "metadata": {},
   "outputs": [],
   "source": [
    "!pip install python-dotenv"
   ]
  },
  {
   "cell_type": "code",
   "execution_count": null,
   "id": "c882e4cc-72f2-4e5d-bae9-6a2b795c9b27",
   "metadata": {},
   "outputs": [],
   "source": [
    "import openai\n",
    "\n",
    "# 需要从openai官网获得API密钥\n",
    "# 如果想的话也可以将其设置为环境变量\n",
    "openai.api_key = \"sk-\""
   ]
  },
  {
   "cell_type": "markdown",
   "id": "e9762ee8-dfb7-48e8-bb1b-5436e4e59427",
   "metadata": {},
   "source": [
    "## 示例中已经在环境中设置了API密钥"
   ]
  },
  {
   "cell_type": "code",
   "execution_count": 5,
   "id": "d566455a-a2ee-4c1b-8fbe-22457beaeaa6",
   "metadata": {},
   "outputs": [],
   "source": [
    "import openai\n",
    "import os\n",
    "\n",
    "from dotenv import load_dotenv, find_dotenv\n",
    "_ = load_dotenv(find_dotenv())\n",
    "\n",
    "openai.api_key  = os.getenv('OPENAI_API_KEY')"
   ]
  },
  {
   "cell_type": "markdown",
   "id": "eedb5507-508d-4611-905a-5eee6e806a7d",
   "metadata": {},
   "source": [
    "## 帮助函数，以便更轻地使用提示并查看生成的输出\n",
    "只需要一个提示就会返回完成结果  "
   ]
  },
  {
   "cell_type": "code",
   "execution_count": 6,
   "id": "83d1aa91-01b3-430c-9cfd-395704e1ad97",
   "metadata": {},
   "outputs": [],
   "source": [
    "def get_completion(prompt, model=\"gpt-3.5-turbo\"):\n",
    "    messages = [{\"role\": \"user\", \"content\": prompt}]\n",
    "    response = openai.ChatCompletion.create(\n",
    "        model=model,\n",
    "        messages=messages,\n",
    "        temperature=0, # this is the degree of randomness of the model's output\n",
    "    )\n",
    "    return response.choices[0].message[\"content\"]"
   ]
  },
  {
   "cell_type": "markdown",
   "id": "eca956cf-b20c-4948-a483-2f6d135ef8be",
   "metadata": {},
   "source": [
    "### 提示工程原则\n",
    "1. 编写明确和具体的指令\n",
    "2. 给模型思考的时间"
   ]
  },
  {
   "cell_type": "markdown",
   "id": "8502938b-ebb7-425d-828c-9b5fac915f8c",
   "metadata": {},
   "source": [
    "## 1、编写明确和具体的指令\n",
    "### 策略1 使用分隔符清楚的只是输入的不同部分\n",
    "        “”，```，---，<>，<tag></tag>"
   ]
  },
  {
   "cell_type": "markdown",
   "id": "a4e2eaf6-1f87-47b5-8517-0d69ffb62498",
   "metadata": {},
   "source": [
    "### 对文本锻炼进行总结"
   ]
  },
  {
   "cell_type": "code",
   "execution_count": null,
   "id": "b395225a-55de-4ae9-9650-2f454686f6f6",
   "metadata": {},
   "outputs": [],
   "source": [
    "text = f\"\"\"\n",
    "You should express what you want a model to do by \\ \n",
    "providing instructions that are as clear and \\ \n",
    "specific as you can possibly make them. \\ \n",
    "This will guide the model towards the desired output, \\ \n",
    "and reduce the chances of receiving irrelevant \\ \n",
    "or incorrect responses. Don't confuse writing a \\ \n",
    "clear prompt with writing a short prompt. \\ \n",
    "In many cases, longer prompts provide more clarity \\ \n",
    "and context for the model, which can lead to \\ \n",
    "more detailed and relevant outputs.\n",
    "\"\"\"\n",
    "prompt = f\"\"\"\n",
    "Summarize the text delimited by triple backticks \\ \n",
    "into a single sentence.\n",
    "```{text}```\n",
    "\"\"\"\n",
    "response = get_completion(prompt)\n",
    "print(response)"
   ]
  },
  {
   "cell_type": "markdown",
   "id": "5f432132-63ba-4568-9617-0d192683962e",
   "metadata": {},
   "source": [
    "To guide a model towards the desired output and reduce the chances of irrelevant or incorrect responses, it is important to provide clear and specific instructions, which may be longer prompts that provide more clarity and context for the model."
   ]
  },
  {
   "cell_type": "markdown",
   "id": "b69ee0d7-ed45-4749-9fc6-0e18ca996966",
   "metadata": {},
   "source": [
    "- 分隔符可以是任何清晰的标点符号，任何可以事模型清楚知道这是一个单独部分的东西，将特定的文本部分与提示的其余部分分隔开（三个单引号，引号，XML标记，章节标题等）\n",
    "- 避免提示冲突，如果允许用户向提示中添加一些输入，可能会给出与您想要的任务不符的指令，导致模型遵循用户的指令而不是您想要的指令"
   ]
  },
  {
   "cell_type": "markdown",
   "id": "50e9bc3a-385b-495e-9d1c-b0130e090cf0",
   "metadata": {},
   "source": [
    "### 策略2 结构化输出\n",
    "    为了使解析模型输出更容易，可以请求使用HTML或JSON等结构化输出"
   ]
  },
  {
   "cell_type": "markdown",
   "id": "9d8ec80e-36dd-4d3c-8072-c433cf5f5775",
   "metadata": {},
   "source": [
    "### 生成三个虚拟的书名以及它们的作者和类型的列表，并以JSON格式提供以下keys，即书籍ID、标题、作者和类型"
   ]
  },
  {
   "cell_type": "code",
   "execution_count": null,
   "id": "84a6d33e-03ff-402f-92c4-ec03071dcdae",
   "metadata": {},
   "outputs": [],
   "source": [
    "prompt = f\"\"\"\n",
    "Generate a list of three made-up book titles along \\ \n",
    "with their authors and genres. \n",
    "Provide them in JSON format with the following keys: \n",
    "book_id, title, author, genre.\n",
    "\"\"\"\n",
    "response = get_completion(prompt)\n",
    "print(response)"
   ]
  },
  {
   "cell_type": "code",
   "execution_count": null,
   "id": "fab07f94-b7c3-41a8-a4b2-edf559ac159b",
   "metadata": {},
   "outputs": [],
   "source": [
    "\"\"\"\n",
    "[\n",
    "  {\n",
    "    \"book_id\": 1,\n",
    "    \"title\": \"The Lost City of Zorath\",\n",
    "    \"author\": \"Aria Blackwood\",\n",
    "    \"genre\": \"Fantasy\"\n",
    "  },\n",
    "  {\n",
    "    \"book_id\": 2,\n",
    "    \"title\": \"The Last Survivors\",\n",
    "    \"author\": \"Ethan Stone\",\n",
    "    \"genre\": \"Science Fiction\"\n",
    "  },\n",
    "  {\n",
    "    \"book_id\": 3,\n",
    "    \"title\": \"The Secret of the Haunted Mansion\",\n",
    "    \"author\": \"Lila Rose\",\n",
    "    \"genre\": \"Mystery\"\n",
    "  }\n",
    "]\n",
    "\"\"\""
   ]
  },
  {
   "cell_type": "markdown",
   "id": "f9218c62-e2d8-4221-87a4-090bdfd857d4",
   "metadata": {},
   "source": [
    "### 策略3、要求模型检查是否满足条件\n",
    "    如果任务存在假设未必满足，可以告诉模型首先检查这些假设，如果假设不满足则指示并停止尝试完全完成任务。\n",
    "    还可以考虑潜在的边缘情况以及模型应如何处理它们以避免意外错误或结果"
   ]
  },
  {
   "cell_type": "markdown",
   "id": "81f88e53-590e-4f31-bfce-8977b64fee08",
   "metadata": {},
   "source": [
    "### 以要求的格式输出，若没有则输出没有"
   ]
  },
  {
   "cell_type": "code",
   "execution_count": null,
   "id": "8c6eb6f6-d1c7-4a08-98ca-f5de7ab216a9",
   "metadata": {},
   "outputs": [],
   "source": [
    "text_1 = f\"\"\"\n",
    "Making a cup of tea is easy! First, you need to get some \\ \n",
    "water boiling. While that's happening, \\ \n",
    "grab a cup and put a tea bag in it. Once the water is \\ \n",
    "hot enough, just pour it over the tea bag. \\ \n",
    "Let it sit for a bit so the tea can steep. After a \\ \n",
    "few minutes, take out the tea bag. If you \\ \n",
    "like, you can add some sugar or milk to taste. \\ \n",
    "And that's it! You've got yourself a delicious \\ \n",
    "cup of tea to enjoy.\n",
    "\"\"\"\n",
    "prompt = f\"\"\"\n",
    "You will be provided with text delimited by triple quotes. \n",
    "If it contains a sequence of instructions, \\ \n",
    "re-write those instructions in the following format:\n",
    "\n",
    "Step 1 - ...\n",
    "Step 2 - …\n",
    "…\n",
    "Step N - …\n",
    "\n",
    "If the text does not contain a sequence of instructions, \\ \n",
    "then simply write \\\"No steps provided.\\\"\n",
    "\n",
    "\\\"\\\"\\\"{text_1}\\\"\\\"\\\"\n",
    "\"\"\"\n",
    "response = get_completion(prompt)\n",
    "print(\"Completion for Text 1:\")\n",
    "print(response)"
   ]
  },
  {
   "cell_type": "code",
   "execution_count": null,
   "id": "80d0a9e8-cc43-4ff3-8c83-46ff842aba1c",
   "metadata": {},
   "outputs": [],
   "source": [
    "\"\"\"\n",
    "Completion for Text 1:\n",
    "Step 1 - Get some water boiling.\n",
    "Step 2 - Grab a cup and put a tea bag in it.\n",
    "Step 3 - Once the water is hot enough, pour it over the tea bag.\n",
    "Step 4 - Let it sit for a bit so the tea can steep.\n",
    "Step 5 - After a few minutes, take out the tea bag.\n",
    "Step 6 - Add some sugar or milk to taste.\n",
    "Step 7 - Enjoy your delicious cup of tea!\n",
    "\"\"\""
   ]
  },
  {
   "cell_type": "code",
   "execution_count": null,
   "id": "9353b77b-b0b9-48ee-9dba-d593dac45439",
   "metadata": {},
   "outputs": [],
   "source": [
    "text_2 = f\"\"\"\n",
    "The sun is shining brightly today, and the birds are \\\n",
    "singing. It's a beautiful day to go for a \\ \n",
    "walk in the park. The flowers are blooming, and the \\ \n",
    "trees are swaying gently in the breeze. People \\ \n",
    "are out and about, enjoying the lovely weather. \\ \n",
    "Some are having picnics, while others are playing \\ \n",
    "games or simply relaxing on the grass. It's a \\ \n",
    "perfect day to spend time outdoors and appreciate the \\ \n",
    "beauty of nature.\n",
    "\"\"\"\n",
    "prompt = f\"\"\"\n",
    "You will be provided with text delimited by triple quotes. \n",
    "If it contains a sequence of instructions, \\ \n",
    "re-write those instructions in the following format:\n",
    "\n",
    "Step 1 - ...\n",
    "Step 2 - …\n",
    "…\n",
    "Step N - …\n",
    "\n",
    "If the text does not contain a sequence of instructions, \\ \n",
    "then simply write \\\"No steps provided.\\\"\n",
    "\n",
    "\\\"\\\"\\\"{text_2}\\\"\\\"\\\"\n",
    "\"\"\"\n",
    "response = get_completion(prompt)\n",
    "print(\"Completion for Text 2:\")\n",
    "print(response)"
   ]
  },
  {
   "cell_type": "code",
   "execution_count": null,
   "id": "a8b5c7f0-6a2f-40ca-87c1-a84b153fba77",
   "metadata": {},
   "outputs": [],
   "source": [
    "\"\"\"\n",
    "Completion for Text 2:\n",
    "No steps provided.\n",
    "\"\"\""
   ]
  },
  {
   "cell_type": "markdown",
   "id": "a634a16a-292c-48c4-b729-90ee3151dbb2",
   "metadata": {},
   "source": [
    "## 策略4、少量训练提示\n",
    "    要求模型执行任务之前提供成功执行任务的示例"
   ]
  },
  {
   "cell_type": "code",
   "execution_count": null,
   "id": "e54c5451-c1b3-42b8-9a57-a5ac49529268",
   "metadata": {},
   "outputs": [],
   "source": [
    "prompt = f\"\"\"\n",
    "Your task is to answer in a consistent style.\n",
    "\n",
    "<child>: Teach me about patience.\n",
    "\n",
    "<grandparent>: The river that carves the deepest \\ \n",
    "valley flows from a modest spring; the \\ \n",
    "grandest symphony originates from a single note; \\ \n",
    "the most intricate tapestry begins with a solitary thread.\n",
    "\n",
    "<child>: Teach me about resilience.\n",
    "\"\"\"\n",
    "response = get_completion(prompt)\n",
    "print(response)"
   ]
  },
  {
   "cell_type": "code",
   "execution_count": null,
   "id": "07b43cdc-0412-4fc6-995a-4e6266e01ee6",
   "metadata": {},
   "outputs": [],
   "source": [
    "\"\"\"\n",
    "<grandparent>: Resilience is like a tree that bends with the wind but never breaks. It is the ability to bounce back from adversity and keep moving forward, even when things get tough. Just like a tree that grows stronger with each storm it weathers, resilience is a quality that can be developed and strengthened over time.\n",
    "\"\"\""
   ]
  },
  {
   "cell_type": "markdown",
   "id": "df0c8f4f-73dc-4723-bb10-a73708c57229",
   "metadata": {},
   "source": [
    "## 2、给模型思考的时间\n",
    "    如果模型通过急于做出错误的结论而出现推理错误，你应该尝试重新构建查询请求相关推理的链或序列，在模型提供最终答案之前\n",
    "    如果给模型一个太复杂的任务，在短时间内或少数词中完成它，它可能会猜测结果，这可能是不正确的，这也可能发生在人身上，如果你让某个人在没有时间先算出答案的情况下完成一个复杂的数学问题，他也可能会犯错，可以指示模型在问题上花更多的时间思考，意味着它在任务上会花费更多的计算力"
   ]
  },
  {
   "cell_type": "markdown",
   "id": "3a52aaaf-6751-4b85-abad-ac5e7177712a",
   "metadata": {},
   "source": [
    "### 策略1、指定完成任务所需的步骤"
   ]
  },
  {
   "cell_type": "code",
   "execution_count": null,
   "id": "990e60eb-6365-4b1c-a21e-ce45f14d4bc8",
   "metadata": {},
   "outputs": [],
   "source": [
    "text = f\"\"\"\n",
    "In a charming village, siblings Jack and Jill set out on \\ \n",
    "a quest to fetch water from a hilltop \\ \n",
    "well. As they climbed, singing joyfully, misfortune \\ \n",
    "struck—Jack tripped on a stone and tumbled \\ \n",
    "down the hill, with Jill following suit. \\ \n",
    "Though slightly battered, the pair returned home to \\ \n",
    "comforting embraces. Despite the mishap, \\ \n",
    "their adventurous spirits remained undimmed, and they \\ \n",
    "continued exploring with delight.\n",
    "\"\"\"\n",
    "# example 1\n",
    "prompt_1 = f\"\"\"\n",
    "Perform the following actions: \n",
    "1 - Summarize the following text delimited by triple \\\n",
    "backticks with 1 sentence.\n",
    "2 - Translate the summary into French.\n",
    "3 - List each name in the French summary.\n",
    "4 - Output a json object that contains the following \\\n",
    "keys: french_summary, num_names.\n",
    "\n",
    "Separate your answers with line breaks.\n",
    "\n",
    "Text:\n",
    "```{text}```\n",
    "\"\"\"\n",
    "response = get_completion(prompt_1)\n",
    "print(\"Completion for prompt 1:\")\n",
    "print(response)"
   ]
  },
  {
   "cell_type": "code",
   "execution_count": null,
   "id": "7e4b2b61-b295-4ed1-9837-689f972320d5",
   "metadata": {},
   "outputs": [],
   "source": [
    "\"\"\"\n",
    "Completion for prompt 1:\n",
    "Two siblings, Jack and Jill, go on a quest to fetch water from a hilltop well, but misfortune strikes as they both fall down the hill, yet they return home slightly battered but with their adventurous spirits undimmed.\n",
    "\n",
    "Deux frères et sœurs, Jack et Jill, partent en quête d'eau d'un puits au sommet d'une colline, mais ils tombent tous les deux et retournent chez eux légèrement meurtris mais avec leur esprit d'aventure intact. \n",
    "Noms: Jack, Jill.\n",
    "\n",
    "{\n",
    "\"french_summary\": \"Deux frères et sœurs, Jack et Jill, partent en quête d'eau d'un puits au sommet d'une colline, mais ils tombent tous les deux et retournent chez eux légèrement meurtris mais avec leur esprit d'aventure intact.\",\n",
    "\"num_names\": 2\n",
    "}\n",
    "\"\"\""
   ]
  },
  {
   "cell_type": "code",
   "execution_count": null,
   "id": "6db0afe9-78c8-44b2-8d20-073a30418e21",
   "metadata": {},
   "outputs": [],
   "source": [
    "prompt_2 = f\"\"\"\n",
    "Your task is to perform the following actions: \n",
    "1 - Summarize the following text delimited by \n",
    "  <> with 1 sentence.\n",
    "2 - Translate the summary into French.\n",
    "3 - List each name in the French summary.\n",
    "4 - Output a json object that contains the \n",
    "  following keys: french_summary, num_names.\n",
    "\n",
    "Use the following format:\n",
    "Text: <text to summarize>\n",
    "Summary: <summary>\n",
    "Translation: <summary translation>\n",
    "Names: <list of names in Italian summary>\n",
    "Output JSON: <json with summary and num_names>\n",
    "\n",
    "Text: <{text}>\n",
    "\"\"\"\n",
    "response = get_completion(prompt_2)\n",
    "print(\"\\nCompletion for prompt 2:\")\n",
    "print(response)"
   ]
  },
  {
   "cell_type": "code",
   "execution_count": null,
   "id": "58e8dcf2-c12d-4725-82c2-852fa56ac788",
   "metadata": {},
   "outputs": [],
   "source": [
    "\"\"\"\n",
    "Completion for prompt 2:\n",
    "Summary: Jack and Jill go on a quest to fetch water, but misfortune strikes and they tumble down the hill, returning home slightly battered but with their adventurous spirits undimmed. \n",
    "Translation: Jack et Jill partent en quête d'eau, mais la malchance frappe et ils dégringolent la colline, rentrant chez eux légèrement meurtris mais avec leurs esprits aventureux intacts.\n",
    "Names: Jack, Jill\n",
    "Output JSON: {\"french_summary\": \"Jack et Jill partent en quête d'eau, mais la malchance frappe et ils dégringolent la colline, rentrant chez eux légèrement meurtris mais avec leurs esprits aventureux intacts.\", \"num_names\": 2}\n",
    "\"\"\""
   ]
  },
  {
   "cell_type": "markdown",
   "id": "d02b8569-0bba-4d26-83f9-8b79e617c7f7",
   "metadata": {},
   "source": [
    "### 策略2、指示模型在匆忙做出结论之前思考解决方案\n",
    "    有时候当我们明确指示模型在做出结论之前推理出自己的解决方案时，可以获得更好的结果"
   ]
  },
  {
   "cell_type": "code",
   "execution_count": null,
   "id": "15ed44c3-1fda-41ab-b468-a71f819eae95",
   "metadata": {},
   "outputs": [],
   "source": [
    "prompt = f\"\"\"\n",
    "Determine if the student's solution is correct or not.\n",
    "\n",
    "Question:\n",
    "I'm building a solar power installation and I need \\\n",
    " help working out the financials. \n",
    "- Land costs $100 / square foot\n",
    "- I can buy solar panels for $250 / square foot\n",
    "- I negotiated a contract for maintenance that will cost \\ \n",
    "me a flat $100k per year, and an additional $10 / square \\\n",
    "foot\n",
    "What is the total cost for the first year of operations \n",
    "as a function of the number of square feet.\n",
    "\n",
    "Student's Solution:\n",
    "Let x be the size of the installation in square feet.\n",
    "Costs:\n",
    "1. Land cost: 100x\n",
    "2. Solar panel cost: 250x\n",
    "3. Maintenance cost: 100,000 + 100x\n",
    "Total cost: 100x + 250x + 100,000 + 100x = 450x + 100,000\n",
    "\"\"\"\n",
    "response = get_completion(prompt)\n",
    "print(response)"
   ]
  },
  {
   "cell_type": "code",
   "execution_count": null,
   "id": "e50d1fc0-dff6-498c-8a12-2c6de2090085",
   "metadata": {},
   "outputs": [],
   "source": [
    "\"\"\"\n",
    "The student's solution is correct.\n",
    "\"\"\""
   ]
  },
  {
   "cell_type": "markdown",
   "id": "d2efebba-3a53-4941-914e-b2998525ddc7",
   "metadata": {},
   "source": [
    "### 上方案例中是学生对问题提供的解决方案，让模型判断学生的解决方案是否正确，模型判断出错了，下方是让模型先自己生成一个解决方案，再让其对比学生的解决方案看学生的方案是否正确"
   ]
  },
  {
   "cell_type": "code",
   "execution_count": null,
   "id": "57f4f050-4c09-4e72-b282-98700dd75ec3",
   "metadata": {},
   "outputs": [],
   "source": [
    "prompt = f\"\"\"\n",
    "Your task is to determine if the student's solution \\\n",
    "is correct or not.\n",
    "To solve the problem do the following:\n",
    "- First, work out your own solution to the problem. \n",
    "- Then compare your solution to the student's solution \\ \n",
    "and evaluate if the student's solution is correct or not. \n",
    "Don't decide if the student's solution is correct until \n",
    "you have done the problem yourself.\n",
    "\n",
    "Use the following format:\n",
    "Question:\n",
    "```\n",
    "question here\n",
    "```\n",
    "Student's solution:\n",
    "```\n",
    "student's solution here\n",
    "```\n",
    "Actual solution:\n",
    "```\n",
    "steps to work out the solution and your solution here\n",
    "```\n",
    "Is the student's solution the same as actual solution \\\n",
    "just calculated:\n",
    "```\n",
    "yes or no\n",
    "```\n",
    "Student grade:\n",
    "```\n",
    "correct or incorrect\n",
    "```\n",
    "\n",
    "Question:\n",
    "```\n",
    "I'm building a solar power installation and I need help \\\n",
    "working out the financials. \n",
    "- Land costs $100 / square foot\n",
    "- I can buy solar panels for $250 / square foot\n",
    "- I negotiated a contract for maintenance that will cost \\\n",
    "me a flat $100k per year, and an additional $10 / square \\\n",
    "foot\n",
    "What is the total cost for the first year of operations \\\n",
    "as a function of the number of square feet.\n",
    "``` \n",
    "Student's solution:\n",
    "```\n",
    "Let x be the size of the installation in square feet.\n",
    "Costs:\n",
    "1. Land cost: 100x\n",
    "2. Solar panel cost: 250x\n",
    "3. Maintenance cost: 100,000 + 100x\n",
    "Total cost: 100x + 250x + 100,000 + 100x = 450x + 100,000\n",
    "```\n",
    "Actual solution:\n",
    "\"\"\"\n",
    "response = get_completion(prompt)\n",
    "print(response)"
   ]
  },
  {
   "cell_type": "code",
   "execution_count": null,
   "id": "9b17af5c-503a-4005-b127-62a7241ad36b",
   "metadata": {},
   "outputs": [],
   "source": [
    "\"\"\"\n",
    "Let x be the size of the installation in square feet.\n",
    "\n",
    "Costs:\n",
    "1. Land cost: 100x\n",
    "2. Solar panel cost: 250x\n",
    "3. Maintenance cost: 100,000 + 10x\n",
    "\n",
    "Total cost: 100x + 250x + 100,000 + 10x = 360x + 100,000\n",
    "\n",
    "Is the student's solution the same as actual solution just calculated:\n",
    "No\n",
    "\n",
    "Student grade:\n",
    "Incorrect\n",
    "\"\"\""
   ]
  },
  {
   "cell_type": "markdown",
   "id": "5614348d-b3f8-497d-9a21-967f168bcceb",
   "metadata": {},
   "source": [
    "## 模型的局限性\n",
    "    即便模型在其训练过程中暴露于大量的知识，它并没有完全记住它所看到的信息，因此它并不非常了解其知识的边界，这意味着它可能会尝试回答关于晦涩主题的问题，并编造听起来合理但实际上不正确的内容，我们将这些虚构的想法称为幻觉\n",
    "    在希望模型基于文本生成答案的情况下，减少幻觉的一种额外策略是：要求模型首先从文本中找到任何相关的引用，然后要求它使用这些引用来回答问题，并且可以追溯答案回源文档通常可以帮助减少这些幻觉"
   ]
  },
  {
   "cell_type": "markdown",
   "id": "3a997261-ea14-4764-a1cd-b88f420f5d40",
   "metadata": {},
   "source": [
    "### 例子中，模型会从真正的牙刷公司中创造一个虚构的产品名称描述"
   ]
  },
  {
   "cell_type": "code",
   "execution_count": null,
   "id": "8b3fed28-89e4-4466-811f-51bfec624fc3",
   "metadata": {},
   "outputs": [],
   "source": [
    "prompt = f\"\"\"\n",
    "Tell me about AeroGlide UltraSlim Smart Toothbrush by Boie\n",
    "\"\"\"\n",
    "response = get_completion(prompt)\n",
    "print(response)"
   ]
  },
  {
   "cell_type": "code",
   "execution_count": null,
   "id": "f4c9348b-0be8-4982-8afa-8cbdafe94dc2",
   "metadata": {},
   "outputs": [],
   "source": [
    "\"\"\"\n",
    "The AeroGlide UltraSlim Smart Toothbrush by Boie is a high-tech toothbrush that uses advanced sonic technology to provide a deep and thorough clean. It features a slim and sleek design that makes it easy to hold and maneuver, and it comes with a range of smart features that help you optimize your brushing routine.\n",
    "\n",
    "One of the key features of the AeroGlide UltraSlim Smart Toothbrush is its advanced sonic technology, which uses high-frequency vibrations to break up plaque and bacteria on your teeth and gums. This technology is highly effective at removing even the toughest stains and buildup, leaving your teeth feeling clean and refreshed.\n",
    "\n",
    "In addition to its sonic technology, the AeroGlide UltraSlim Smart Toothbrush also comes with a range of smart features that help you optimize your brushing routine. These include a built-in timer that ensures you brush for the recommended two minutes, as well as a pressure sensor that alerts you if you're brushing too hard.\n",
    "\n",
    "Overall, the AeroGlide UltraSlim Smart Toothbrush by Boie is a highly advanced and effective toothbrush that is perfect for anyone looking to take their oral hygiene to the next level. With its advanced sonic technology and smart features, it provides a deep and thorough clean that leaves your teeth feeling fresh and healthy.\n",
    "\"\"\""
   ]
  },
  {
   "cell_type": "markdown",
   "id": "88982fb9-1663-422e-aab7-9c7bad06d741",
   "metadata": {},
   "source": [
    "#### Notes on using the OpenAI API outside of this classroom\n",
    "\n",
    "To install the OpenAI Python library:\n",
    "```\n",
    "!pip install openai\n",
    "```\n",
    "\n",
    "The library needs to be configured with your account's secret key, which is available on the [website](https://platform.openai.com/account/api-keys). \n",
    "\n",
    "You can either set it as the `OPENAI_API_KEY` environment variable before using the library:\n",
    " ```\n",
    " !export OPENAI_API_KEY='sk-...'\n",
    " ```\n",
    "\n",
    "Or, set `openai.api_key` to its value:\n",
    "\n",
    "```\n",
    "import openai\n",
    "openai.api_key = \"sk-...\"\n",
    "```"
   ]
  },
  {
   "cell_type": "code",
   "execution_count": null,
   "id": "dbc7b478-eb72-49c9-82d3-846872559692",
   "metadata": {},
   "outputs": [],
   "source": []
  }
 ],
 "metadata": {
  "kernelspec": {
   "display_name": "Python 3 (ipykernel)",
   "language": "python",
   "name": "python3"
  },
  "language_info": {
   "codemirror_mode": {
    "name": "ipython",
    "version": 3
   },
   "file_extension": ".py",
   "mimetype": "text/x-python",
   "name": "python",
   "nbconvert_exporter": "python",
   "pygments_lexer": "ipython3",
   "version": "3.9.12"
  }
 },
 "nbformat": 4,
 "nbformat_minor": 5
}
