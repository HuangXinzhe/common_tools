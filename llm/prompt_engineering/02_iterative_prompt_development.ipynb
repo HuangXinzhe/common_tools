{
 "cells": [
  {
   "cell_type": "markdown",
   "id": "7c308bb2-2501-48bb-9911-8b1b8be22dea",
   "metadata": {},
   "source": [
    "# 良好的迭代过程不断改进提示"
   ]
  },
  {
   "cell_type": "markdown",
   "id": "a7b3ae52-b134-4e66-b94a-d0bcad8693cb",
   "metadata": {},
   "source": [
    "1. 一个想法\n",
    "2. 尝试编写一个清晰、具体、如果合适的话，让系统有足够时间思考的提示，运行并查看结果，改进想法与提示，重复\n",
    "3. 找到合适的提示"
   ]
  },
  {
   "cell_type": "code",
   "execution_count": null,
   "id": "6ad03351-1dde-41ae-807f-1f67854063c0",
   "metadata": {},
   "outputs": [],
   "source": [
    "import openai\n",
    "import os\n",
    "\n",
    "from dotenv import load_dotenv, find_dotenv\n",
    "_ = load_dotenv(find_dotenv()) # read local .env file\n",
    "\n",
    "openai.api_key  = os.getenv('OPENAI_API_KEY')"
   ]
  },
  {
   "cell_type": "code",
   "execution_count": null,
   "id": "6a63c8f4-383b-48e4-b1fe-0718fbecb27b",
   "metadata": {},
   "outputs": [],
   "source": [
    "def get_completion(prompt, model=\"gpt-3.5-turbo\"):\n",
    "    messages = [{\"role\": \"user\", \"content\": prompt}]\n",
    "    response = openai.ChatCompletion.create(\n",
    "        model=model,\n",
    "        messages=messages,\n",
    "        temperature=0, # this is the degree of randomness of the model's output\n",
    "    )\n",
    "    return response.choices[0].message[\"content\"]"
   ]
  },
  {
   "cell_type": "markdown",
   "id": "73d14b27-72ce-4730-98bf-bf4d69b6ad30",
   "metadata": {},
   "source": [
    "## 生成椅子说明书任务"
   ]
  },
  {
   "cell_type": "code",
   "execution_count": null,
   "id": "91898fbf-0b17-4fa1-8cb8-dff1279a02ab",
   "metadata": {},
   "outputs": [],
   "source": [
    "fact_sheet_chair = \"\"\"\n",
    "OVERVIEW\n",
    "- Part of a beautiful family of mid-century inspired office furniture, \n",
    "including filing cabinets, desks, bookcases, meeting tables, and more.\n",
    "- Several options of shell color and base finishes.\n",
    "- Available with plastic back and front upholstery (SWC-100) \n",
    "or full upholstery (SWC-110) in 10 fabric and 6 leather options.\n",
    "- Base finish options are: stainless steel, matte black, \n",
    "gloss white, or chrome.\n",
    "- Chair is available with or without armrests.\n",
    "- Suitable for home or business settings.\n",
    "- Qualified for contract use.\n",
    "\n",
    "CONSTRUCTION\n",
    "- 5-wheel plastic coated aluminum base.\n",
    "- Pneumatic chair adjust for easy raise/lower action.\n",
    "\n",
    "DIMENSIONS\n",
    "- WIDTH 53 CM | 20.87”\n",
    "- DEPTH 51 CM | 20.08”\n",
    "- HEIGHT 80 CM | 31.50”\n",
    "- SEAT HEIGHT 44 CM | 17.32”\n",
    "- SEAT DEPTH 41 CM | 16.14”\n",
    "\n",
    "OPTIONS\n",
    "- Soft or hard-floor caster options.\n",
    "- Two choices of seat foam densities: \n",
    " medium (1.8 lb/ft3) or high (2.8 lb/ft3)\n",
    "- Armless or 8 position PU armrests \n",
    "\n",
    "MATERIALS\n",
    "SHELL BASE GLIDER\n",
    "- Cast Aluminum with modified nylon PA6/PA66 coating.\n",
    "- Shell thickness: 10 mm.\n",
    "SEAT\n",
    "- HD36 foam\n",
    "\n",
    "COUNTRY OF ORIGIN\n",
    "- Italy\n",
    "\"\"\""
   ]
  },
  {
   "cell_type": "code",
   "execution_count": null,
   "id": "8e84a814-5a9c-4033-952f-334365a3a848",
   "metadata": {},
   "outputs": [],
   "source": [
    "# 提示根据技术说明书帮助营销团队为零售网站或产品创建描述，编写产品说明等等\n",
    "prompt = f\"\"\"\n",
    "Your task is to help a marketing team create a \n",
    "description for a retail website of a product based \n",
    "on a technical fact sheet.\n",
    "\n",
    "Write a product description based on the information \n",
    "provided in the technical specifications delimited by \n",
    "triple backticks.\n",
    "\n",
    "Technical specifications: ```{fact_sheet_chair}```\n",
    "\"\"\"\n",
    "response = get_completion(prompt)\n",
    "print(response)\n"
   ]
  },
  {
   "cell_type": "code",
   "execution_count": null,
   "id": "afdc2baf-d701-45e4-a41f-dfd0dfe0b33e",
   "metadata": {},
   "outputs": [],
   "source": [
    "\"\"\"\n",
    "Introducing our stunning mid-century inspired office chair, the perfect addition to any home or business setting. Part of a beautiful family of office furniture, including filing cabinets, desks, bookcases, meeting tables, and more, this chair is available in several options of shell color and base finishes to suit your style. Choose from plastic back and front upholstery (SWC-100) or full upholstery (SWC-110) in 10 fabric and 6 leather options.\n",
    "\n",
    "The chair is constructed with a 5-wheel plastic coated aluminum base and features a pneumatic chair adjust for easy raise/lower action. It is available with or without armrests and is qualified for contract use. The base finish options are stainless steel, matte black, gloss white, or chrome.\n",
    "\n",
    "Measuring at a width of 53 cm, depth of 51 cm, and height of 80 cm, with a seat height of 44 cm and seat depth of 41 cm, this chair is designed for ultimate comfort. You can also choose between soft or hard-floor caster options and two choices of seat foam densities: medium (1.8 lb/ft3) or high (2.8 lb/ft3). The armrests are available in either an armless or 8 position PU option.\n",
    "\n",
    "The materials used in the construction of this chair are of the highest quality. The shell base glider is made of cast aluminum with modified nylon PA6/PA66 coating and has a shell thickness of 10 mm. The seat is made of HD36 foam, ensuring maximum comfort and durability.\n",
    "\n",
    "This chair is made in Italy and is the perfect combination of style and functionality. Upgrade your workspace with our mid-century inspired office chair today!\n",
    "\"\"\""
   ]
  },
  {
   "cell_type": "markdown",
   "id": "6e44312f-0580-4192-ad75-30c4f34789f7",
   "metadata": {},
   "source": [
    "### 生成的摘要太长了，重新写提示"
   ]
  },
  {
   "cell_type": "code",
   "execution_count": null,
   "id": "dc12f1d3-9bd1-4adc-83be-b31164e4a133",
   "metadata": {},
   "outputs": [],
   "source": [
    "prompt = f\"\"\"\n",
    "Your task is to help a marketing team create a \n",
    "description for a retail website of a product based \n",
    "on a technical fact sheet.\n",
    "\n",
    "Write a product description based on the information \n",
    "provided in the technical specifications delimited by \n",
    "triple backticks.\n",
    "\n",
    "Use at most 50 words.\n",
    "\n",
    "Technical specifications: ```{fact_sheet_chair}```\n",
    "\"\"\"\n",
    "response = get_completion(prompt)\n",
    "print(response)\n"
   ]
  },
  {
   "cell_type": "code",
   "execution_count": null,
   "id": "a82ef924-a167-4e88-a11e-3bd243ebc641",
   "metadata": {},
   "outputs": [],
   "source": [
    "\"\"\"\n",
    "Introducing our mid-century inspired office chair, perfect for home or business settings. Available in a range of shell colors and base finishes, with or without armrests. Choose from 10 fabric and 6 leather options for full or plastic upholstery. With a 5-wheel base and pneumatic chair adjust, it's both stylish and functional. Made in Italy.\n",
    "\"\"\""
   ]
  },
  {
   "cell_type": "code",
   "execution_count": null,
   "id": "b762fd1d-6077-42a9-96e9-d60e4ef0f4d0",
   "metadata": {},
   "outputs": [],
   "source": [
    "len(response.split(\" \"))  # 52"
   ]
  },
  {
   "cell_type": "markdown",
   "id": "85499a05-e981-4e84-8f1b-9da1c1a929cc",
   "metadata": {},
   "source": [
    "### 大模型在规定字数上不是很严格但是会在合理的范围内"
   ]
  },
  {
   "cell_type": "markdown",
   "id": "e244ddac-a2db-4249-8660-5ee192884116",
   "metadata": {},
   "source": [
    "### 在提示中添加需要关注的细节\n",
    "The description is intended for furniture retailers, \n",
    "so should be technical in nature and focus on the \n",
    "materials the product is constructed from."
   ]
  },
  {
   "cell_type": "code",
   "execution_count": null,
   "id": "9df04dd2-c834-4467-829b-6339520f37fb",
   "metadata": {},
   "outputs": [],
   "source": [
    "prompt = f\"\"\"\n",
    "Your task is to help a marketing team create a \n",
    "description for a retail website of a product based \n",
    "on a technical fact sheet.\n",
    "\n",
    "Write a product description based on the information \n",
    "provided in the technical specifications delimited by \n",
    "triple backticks.\n",
    "\n",
    "The description is intended for furniture retailers, \n",
    "so should be technical in nature and focus on the \n",
    "materials the product is constructed from.\n",
    "\n",
    "Use at most 50 words.\n",
    "\n",
    "Technical specifications: ```{fact_sheet_chair}```\n",
    "\"\"\"\n",
    "response = get_completion(prompt)\n",
    "print(response)"
   ]
  },
  {
   "cell_type": "code",
   "execution_count": null,
   "id": "9dcca170-edd6-40ab-89e5-6f3b041e49e0",
   "metadata": {},
   "outputs": [],
   "source": [
    "\"\"\"\n",
    "Introducing our mid-century inspired office chair, perfect for both home and business settings. With a range of shell colors and base finishes, including stainless steel and matte black, this chair is available with or without armrests. The 5-wheel plastic coated aluminum base and pneumatic chair adjust make it easy to move and adjust to your desired height. Made with high-quality materials, including a cast aluminum shell and HD36 foam seat, this chair is built to last.\n",
    "\"\"\""
   ]
  },
  {
   "cell_type": "markdown",
   "id": "bb024351-6a1b-438d-9762-7b25dc01a155",
   "metadata": {},
   "source": [
    "### 输出产品ID\n",
    "At the end of the description, include every 7-character \n",
    "Product ID in the technical specification."
   ]
  },
  {
   "cell_type": "code",
   "execution_count": null,
   "id": "737c851c-cad8-4e28-baf7-dcaa8524920c",
   "metadata": {},
   "outputs": [],
   "source": [
    "prompt = f\"\"\"\n",
    "Your task is to help a marketing team create a \n",
    "description for a retail website of a product based \n",
    "on a technical fact sheet.\n",
    "\n",
    "Write a product description based on the information \n",
    "provided in the technical specifications delimited by \n",
    "triple backticks.\n",
    "\n",
    "The description is intended for furniture retailers, \n",
    "so should be technical in nature and focus on the \n",
    "materials the product is constructed from.\n",
    "\n",
    "At the end of the description, include every 7-character \n",
    "Product ID in the technical specification.\n",
    "\n",
    "Use at most 50 words.\n",
    "\n",
    "Technical specifications: ```{fact_sheet_chair}```\n",
    "\"\"\"\n",
    "response = get_completion(prompt)\n",
    "print(response)"
   ]
  },
  {
   "cell_type": "code",
   "execution_count": null,
   "id": "ac21280d-cbf7-4ac3-a92b-10b7312c9de3",
   "metadata": {},
   "outputs": [],
   "source": [
    "\"\"\"\n",
    "Introducing our mid-century inspired office chair, perfect for home or business settings. With a range of shell colors and base finishes, and the option of plastic or full upholstery, this chair is both stylish and comfortable. Constructed with a 5-wheel plastic coated aluminum base and pneumatic chair adjust, it's also practical. Available with or without armrests and suitable for contract use. Product ID: SWC-100, SWC-110.\n",
    "\"\"\""
   ]
  },
  {
   "cell_type": "markdown",
   "id": "e004ceec-ded2-42f7-b9f4-c8bddcfda025",
   "metadata": {},
   "source": [
    "### 一个更复杂的指示看看ChatGPT可以获得什么结果"
   ]
  },
  {
   "cell_type": "code",
   "execution_count": null,
   "id": "7278379f-9f9f-445f-a6f5-0df7b65d81a6",
   "metadata": {},
   "outputs": [],
   "source": [
    "prompt = f\"\"\"\n",
    "Your task is to help a marketing team create a \n",
    "description for a retail website of a product based \n",
    "on a technical fact sheet.\n",
    "\n",
    "Write a product description based on the information \n",
    "provided in the technical specifications delimited by \n",
    "triple backticks.\n",
    "\n",
    "The description is intended for furniture retailers, \n",
    "so should be technical in nature and focus on the \n",
    "materials the product is constructed from.\n",
    "\n",
    "At the end of the description, include every 7-character \n",
    "Product ID in the technical specification.\n",
    "\n",
    "After the description, include a table that gives the \n",
    "product's dimensions. The table should have two columns.\n",
    "In the first column include the name of the dimension. \n",
    "In the second column include the measurements in inches only.\n",
    "\n",
    "Give the table the title 'Product Dimensions'.\n",
    "\n",
    "Format everything as HTML that can be used in a website. \n",
    "Place the description in a <div> element.\n",
    "\n",
    "Technical specifications: ```{fact_sheet_chair}```\n",
    "\"\"\"\n",
    "\n",
    "response = get_completion(prompt)\n",
    "print(response)"
   ]
  },
  {
   "cell_type": "code",
   "execution_count": null,
   "id": "ed99a4dc-1370-4f5c-ae54-8254cbdb885e",
   "metadata": {},
   "outputs": [],
   "source": [
    "\"\"\"\n",
    "<div>\n",
    "<h2>Mid-Century Inspired Office Chair</h2>\n",
    "<p>Introducing our mid-century inspired office chair, part of a beautiful family of office furniture that includes filing cabinets, desks, bookcases, meeting tables, and more. This chair is available in several options of shell color and base finishes, allowing you to customize it to your liking. You can choose between plastic back and front upholstery or full upholstery in 10 fabric and 6 leather options. The base finish options are stainless steel, matte black, gloss white, or chrome. The chair is also available with or without armrests, making it suitable for both home and business settings. Plus, it's qualified for contract use, so you can trust its durability and quality.</p>\n",
    "<h3>Construction</h3>\n",
    "<p>The chair features a 5-wheel plastic coated aluminum base and a pneumatic chair adjust for easy raise/lower action. You can choose between soft or hard-floor caster options and two choices of seat foam densities: medium (1.8 lb/ft3) or high (2.8 lb/ft3). The chair is also available with armless or 8 position PU armrests.</p>\n",
    "<h3>Materials</h3>\n",
    "<p>The shell base glider is made of cast aluminum with modified nylon PA6/PA66 coating, and the shell thickness is 10 mm. The seat is made of HD36 foam, ensuring comfort and support.</p>\n",
    "<h3>Product Dimensions</h3>\n",
    "<table>\n",
    "  <tr>\n",
    "    <td>Width</td>\n",
    "    <td>53 cm | 20.87\"</td>\n",
    "  </tr>\n",
    "  <tr>\n",
    "    <td>Depth</td>\n",
    "    <td>51 cm | 20.08\"</td>\n",
    "  </tr>\n",
    "  <tr>\n",
    "    <td>Height</td>\n",
    "    <td>80 cm | 31.50\"</td>\n",
    "  </tr>\n",
    "  <tr>\n",
    "    <td>Seat Height</td>\n",
    "    <td>44 cm | 17.32\"</td>\n",
    "  </tr>\n",
    "  <tr>\n",
    "    <td>Seat Depth</td>\n",
    "    <td>41 cm | 16.14\"</td>\n",
    "  </tr>\n",
    "</table>\n",
    "<h3>Product ID</h3>\n",
    "<p>SWC-100, SWC-110</p>\n",
    "</div>\n",
    "\"\"\""
   ]
  },
  {
   "cell_type": "markdown",
   "id": "36378f04-91d9-4984-842e-016d75263427",
   "metadata": {},
   "source": [
    "## 显示HTML"
   ]
  },
  {
   "cell_type": "code",
   "execution_count": null,
   "id": "f291ab31-9e52-4528-ba0d-efc05d506722",
   "metadata": {},
   "outputs": [],
   "source": [
    "from IPython.display import display, HTML"
   ]
  },
  {
   "cell_type": "code",
   "execution_count": null,
   "id": "24d0e92e-033c-4db1-9a90-23d88db2898b",
   "metadata": {},
   "outputs": [],
   "source": [
    "display(HTML(response))"
   ]
  },
  {
   "cell_type": "code",
   "execution_count": null,
   "id": "63d745e9-0910-497f-a94d-327f8417f8f3",
   "metadata": {},
   "outputs": [],
   "source": [
    "\"\"\"\n",
    "Mid-Century Inspired Office Chair\n",
    "Introducing our mid-century inspired office chair, part of a beautiful family of office furniture that includes filing cabinets, desks, bookcases, meeting tables, and more. This chair is available in several options of shell color and base finishes, allowing you to customize it to your liking. You can choose between plastic back and front upholstery or full upholstery in 10 fabric and 6 leather options. The base finish options are stainless steel, matte black, gloss white, or chrome. The chair is also available with or without armrests, making it suitable for both home and business settings. Plus, it's qualified for contract use, so you can trust its durability and quality.\n",
    "\n",
    "Construction\n",
    "The chair features a 5-wheel plastic coated aluminum base and a pneumatic chair adjust for easy raise/lower action. You can choose between soft or hard-floor caster options and two choices of seat foam densities: medium (1.8 lb/ft3) or high (2.8 lb/ft3). The chair is also available with armless or 8 position PU armrests.\n",
    "\n",
    "Materials\n",
    "The shell base glider is made of cast aluminum with modified nylon PA6/PA66 coating, and the shell thickness is 10 mm. The seat is made of HD36 foam, ensuring comfort and support.\n",
    "\n",
    "Product Dimensions\n",
    "Width\t53 cm | 20.87\"\n",
    "Depth\t51 cm | 20.08\"\n",
    "Height\t80 cm | 31.50\"\n",
    "Seat Height\t44 cm | 17.32\"\n",
    "Seat Depth\t41 cm | 16.14\"\n",
    "Product ID\n",
    "SWC-100, SWC-110\n",
    "\"\"\""
   ]
  }
 ],
 "metadata": {
  "kernelspec": {
   "display_name": "Python 3 (ipykernel)",
   "language": "python",
   "name": "python3"
  },
  "language_info": {
   "codemirror_mode": {
    "name": "ipython",
    "version": 3
   },
   "file_extension": ".py",
   "mimetype": "text/x-python",
   "name": "python",
   "nbconvert_exporter": "python",
   "pygments_lexer": "ipython3",
   "version": "3.9.12"
  }
 },
 "nbformat": 4,
 "nbformat_minor": 5
}
