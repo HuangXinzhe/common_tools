{
 "cells": [
  {
   "cell_type": "markdown",
   "id": "679256ba-0323-4713-9b95-87e1d8ac0475",
   "metadata": {},
   "source": [
    "# 转换"
   ]
  },
  {
   "cell_type": "code",
   "execution_count": null,
   "id": "e7975d50-5969-4382-a812-9517c945855f",
   "metadata": {},
   "outputs": [],
   "source": [
    "import openai\n",
    "import os\n",
    "\n",
    "from dotenv import load_dotenv, find_dotenv\n",
    "_ = load_dotenv(find_dotenv()) # read local .env file\n",
    "\n",
    "openai.api_key  = os.getenv('OPENAI_API_KEY')"
   ]
  },
  {
   "cell_type": "code",
   "execution_count": null,
   "id": "721a4515-e95c-4322-9ecd-6667247fa191",
   "metadata": {},
   "outputs": [],
   "source": [
    "def get_completion(prompt, model=\"gpt-3.5-turbo\", temperature=0): \n",
    "    messages = [{\"role\": \"user\", \"content\": prompt}]\n",
    "    response = openai.ChatCompletion.create(\n",
    "        model=model,\n",
    "        messages=messages,\n",
    "        temperature=temperature, \n",
    "    )\n",
    "    return response.choices[0].message[\"content\"]"
   ]
  },
  {
   "cell_type": "markdown",
   "id": "eb7275d4-2749-4bac-ae2c-7962dc309287",
   "metadata": {},
   "source": [
    "## 翻译任务"
   ]
  },
  {
   "cell_type": "markdown",
   "id": "b17b5743-bcc9-4ecb-a558-7abf96e4d59c",
   "metadata": {},
   "source": [
    "### 英文翻译西班牙语"
   ]
  },
  {
   "cell_type": "code",
   "execution_count": null,
   "id": "708ce059-7b9e-474f-9067-306794ce32e8",
   "metadata": {},
   "outputs": [],
   "source": [
    "prompt = f\"\"\"\n",
    "Translate the following English text to Spanish: \\ \n",
    "```Hi, I would like to order a blender```\n",
    "\"\"\"\n",
    "response = get_completion(prompt)\n",
    "print(response)"
   ]
  },
  {
   "cell_type": "code",
   "execution_count": null,
   "id": "fbe90909-7859-4ac3-880f-7283e5f9aa31",
   "metadata": {},
   "outputs": [],
   "source": [
    "\"\"\"\n",
    "Hola, me gustaría ordenar una licuadora.\n",
    "\"\"\""
   ]
  },
  {
   "cell_type": "markdown",
   "id": "8d6ee2bf-f262-49df-a84a-2028cc3af614",
   "metadata": {},
   "source": [
    "### 判断是什么语言"
   ]
  },
  {
   "cell_type": "code",
   "execution_count": null,
   "id": "3777d42c-9e1f-48a4-8f4b-5512d2d8f2ac",
   "metadata": {},
   "outputs": [],
   "source": [
    "prompt = f\"\"\"\n",
    "Tell me which language this is: \n",
    "```Combien coûte le lampadaire?```\n",
    "\"\"\"\n",
    "response = get_completion(prompt)\n",
    "print(response)"
   ]
  },
  {
   "cell_type": "code",
   "execution_count": null,
   "id": "460ed3cf-957c-4085-be11-b2adddf7f522",
   "metadata": {},
   "outputs": [],
   "source": [
    "\"\"\"\n",
    "This is French.\n",
    "\"\"\""
   ]
  },
  {
   "cell_type": "markdown",
   "id": "15e13386-5baa-4c26-bcc9-f691f1281a57",
   "metadata": {},
   "source": [
    "### 多种语言输出"
   ]
  },
  {
   "cell_type": "code",
   "execution_count": null,
   "id": "53505862-f47d-4a6b-9478-bb3dcba6669f",
   "metadata": {},
   "outputs": [],
   "source": [
    "prompt = f\"\"\"\n",
    "Translate the following  text to French and Spanish\n",
    "and English pirate: \\\n",
    "```I want to order a basketball```\n",
    "\"\"\"\n",
    "response = get_completion(prompt)\n",
    "print(response)"
   ]
  },
  {
   "cell_type": "code",
   "execution_count": null,
   "id": "99e92697-e720-4720-ad44-71d4b437c1df",
   "metadata": {},
   "outputs": [],
   "source": [
    "\"\"\"\n",
    "French pirate: ```Je veux commander un ballon de basket```\n",
    "Spanish pirate: ```Quiero ordenar una pelota de baloncesto```\n",
    "English pirate: ```I want to order a basketball```\n",
    "\"\"\""
   ]
  },
  {
   "cell_type": "markdown",
   "id": "98b4ebf4-44de-4544-8b1f-86b7308be56c",
   "metadata": {},
   "source": [
    "### 翻译成正式语非正式的说法"
   ]
  },
  {
   "cell_type": "code",
   "execution_count": null,
   "id": "8a2d9a3d-98c9-46bf-b10f-37c6f86553e5",
   "metadata": {},
   "outputs": [],
   "source": [
    "prompt = f\"\"\"\n",
    "Translate the following text to Spanish in both the \\\n",
    "formal and informal forms: \n",
    "'Would you like to order a pillow?'\n",
    "\"\"\"\n",
    "response = get_completion(prompt)\n",
    "print(response)"
   ]
  },
  {
   "cell_type": "code",
   "execution_count": null,
   "id": "7a9746dd-5094-4c28-8736-c6b55ac410b0",
   "metadata": {},
   "outputs": [],
   "source": [
    "\"\"\"\n",
    "Formal: ¿Le gustaría ordenar una almohada?\n",
    "Informal: ¿Te gustaría ordenar una almohada?\n",
    "\"\"\""
   ]
  },
  {
   "cell_type": "markdown",
   "id": "b51e7788-1c39-400d-a391-ea1965fd3bbe",
   "metadata": {},
   "source": [
    "## 通用翻译"
   ]
  },
  {
   "cell_type": "code",
   "execution_count": null,
   "id": "82259ef5-0f90-47fc-ab12-58ae5380aaea",
   "metadata": {},
   "outputs": [],
   "source": [
    "user_messages = [\n",
    "  \"La performance du système est plus lente que d'habitude.\",  # System performance is slower than normal         \n",
    "  \"Mi monitor tiene píxeles que no se iluminan.\",              # My monitor has pixels that are not lighting\n",
    "  \"Il mio mouse non funziona\",                                 # My mouse is not working\n",
    "  \"Mój klawisz Ctrl jest zepsuty\",                             # My keyboard has a broken control key\n",
    "  \"我的屏幕在闪烁\"                                               # My screen is flashing\n",
    "] "
   ]
  },
  {
   "cell_type": "code",
   "execution_count": null,
   "id": "ae01ac9c-a24a-4dbe-b5dd-6b0aa18b6eae",
   "metadata": {},
   "outputs": [],
   "source": [
    "for issue in user_messages:\n",
    "    prompt = f\"Tell me what language this is: ```{issue}```\"\n",
    "    lang = get_completion(prompt)\n",
    "    print(f\"Original message ({lang}): {issue}\")\n",
    "\n",
    "    prompt = f\"\"\"\n",
    "    Translate the following  text to English \\\n",
    "    and Korean: ```{issue}```\n",
    "    \"\"\"\n",
    "    response = get_completion(prompt)\n",
    "    print(response, \"\\n\")"
   ]
  },
  {
   "cell_type": "code",
   "execution_count": null,
   "id": "f46334f1-6297-429e-afdf-836eea99cafb",
   "metadata": {},
   "outputs": [],
   "source": [
    "\"\"\"\n",
    "Original message (This is French.): La performance du système est plus lente que d'habitude.\n",
    "English: The system performance is slower than usual.\n",
    "Korean: 시스템 성능이 평소보다 느립니다. \n",
    "\n",
    "Original message (This is Spanish.): Mi monitor tiene píxeles que no se iluminan.\n",
    "English: My monitor has pixels that don't light up.\n",
    "Korean: 내 모니터에는 불이 켜지지 않는 픽셀이 있습니다. \n",
    "\n",
    "Original message (This is Italian.): Il mio mouse non funziona\n",
    "English: My mouse is not working.\n",
    "Korean: 내 마우스가 작동하지 않습니다. \n",
    "\n",
    "Original message (This is Polish.): Mój klawisz Ctrl jest zepsuty\n",
    "English: My Ctrl key is broken.\n",
    "Korean: 제 Ctrl 키가 고장 났어요. \n",
    "\n",
    "Original message (This is Chinese (Simplified).): 我的屏幕在闪烁\n",
    "English: My screen is flickering.\n",
    "Korean: 내 화면이 깜빡입니다.\n",
    "\"\"\""
   ]
  },
  {
   "cell_type": "markdown",
   "id": "bfd5bb96-3d2d-44c0-952f-add119e2fcde",
   "metadata": {},
   "source": [
    "## 语气转换"
   ]
  },
  {
   "cell_type": "markdown",
   "id": "89dd5307-1382-4129-9586-8d3573d90aac",
   "metadata": {},
   "source": [
    "### 俚语翻译成商业信函"
   ]
  },
  {
   "cell_type": "code",
   "execution_count": null,
   "id": "4946837c-af64-410c-8468-fe258f30a483",
   "metadata": {},
   "outputs": [],
   "source": [
    "prompt = f\"\"\"\n",
    "Translate the following from slang to a business letter: \n",
    "'Dude, This is Joe, check out this spec on this standing lamp.'\n",
    "\"\"\"\n",
    "response = get_completion(prompt)\n",
    "print(response)"
   ]
  },
  {
   "cell_type": "code",
   "execution_count": null,
   "id": "92d75dfc-d6a8-4709-a0a1-b43c5ab85e92",
   "metadata": {},
   "outputs": [],
   "source": [
    "\"\"\"\n",
    "Dear Sir/Madam,\n",
    "\n",
    "I am writing to bring to your attention a standing lamp that I believe may be of interest to you. Please find attached the specifications for your review.\n",
    "\n",
    "Thank you for your time and consideration.\n",
    "\n",
    "Sincerely,\n",
    "\n",
    "Joe\n",
    "\"\"\""
   ]
  },
  {
   "cell_type": "markdown",
   "id": "b7f5274b-85a1-4c42-99bd-dbce05c03cbf",
   "metadata": {},
   "source": [
    "### 转换不同的格式"
   ]
  },
  {
   "cell_type": "code",
   "execution_count": null,
   "id": "ffbdad79-e6fd-491e-b59a-49e95cac7c93",
   "metadata": {},
   "outputs": [],
   "source": [
    "data_json = { \"resturant employees\" :[ \n",
    "    {\"name\":\"Shyam\", \"email\":\"shyamjaiswal@gmail.com\"},\n",
    "    {\"name\":\"Bob\", \"email\":\"bob32@gmail.com\"},\n",
    "    {\"name\":\"Jai\", \"email\":\"jai87@gmail.com\"}\n",
    "]}\n",
    "\n",
    "prompt = f\"\"\"\n",
    "Translate the following python dictionary from JSON to an HTML \\\n",
    "table with column headers and title: {data_json}\n",
    "\"\"\"\n",
    "response = get_completion(prompt)\n",
    "print(response)"
   ]
  },
  {
   "cell_type": "code",
   "execution_count": null,
   "id": "56aa9f4c-0552-4f2e-88f8-9b3f4fa88535",
   "metadata": {},
   "outputs": [],
   "source": [
    "\"\"\"\n",
    "<table>\n",
    "  <caption>Restaurant Employees</caption>\n",
    "  <thead>\n",
    "    <tr>\n",
    "      <th>Name</th>\n",
    "      <th>Email</th>\n",
    "    </tr>\n",
    "  </thead>\n",
    "  <tbody>\n",
    "    <tr>\n",
    "      <td>Shyam</td>\n",
    "      <td>shyamjaiswal@gmail.com</td>\n",
    "    </tr>\n",
    "    <tr>\n",
    "      <td>Bob</td>\n",
    "      <td>bob32@gmail.com</td>\n",
    "    </tr>\n",
    "    <tr>\n",
    "      <td>Jai</td>\n",
    "      <td>jai87@gmail.com</td>\n",
    "    </tr>\n",
    "  </tbody>\n",
    "</table>\n",
    "\"\"\""
   ]
  },
  {
   "cell_type": "markdown",
   "id": "71737842-6a15-44bb-8c7a-0cd6f1b2d784",
   "metadata": {},
   "source": [
    "### 显示HTML"
   ]
  },
  {
   "cell_type": "code",
   "execution_count": null,
   "id": "d393774c-0a47-4263-983b-90ab21fc2bdb",
   "metadata": {},
   "outputs": [],
   "source": [
    "from IPython.display import display, Markdown, Latex, HTML, JSON\n",
    "display(HTML(response))"
   ]
  },
  {
   "cell_type": "code",
   "execution_count": null,
   "id": "7faaf8da-d15b-48e7-92e0-5aecfc74b858",
   "metadata": {},
   "outputs": [],
   "source": [
    "\"\"\"\n",
    "Restaurant Employees\n",
    "Name\tEmail\n",
    "Shyam\tshyamjaiswal@gmail.com\n",
    "Bob\tbob32@gmail.com\n",
    "Jai\tjai87@gmail.com\n",
    "\"\"\""
   ]
  },
  {
   "cell_type": "markdown",
   "id": "4b972756-6669-48a8-8c3e-a050a226b50b",
   "metadata": {},
   "source": [
    "### 拼写检查与语法检查"
   ]
  },
  {
   "cell_type": "code",
   "execution_count": null,
   "id": "bad62fc0-3953-45fd-a639-50259b4b9992",
   "metadata": {},
   "outputs": [],
   "source": [
    "text = [ \n",
    "  \"The girl with the black and white puppies have a ball.\",  # The girl has a ball.\n",
    "  \"Yolanda has her notebook.\", # ok\n",
    "  \"Its going to be a long day. Does the car need it’s oil changed?\",  # Homonyms\n",
    "  \"Their goes my freedom. There going to bring they’re suitcases.\",  # Homonyms\n",
    "  \"Your going to need you’re notebook.\",  # Homonyms\n",
    "  \"That medicine effects my ability to sleep. Have you heard of the butterfly affect?\", # Homonyms\n",
    "  \"This phrase is to cherck chatGPT for speling abilitty\"  # spelling\n",
    "]\n",
    "for t in text:\n",
    "    prompt = f\"\"\"Proofread and correct the following text\n",
    "    and rewrite the corrected version. If you don't find\n",
    "    and errors, just say \"No errors found\". Don't use \n",
    "    any punctuation around the text:\n",
    "    ```{t}```\"\"\"\n",
    "    response = get_completion(prompt)\n",
    "    print(response)"
   ]
  },
  {
   "cell_type": "code",
   "execution_count": null,
   "id": "5a70db7b-cae7-4e57-8ac8-4df2f51df264",
   "metadata": {},
   "outputs": [],
   "source": [
    "\"\"\"\n",
    "The girl with the black and white puppies has a ball.\n",
    "No errors found.\n",
    "It's going to be a long day. Does the car need its oil changed?\n",
    "Their goes my freedom. There going to bring they're suitcases.\n",
    "\n",
    "Corrected version: \n",
    "There goes my freedom. They're going to bring their suitcases.\n",
    "You're going to need your notebook.\n",
    "That medicine affects my ability to sleep. Have you heard of the butterfly effect?\n",
    "This phrase is to check ChatGPT for spelling ability.\n",
    "\"\"\""
   ]
  },
  {
   "cell_type": "code",
   "execution_count": null,
   "id": "19332904-d1ee-4583-afb6-a5e52661bbb8",
   "metadata": {},
   "outputs": [],
   "source": [
    "text = f\"\"\"\n",
    "Got this for my daughter for her birthday cuz she keeps taking \\\n",
    "mine from my room.  Yes, adults also like pandas too.  She takes \\\n",
    "it everywhere with her, and it's super soft and cute.  One of the \\\n",
    "ears is a bit lower than the other, and I don't think that was \\\n",
    "designed to be asymmetrical. It's a bit small for what I paid for it \\\n",
    "though. I think there might be other options that are bigger for \\\n",
    "the same price.  It arrived a day earlier than expected, so I got \\\n",
    "to play with it myself before I gave it to my daughter.\n",
    "\"\"\"\n",
    "prompt = f\"proofread and correct this review: ```{text}```\"\n",
    "response = get_completion(prompt)\n",
    "print(response)"
   ]
  },
  {
   "cell_type": "code",
   "execution_count": null,
   "id": "623fa52e-5687-4d57-a80d-6da785ed5f0f",
   "metadata": {},
   "outputs": [],
   "source": [
    "\"\"\"\n",
    "I got this for my daughter's birthday because she keeps taking mine from my room. Yes, adults also like pandas too. She takes it everywhere with her, and it's super soft and cute. However, one of the ears is a bit lower than the other, and I don't think that was designed to be asymmetrical. Additionally, it's a bit small for what I paid for it. I think there might be other options that are bigger for the same price. On the positive side, it arrived a day earlier than expected, so I got to play with it myself before I gave it to my daughter.\n",
    "\"\"\""
   ]
  },
  {
   "cell_type": "markdown",
   "id": "37129af4-a4cf-4e5a-9b76-3d689d4455d6",
   "metadata": {},
   "source": [
    "## 检查原始文本与模型输出之间的区别"
   ]
  },
  {
   "cell_type": "code",
   "execution_count": null,
   "id": "ab7df563-3658-4c3f-b9f4-75bb110d482a",
   "metadata": {},
   "outputs": [],
   "source": [
    "from redlines import Redlines\n",
    "\n",
    "diff = Redlines(text,response)\n",
    "display(Markdown(diff.output_markdown))"
   ]
  },
  {
   "cell_type": "code",
   "execution_count": null,
   "id": "c6e6d7e9-7a11-4dfb-92a3-a007dd3fe1c9",
   "metadata": {},
   "outputs": [],
   "source": [
    "\"\"\"\n",
    "Got I got this for my daughter for her daughter's birthday cuz because she keeps taking mine from my room. room. Yes, adults also like pandas too. too. She takes it everywhere with her, and it's super soft and cute. One cute. However, one of the ears is a bit lower than the other, and I don't think that was designed to be asymmetrical. It's Additionally, it's a bit small for what I paid for it though. it. I think there might be other options that are bigger for the same price. It price. On the positive side, it arrived a day earlier than expected, so I got to play with it myself before I gave it to my daughter. daughter.\n",
    "\"\"\""
   ]
  },
  {
   "cell_type": "markdown",
   "id": "bc8dc5cb-09a1-40e1-993b-dc3e0c338930",
   "metadata": {},
   "source": [
    "## 改变说话的语气"
   ]
  },
  {
   "cell_type": "code",
   "execution_count": null,
   "id": "5da7a725-4e46-43c7-abe5-2dbe740a7760",
   "metadata": {},
   "outputs": [],
   "source": [
    "prompt = f\"\"\"\n",
    "proofread and correct this review. Make it more compelling. \n",
    "Ensure it follows APA style guide and targets an advanced reader. \n",
    "Output in markdown format.\n",
    "Text: ```{text}```\n",
    "\"\"\"\n",
    "response = get_completion(prompt)\n",
    "display(Markdown(response))"
   ]
  },
  {
   "cell_type": "code",
   "execution_count": null,
   "id": "261de1a4-f0b7-4893-87c8-57ece9e94bc6",
   "metadata": {},
   "outputs": [],
   "source": [
    "\"\"\"\n",
    "Title: A Soft and Cute Panda Plush Toy for All Ages\n",
    "\n",
    "Introduction: As a parent, finding the perfect gift for your child's birthday can be a daunting task. However, I stumbled upon a soft and cute panda plush toy that not only made my daughter happy but also brought joy to me as an adult. In this review, I will share my experience with this product and provide an honest assessment of its features.\n",
    "\n",
    "Product Description: The panda plush toy is made of high-quality materials that make it super soft and cuddly. Its cute design is perfect for children and adults alike, making it a versatile gift option. The toy is small enough to carry around, making it an ideal companion for your child on their adventures.\n",
    "\n",
    "Pros: The panda plush toy is incredibly soft and cute, making it an excellent gift for children and adults. Its small size makes it easy to carry around, and its design is perfect for snuggling. The toy arrived a day earlier than expected, which was a pleasant surprise.\n",
    "\n",
    "Cons: One of the ears is a bit lower than the other, which makes the toy asymmetrical. Additionally, the toy is a bit small for its price, and there might be other options that are bigger for the same price.\n",
    "\n",
    "Conclusion: Overall, the panda plush toy is an excellent gift option for children and adults who love cute and cuddly toys. Despite its small size and asymmetrical design, the toy's softness and cuteness make up for its shortcomings. I highly recommend this product to anyone looking for a versatile and adorable gift option.\n",
    "\"\"\""
   ]
  },
  {
   "cell_type": "markdown",
   "id": "d5950112-7dbd-4606-9897-cdde16f16ad0",
   "metadata": {},
   "source": [
    "Thanks to the following sites:\n",
    "\n",
    "https://writingprompts.com/bad-grammar-examples/"
   ]
  },
  {
   "cell_type": "code",
   "execution_count": null,
   "id": "316f1e46-d0ea-46e6-9712-952d20ed11c5",
   "metadata": {},
   "outputs": [],
   "source": []
  }
 ],
 "metadata": {
  "kernelspec": {
   "display_name": "Python 3 (ipykernel)",
   "language": "python",
   "name": "python3"
  },
  "language_info": {
   "codemirror_mode": {
    "name": "ipython",
    "version": 3
   },
   "file_extension": ".py",
   "mimetype": "text/x-python",
   "name": "python",
   "nbconvert_exporter": "python",
   "pygments_lexer": "ipython3",
   "version": "3.9.12"
  }
 },
 "nbformat": 4,
 "nbformat_minor": 5
}
