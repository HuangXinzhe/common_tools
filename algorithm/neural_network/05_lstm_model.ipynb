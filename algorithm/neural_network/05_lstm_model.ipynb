{
 "cells": [
  {
   "cell_type": "code",
   "execution_count": 1,
   "id": "05792693-0677-4947-8d03-1b9cbc4fc36d",
   "metadata": {},
   "outputs": [],
   "source": [
    "import torch\n",
    "from torch.nn import LSTM"
   ]
  },
  {
   "cell_type": "code",
   "execution_count": 2,
   "id": "03840b8f-75c1-47c8-8b81-5b38d5a1e33e",
   "metadata": {},
   "outputs": [],
   "source": [
    "lstm = LSTM(input_size=4, hidden_size=5, batch_first=True)"
   ]
  },
  {
   "cell_type": "code",
   "execution_count": 3,
   "id": "babb2203-4c70-4fae-afd9-ee4ece152311",
   "metadata": {},
   "outputs": [],
   "source": [
    "inputs = torch.rand(2, 3, 4)"
   ]
  },
  {
   "cell_type": "code",
   "execution_count": 5,
   "id": "d59c1b0d-99a1-4795-9eef-9763bce289e7",
   "metadata": {},
   "outputs": [],
   "source": [
    "outputs, (hn, cn) = lstm(inputs)  # cn最后一个时刻的记忆细胞"
   ]
  },
  {
   "cell_type": "code",
   "execution_count": 6,
   "id": "5bdac8ad-bb9d-42bf-8b1c-823cd76bc0aa",
   "metadata": {},
   "outputs": [
    {
     "data": {
      "text/plain": [
       "tensor([[[-0.0871, -0.0022, -0.1024, -0.1055, -0.0509],\n",
       "         [-0.1377,  0.0495, -0.1342, -0.1802, -0.1329],\n",
       "         [-0.0961,  0.1128, -0.1886, -0.2101, -0.0271]],\n",
       "\n",
       "        [[-0.1080, -0.0635, -0.0588, -0.1105, -0.0700],\n",
       "         [-0.0955,  0.0191, -0.1242, -0.1610, -0.0839],\n",
       "         [-0.0887,  0.1168, -0.1838, -0.1895, -0.0822]]],\n",
       "       grad_fn=<TransposeBackward0>)"
      ]
     },
     "execution_count": 6,
     "metadata": {},
     "output_type": "execute_result"
    }
   ],
   "source": [
    "outputs"
   ]
  },
  {
   "cell_type": "code",
   "execution_count": 7,
   "id": "11af2c65-dd6f-4d78-aa92-b8b5df20eb61",
   "metadata": {},
   "outputs": [
    {
     "data": {
      "text/plain": [
       "tensor([[[-0.0961,  0.1128, -0.1886, -0.2101, -0.0271],\n",
       "         [-0.0887,  0.1168, -0.1838, -0.1895, -0.0822]]],\n",
       "       grad_fn=<StackBackward0>)"
      ]
     },
     "execution_count": 7,
     "metadata": {},
     "output_type": "execute_result"
    }
   ],
   "source": [
    "hn"
   ]
  },
  {
   "cell_type": "code",
   "execution_count": 8,
   "id": "03e982ae-f741-4141-8d4b-08b93528aba0",
   "metadata": {},
   "outputs": [
    {
     "data": {
      "text/plain": [
       "tensor([[[-0.2499,  0.1841, -0.3756, -0.4434, -0.0516],\n",
       "         [-0.2295,  0.1799, -0.3366, -0.3996, -0.1717]]],\n",
       "       grad_fn=<StackBackward0>)"
      ]
     },
     "execution_count": 8,
     "metadata": {},
     "output_type": "execute_result"
    }
   ],
   "source": [
    "cn"
   ]
  },
  {
   "cell_type": "code",
   "execution_count": 9,
   "id": "5ee85237-82c9-4135-8694-9f54f1f437b5",
   "metadata": {},
   "outputs": [
    {
     "data": {
      "text/plain": [
       "torch.Size([2, 3, 5])"
      ]
     },
     "execution_count": 9,
     "metadata": {},
     "output_type": "execute_result"
    }
   ],
   "source": [
    "outputs.shape"
   ]
  },
  {
   "cell_type": "code",
   "execution_count": 10,
   "id": "cb8a798b-7138-469e-b5b1-2ad38467264a",
   "metadata": {},
   "outputs": [
    {
     "data": {
      "text/plain": [
       "torch.Size([1, 2, 5])"
      ]
     },
     "execution_count": 10,
     "metadata": {},
     "output_type": "execute_result"
    }
   ],
   "source": [
    "hn.shape"
   ]
  },
  {
   "cell_type": "code",
   "execution_count": 11,
   "id": "52153145-417b-4c55-8006-d22a1acbfd3d",
   "metadata": {},
   "outputs": [
    {
     "data": {
      "text/plain": [
       "torch.Size([1, 2, 5])"
      ]
     },
     "execution_count": 11,
     "metadata": {},
     "output_type": "execute_result"
    }
   ],
   "source": [
    "cn.shape"
   ]
  },
  {
   "cell_type": "code",
   "execution_count": null,
   "id": "bba51b25-d408-44a0-a3f1-598195d40353",
   "metadata": {},
   "outputs": [],
   "source": []
  }
 ],
 "metadata": {
  "kernelspec": {
   "display_name": "Python 3 (ipykernel)",
   "language": "python",
   "name": "python3"
  },
  "language_info": {
   "codemirror_mode": {
    "name": "ipython",
    "version": 3
   },
   "file_extension": ".py",
   "mimetype": "text/x-python",
   "name": "python",
   "nbconvert_exporter": "python",
   "pygments_lexer": "ipython3",
   "version": "3.9.12"
  }
 },
 "nbformat": 4,
 "nbformat_minor": 5
}
