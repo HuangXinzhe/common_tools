{
 "cells": [
  {
   "cell_type": "code",
   "execution_count": 4,
   "id": "4ae20839-83d3-4fab-a662-6b0bcc81b2ee",
   "metadata": {},
   "outputs": [],
   "source": [
    "import torch\n",
    "from torch.nn import RNN"
   ]
  },
  {
   "cell_type": "code",
   "execution_count": 5,
   "id": "174c107c-2e82-4922-82b9-52707414276a",
   "metadata": {},
   "outputs": [],
   "source": [
    "# batch_first为true代表输入与输出的第一个维度为批次大小\n",
    "rnn = RNN(input_size=4, hidden_size=5, batch_first=True)  # bidirectional是否为双向，num_layers堆叠的循环神经网络层数"
   ]
  },
  {
   "cell_type": "code",
   "execution_count": 6,
   "id": "55c418f4-073e-4216-a9df-8aaf715578d9",
   "metadata": {},
   "outputs": [],
   "source": [
    "inputs = torch.rand(2, 3, 4)  # 批次，序列，每个时刻输入"
   ]
  },
  {
   "cell_type": "code",
   "execution_count": 7,
   "id": "72e3f70c-34ad-471c-9fc2-3c8f46d18d42",
   "metadata": {},
   "outputs": [],
   "source": [
    "outputs, hn = rnn(inputs)"
   ]
  },
  {
   "cell_type": "code",
   "execution_count": 8,
   "id": "2ffb527f-d4e2-496b-99f2-1eec0ecc5768",
   "metadata": {},
   "outputs": [
    {
     "data": {
      "text/plain": [
       "tensor([[[ 0.4742, -0.0563, -0.2168, -0.5440,  0.2212],\n",
       "         [ 0.0830, -0.4005, -0.0939, -0.4893,  0.4375],\n",
       "         [ 0.5557, -0.4044,  0.0556, -0.2972,  0.4297]],\n",
       "\n",
       "        [[ 0.3841, -0.1175, -0.1252, -0.3692,  0.2413],\n",
       "         [ 0.4197, -0.4764, -0.1622, -0.6671,  0.2933],\n",
       "         [ 0.4343, -0.1987, -0.2733, -0.5032,  0.3062]]],\n",
       "       grad_fn=<TransposeBackward1>)"
      ]
     },
     "execution_count": 8,
     "metadata": {},
     "output_type": "execute_result"
    }
   ],
   "source": [
    "outputs"
   ]
  },
  {
   "cell_type": "code",
   "execution_count": 9,
   "id": "401f3358-3cfd-415f-8f39-c8d261fc0297",
   "metadata": {},
   "outputs": [
    {
     "data": {
      "text/plain": [
       "tensor([[[ 0.5557, -0.4044,  0.0556, -0.2972,  0.4297],\n",
       "         [ 0.4343, -0.1987, -0.2733, -0.5032,  0.3062]]],\n",
       "       grad_fn=<StackBackward0>)"
      ]
     },
     "execution_count": 9,
     "metadata": {},
     "output_type": "execute_result"
    }
   ],
   "source": [
    "hn  # 最后一个时刻的隐含层"
   ]
  },
  {
   "cell_type": "code",
   "execution_count": 10,
   "id": "5ab0bffd-63a8-45c1-98b4-6cca5f2b5528",
   "metadata": {},
   "outputs": [
    {
     "data": {
      "text/plain": [
       "torch.Size([2, 3, 5])"
      ]
     },
     "execution_count": 10,
     "metadata": {},
     "output_type": "execute_result"
    }
   ],
   "source": [
    "outputs.shape"
   ]
  },
  {
   "cell_type": "code",
   "execution_count": 11,
   "id": "3dc73969-300b-4b2f-8fed-bede79506d10",
   "metadata": {},
   "outputs": [
    {
     "data": {
      "text/plain": [
       "torch.Size([1, 2, 5])"
      ]
     },
     "execution_count": 11,
     "metadata": {},
     "output_type": "execute_result"
    }
   ],
   "source": [
    "hn.shape"
   ]
  },
  {
   "cell_type": "code",
   "execution_count": null,
   "id": "e8329260-1b11-4685-a614-0fe9176d7793",
   "metadata": {},
   "outputs": [],
   "source": []
  }
 ],
 "metadata": {
  "kernelspec": {
   "display_name": "Python 3 (ipykernel)",
   "language": "python",
   "name": "python3"
  },
  "language_info": {
   "codemirror_mode": {
    "name": "ipython",
    "version": 3
   },
   "file_extension": ".py",
   "mimetype": "text/x-python",
   "name": "python",
   "nbconvert_exporter": "python",
   "pygments_lexer": "ipython3",
   "version": "3.9.12"
  }
 },
 "nbformat": 4,
 "nbformat_minor": 5
}
