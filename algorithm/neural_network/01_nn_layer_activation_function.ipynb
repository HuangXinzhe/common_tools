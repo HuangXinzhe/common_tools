{
 "cells": [
  {
   "cell_type": "code",
   "execution_count": 5,
   "id": "a8451029-aa06-4000-b7ea-8464f591a9f0",
   "metadata": {},
   "outputs": [],
   "source": [
    "import torch\n",
    "from torch import nn"
   ]
  },
  {
   "cell_type": "code",
   "execution_count": 3,
   "id": "d7a88513-28a9-401e-8f4d-e3767d3e3a0c",
   "metadata": {},
   "outputs": [],
   "source": [
    "linear = nn.Linear(32, 2)  # 输入32维，输出2维"
   ]
  },
  {
   "cell_type": "code",
   "execution_count": 6,
   "id": "a1f781bc-426d-4c94-a299-99c079b93e4b",
   "metadata": {},
   "outputs": [],
   "source": [
    "inputs = torch.rand(3, 32)  # 创建一个形状为（3， 32）的随机张量，3为批次大小"
   ]
  },
  {
   "cell_type": "code",
   "execution_count": 7,
   "id": "a928f359-8afc-414a-961d-b82894877bde",
   "metadata": {},
   "outputs": [],
   "source": [
    "outputs = linear(inputs)  # 输出张量形状为（3， 2）"
   ]
  },
  {
   "cell_type": "code",
   "execution_count": 8,
   "id": "bd26464b-853e-486d-ac94-7c1b91cc3b71",
   "metadata": {},
   "outputs": [
    {
     "data": {
      "text/plain": [
       "tensor([[-0.5265, -0.2535],\n",
       "        [-0.2804, -0.1383],\n",
       "        [-0.4712,  0.1166]], grad_fn=<AddmmBackward0>)"
      ]
     },
     "execution_count": 8,
     "metadata": {},
     "output_type": "execute_result"
    }
   ],
   "source": [
    "outputs"
   ]
  },
  {
   "cell_type": "markdown",
   "id": "ba3aacb4-4372-406b-88f8-1d6f1886c7eb",
   "metadata": {},
   "source": [
    "### sigmoid、softmax等激活函数包含在torch.nn.functional中"
   ]
  },
  {
   "cell_type": "code",
   "execution_count": 9,
   "id": "5dcb731c-086a-480d-b525-ded3ca513173",
   "metadata": {},
   "outputs": [
    {
     "data": {
      "text/plain": [
       "tensor([[0.3713, 0.4370],\n",
       "        [0.4304, 0.4655],\n",
       "        [0.3843, 0.5291]], grad_fn=<SigmoidBackward0>)"
      ]
     },
     "execution_count": 9,
     "metadata": {},
     "output_type": "execute_result"
    }
   ],
   "source": [
    "from torch.nn import functional as F\n",
    "activation = F.sigmoid(outputs)\n",
    "activation"
   ]
  },
  {
   "cell_type": "code",
   "execution_count": 10,
   "id": "b4d7e3d0-eff5-4fdf-8697-eec3ef8d5f62",
   "metadata": {},
   "outputs": [
    {
     "data": {
      "text/plain": [
       "tensor([[0.4322, 0.5678],\n",
       "        [0.4645, 0.5355],\n",
       "        [0.3571, 0.6429]], grad_fn=<SoftmaxBackward0>)"
      ]
     },
     "execution_count": 10,
     "metadata": {},
     "output_type": "execute_result"
    }
   ],
   "source": [
    "activation = F.softmax(outputs, dim=1)  # dim=1，对每个批次中的各样例分别进行softmax运算\n",
    "activation"
   ]
  },
  {
   "cell_type": "code",
   "execution_count": 11,
   "id": "56ce8f33-add1-48b0-9994-c0fc0fa0a3c5",
   "metadata": {},
   "outputs": [
    {
     "data": {
      "text/plain": [
       "tensor([[0.0000, 0.0000],\n",
       "        [0.0000, 0.0000],\n",
       "        [0.0000, 0.1166]], grad_fn=<ReluBackward0>)"
      ]
     },
     "execution_count": 11,
     "metadata": {},
     "output_type": "execute_result"
    }
   ],
   "source": [
    "activation = F.relu(outputs)\n",
    "activation"
   ]
  },
  {
   "cell_type": "code",
   "execution_count": null,
   "id": "72952aa6-3fa6-4df3-b15b-d39a0524f5f4",
   "metadata": {},
   "outputs": [],
   "source": []
  }
 ],
 "metadata": {
  "kernelspec": {
   "display_name": "Python 3 (ipykernel)",
   "language": "python",
   "name": "python3"
  },
  "language_info": {
   "codemirror_mode": {
    "name": "ipython",
    "version": 3
   },
   "file_extension": ".py",
   "mimetype": "text/x-python",
   "name": "python",
   "nbconvert_exporter": "python",
   "pygments_lexer": "ipython3",
   "version": "3.9.12"
  }
 },
 "nbformat": 4,
 "nbformat_minor": 5
}
