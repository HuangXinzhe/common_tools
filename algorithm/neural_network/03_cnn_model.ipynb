{
 "cells": [
  {
   "cell_type": "code",
   "execution_count": 1,
   "id": "83789c26-618c-4bc9-a868-708453e2e8c7",
   "metadata": {},
   "outputs": [],
   "source": [
    "import torch"
   ]
  },
  {
   "cell_type": "code",
   "execution_count": 2,
   "id": "e8ff13ff-0f3d-4325-bd66-e8940b1d25e6",
   "metadata": {},
   "outputs": [],
   "source": [
    "from torch.nn import Conv1d"
   ]
  },
  {
   "cell_type": "markdown",
   "id": "2a8a6608-a88c-48ab-a265-08e8d2344ffc",
   "metadata": {},
   "source": [
    "## 卷积层"
   ]
  },
  {
   "cell_type": "code",
   "execution_count": 27,
   "id": "df8ae02a-e9ea-4405-a396-ca020797a0ac",
   "metadata": {},
   "outputs": [],
   "source": [
    "conv1 = Conv1d(5, 2, 4)  # 参数分别为输入通道大小，输出通道大小，卷积核宽度"
   ]
  },
  {
   "cell_type": "code",
   "execution_count": 34,
   "id": "96e26904-c8a9-45ce-b4d2-329bba89c140",
   "metadata": {},
   "outputs": [],
   "source": [
    "conv2 = Conv1d(5, 2, 3)"
   ]
  },
  {
   "cell_type": "code",
   "execution_count": 35,
   "id": "0c85bb9c-6167-4cf7-9458-7a3f152400fe",
   "metadata": {},
   "outputs": [],
   "source": [
    "inputs = torch.rand(2, 5, 6)"
   ]
  },
  {
   "cell_type": "code",
   "execution_count": 36,
   "id": "b7ccbc50-7b3d-4a4a-8bed-7e07b5ef8899",
   "metadata": {},
   "outputs": [],
   "source": [
    "outputs1 = conv1(inputs)"
   ]
  },
  {
   "cell_type": "code",
   "execution_count": 37,
   "id": "53c6905a-f247-4487-958e-c9cf2c6dbc7a",
   "metadata": {},
   "outputs": [],
   "source": [
    "outputs2 = conv2(inputs)"
   ]
  },
  {
   "cell_type": "code",
   "execution_count": 38,
   "id": "1460dd6c-27aa-4c1a-ad26-c273688ec79d",
   "metadata": {},
   "outputs": [
    {
     "data": {
      "text/plain": [
       "tensor([[[-0.0016, -0.1338,  0.4106],\n",
       "         [ 0.2425,  0.4985,  0.2308]],\n",
       "\n",
       "        [[-0.0020,  0.0319, -0.0123],\n",
       "         [ 0.4043,  0.1047,  0.2210]]], grad_fn=<ConvolutionBackward0>)"
      ]
     },
     "execution_count": 38,
     "metadata": {},
     "output_type": "execute_result"
    }
   ],
   "source": [
    "outputs1"
   ]
  },
  {
   "cell_type": "code",
   "execution_count": 39,
   "id": "99993e8b-d358-4cba-9d66-5754509a9204",
   "metadata": {},
   "outputs": [
    {
     "data": {
      "text/plain": [
       "tensor([[[ 0.6053,  0.2567,  0.7348,  0.4860],\n",
       "         [-0.1166, -0.0200, -0.0117, -0.0492]],\n",
       "\n",
       "        [[ 0.7006,  0.4444,  0.2273,  0.4613],\n",
       "         [-0.1450, -0.3334, -0.5307, -0.2686]]],\n",
       "       grad_fn=<ConvolutionBackward0>)"
      ]
     },
     "execution_count": 39,
     "metadata": {},
     "output_type": "execute_result"
    }
   ],
   "source": [
    "outputs2"
   ]
  },
  {
   "cell_type": "markdown",
   "id": "c64d5b9c-5f56-4308-9da0-72986b1bbefe",
   "metadata": {},
   "source": [
    "## 池化层"
   ]
  },
  {
   "cell_type": "code",
   "execution_count": 40,
   "id": "01e9d43c-f276-47d9-9af7-6fc35e5c97b4",
   "metadata": {},
   "outputs": [],
   "source": [
    "from torch.nn import MaxPool1d"
   ]
  },
  {
   "cell_type": "code",
   "execution_count": 41,
   "id": "7951be71-ab18-44f8-9b73-42e43a1ab633",
   "metadata": {},
   "outputs": [],
   "source": [
    "pool1 = MaxPool1d(3)  # 池化层核大小，即卷积层的输出序列长度"
   ]
  },
  {
   "cell_type": "code",
   "execution_count": 42,
   "id": "52d980e6-072d-44b0-b07f-f5b32688abad",
   "metadata": {},
   "outputs": [],
   "source": [
    "pool2 = MaxPool1d(4)"
   ]
  },
  {
   "cell_type": "code",
   "execution_count": 43,
   "id": "a911b119-97e4-44a6-9513-11f325bfbf17",
   "metadata": {},
   "outputs": [],
   "source": [
    "outputs_pool1 = pool1(outputs1)"
   ]
  },
  {
   "cell_type": "code",
   "execution_count": 44,
   "id": "b44dd4f6-069d-49a9-837f-60310e2b4b07",
   "metadata": {},
   "outputs": [],
   "source": [
    "outputs_pool2 = pool2(outputs2)"
   ]
  },
  {
   "cell_type": "code",
   "execution_count": 45,
   "id": "231581d6-d926-4d41-b19e-49468acb6fa0",
   "metadata": {},
   "outputs": [
    {
     "data": {
      "text/plain": [
       "tensor([[[0.4106],\n",
       "         [0.4985]],\n",
       "\n",
       "        [[0.0319],\n",
       "         [0.4043]]], grad_fn=<SqueezeBackward1>)"
      ]
     },
     "execution_count": 45,
     "metadata": {},
     "output_type": "execute_result"
    }
   ],
   "source": [
    "outputs_pool1"
   ]
  },
  {
   "cell_type": "code",
   "execution_count": 46,
   "id": "e53a0414-a078-4e21-b4bc-5380600947d9",
   "metadata": {},
   "outputs": [
    {
     "data": {
      "text/plain": [
       "tensor([[[ 0.7348],\n",
       "         [-0.0117]],\n",
       "\n",
       "        [[ 0.7006],\n",
       "         [-0.1450]]], grad_fn=<SqueezeBackward1>)"
      ]
     },
     "execution_count": 46,
     "metadata": {},
     "output_type": "execute_result"
    }
   ],
   "source": [
    "outputs_pool2"
   ]
  },
  {
   "cell_type": "markdown",
   "id": "c5e53bb9-fdfc-4b44-b174-fbf08175566e",
   "metadata": {},
   "source": [
    "## 池化层函数"
   ]
  },
  {
   "cell_type": "code",
   "execution_count": 47,
   "id": "8e52a4b2-3297-4a34-b49f-eb79dbf10012",
   "metadata": {},
   "outputs": [],
   "source": [
    "import torch.nn.functional as F"
   ]
  },
  {
   "cell_type": "code",
   "execution_count": 48,
   "id": "e8189b22-16f8-4c7d-88c2-9a61d2e76f78",
   "metadata": {},
   "outputs": [],
   "source": [
    "outputs_pool1 = F.max_pool1d(outputs1, kernel_size=outputs1.shape[2])"
   ]
  },
  {
   "cell_type": "code",
   "execution_count": 49,
   "id": "d9e2672f-6104-4b62-9336-f3de308a13a4",
   "metadata": {},
   "outputs": [
    {
     "data": {
      "text/plain": [
       "tensor([[[0.4106],\n",
       "         [0.4985]],\n",
       "\n",
       "        [[0.0319],\n",
       "         [0.4043]]], grad_fn=<SqueezeBackward1>)"
      ]
     },
     "execution_count": 49,
     "metadata": {},
     "output_type": "execute_result"
    }
   ],
   "source": [
    "outputs_pool1"
   ]
  },
  {
   "cell_type": "code",
   "execution_count": 50,
   "id": "0c81a752-7b54-4d37-8da5-7ca157975129",
   "metadata": {},
   "outputs": [],
   "source": [
    "outputs_pool2 = F.max_pool1d(outputs2, kernel_size=outputs2.shape[2])"
   ]
  },
  {
   "cell_type": "code",
   "execution_count": 51,
   "id": "d1cfd345-b537-45f6-bb60-59f4105a96a7",
   "metadata": {},
   "outputs": [
    {
     "data": {
      "text/plain": [
       "tensor([[[ 0.7348],\n",
       "         [-0.0117]],\n",
       "\n",
       "        [[ 0.7006],\n",
       "         [-0.1450]]], grad_fn=<SqueezeBackward1>)"
      ]
     },
     "execution_count": 51,
     "metadata": {},
     "output_type": "execute_result"
    }
   ],
   "source": [
    "outputs_pool2"
   ]
  },
  {
   "cell_type": "code",
   "execution_count": 54,
   "id": "ac1e7975-f470-4b0d-a4f0-ff2e10b10125",
   "metadata": {},
   "outputs": [],
   "source": [
    "# 2*2*1变为2*2\n",
    "outputs_pool_squeeze1 = outputs_pool1.squeeze(dim=2)"
   ]
  },
  {
   "cell_type": "code",
   "execution_count": 55,
   "id": "9097ecdc-b73f-4c63-9f45-0ec794c5d431",
   "metadata": {},
   "outputs": [
    {
     "data": {
      "text/plain": [
       "tensor([[0.4106, 0.4985],\n",
       "        [0.0319, 0.4043]], grad_fn=<SqueezeBackward1>)"
      ]
     },
     "execution_count": 55,
     "metadata": {},
     "output_type": "execute_result"
    }
   ],
   "source": [
    "outputs_pool_squeeze1"
   ]
  },
  {
   "cell_type": "code",
   "execution_count": 56,
   "id": "2b4a8edc-7a77-4aaf-9b31-991316562be8",
   "metadata": {},
   "outputs": [],
   "source": [
    "outputs_pool_squeeze2 = outputs_pool2.squeeze(dim=2)"
   ]
  },
  {
   "cell_type": "code",
   "execution_count": 57,
   "id": "1c73e80c-8d3c-4fdf-9531-a2d787c025f5",
   "metadata": {},
   "outputs": [
    {
     "data": {
      "text/plain": [
       "tensor([[ 0.7348, -0.0117],\n",
       "        [ 0.7006, -0.1450]], grad_fn=<SqueezeBackward1>)"
      ]
     },
     "execution_count": 57,
     "metadata": {},
     "output_type": "execute_result"
    }
   ],
   "source": [
    "outputs_pool_squeeze2"
   ]
  },
  {
   "cell_type": "code",
   "execution_count": 58,
   "id": "b43033d0-c116-4bbb-bf81-390f0ac32785",
   "metadata": {},
   "outputs": [],
   "source": [
    "# 拼接\n",
    "outputs_pool = torch.cat([outputs_pool_squeeze1, outputs_pool_squeeze2], dim=1)"
   ]
  },
  {
   "cell_type": "code",
   "execution_count": 59,
   "id": "327b58a6-1072-40b6-a9fa-fd32ecaebe5a",
   "metadata": {},
   "outputs": [
    {
     "data": {
      "text/plain": [
       "tensor([[ 0.4106,  0.4985,  0.7348, -0.0117],\n",
       "        [ 0.0319,  0.4043,  0.7006, -0.1450]], grad_fn=<CatBackward0>)"
      ]
     },
     "execution_count": 59,
     "metadata": {},
     "output_type": "execute_result"
    }
   ],
   "source": [
    "outputs_pool"
   ]
  },
  {
   "cell_type": "markdown",
   "id": "95b8c567-4f9b-4be1-a7a9-7df0ce25499b",
   "metadata": {},
   "source": [
    "### 池化后连接一个全连接层，实现分类功能"
   ]
  },
  {
   "cell_type": "code",
   "execution_count": 60,
   "id": "3df4f53d-2f06-4211-815b-8447cc765ea6",
   "metadata": {},
   "outputs": [],
   "source": [
    "from torch.nn import Linear"
   ]
  },
  {
   "cell_type": "code",
   "execution_count": 61,
   "id": "c8316ec2-deb2-49b7-9991-38594354c871",
   "metadata": {},
   "outputs": [],
   "source": [
    "linear = Linear(4, 2)"
   ]
  },
  {
   "cell_type": "code",
   "execution_count": 62,
   "id": "4d26258c-8768-40c3-9d66-7e54c4f067c6",
   "metadata": {},
   "outputs": [],
   "source": [
    "outputs_linear = linear(outputs_pool)"
   ]
  },
  {
   "cell_type": "code",
   "execution_count": 63,
   "id": "76bfde5f-f7a9-4064-8656-cb1ea3fcf80c",
   "metadata": {},
   "outputs": [
    {
     "data": {
      "text/plain": [
       "tensor([[0.0039, 1.0501],\n",
       "        [0.1493, 0.8199]], grad_fn=<AddmmBackward0>)"
      ]
     },
     "execution_count": 63,
     "metadata": {},
     "output_type": "execute_result"
    }
   ],
   "source": [
    "outputs_linear"
   ]
  },
  {
   "cell_type": "code",
   "execution_count": null,
   "id": "e60c6dab-92e3-42bc-94ff-25021c5dabcc",
   "metadata": {},
   "outputs": [],
   "source": []
  }
 ],
 "metadata": {
  "kernelspec": {
   "display_name": "Python 3 (ipykernel)",
   "language": "python",
   "name": "python3"
  },
  "language_info": {
   "codemirror_mode": {
    "name": "ipython",
    "version": 3
   },
   "file_extension": ".py",
   "mimetype": "text/x-python",
   "name": "python",
   "nbconvert_exporter": "python",
   "pygments_lexer": "ipython3",
   "version": "3.9.12"
  }
 },
 "nbformat": 4,
 "nbformat_minor": 5
}
