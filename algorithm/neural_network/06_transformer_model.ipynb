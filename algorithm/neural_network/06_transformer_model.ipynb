{
 "cells": [
  {
   "cell_type": "markdown",
   "id": "3f4604fe-bdd3-4b09-b828-5cb591648803",
   "metadata": {},
   "source": [
    "# Transformer"
   ]
  },
  {
   "cell_type": "markdown",
   "id": "edabda25-633f-4b83-b140-6431dd20c569",
   "metadata": {},
   "source": [
    "## transformer块(编码器块)"
   ]
  },
  {
   "cell_type": "code",
   "execution_count": 4,
   "id": "1f7263b8-ec2b-4578-85e0-ae7617c5ece3",
   "metadata": {},
   "outputs": [],
   "source": [
    "import torch\n",
    "from torch import nn"
   ]
  },
  {
   "cell_type": "code",
   "execution_count": 5,
   "id": "4efcc2dc-1a04-412f-a1a8-851373afa48d",
   "metadata": {},
   "outputs": [],
   "source": [
    "encoder_layer = nn.TransformerEncoderLayer(d_model=4, nhead=2)  # d_model输入向量维度"
   ]
  },
  {
   "cell_type": "code",
   "execution_count": 15,
   "id": "44754261-9174-4a8c-aee5-8d1a9de53234",
   "metadata": {},
   "outputs": [],
   "source": [
    "src = torch.rand(2, 3, 4)  # 参数分别为序列长度，批次大小，每个输入向量的维度"
   ]
  },
  {
   "cell_type": "code",
   "execution_count": 7,
   "id": "be8235ba-e523-44ad-bd67-6edaef3eac1b",
   "metadata": {},
   "outputs": [],
   "source": [
    "out = encoder_layer(src)"
   ]
  },
  {
   "cell_type": "code",
   "execution_count": 10,
   "id": "c194b870-14bd-462b-9b44-685fb310f182",
   "metadata": {},
   "outputs": [
    {
     "data": {
      "text/plain": [
       "tensor([[[ 1.6171, -0.5061, -1.0613, -0.0497],\n",
       "         [ 1.1192,  0.7702, -1.3743, -0.5151],\n",
       "         [-0.0191, -1.0781,  1.6058, -0.5087]],\n",
       "\n",
       "        [[ 1.2430, -0.1356, -1.5085,  0.4011],\n",
       "         [ 0.4580, -0.6016, -1.2355,  1.3791],\n",
       "         [ 1.3115, -0.2022, -1.4557,  0.3464]]],\n",
       "       grad_fn=<NativeLayerNormBackward0>)"
      ]
     },
     "execution_count": 10,
     "metadata": {},
     "output_type": "execute_result"
    }
   ],
   "source": [
    "out"
   ]
  },
  {
   "cell_type": "markdown",
   "id": "34e75d73-e8cb-430c-bf5c-6d674afda716",
   "metadata": {},
   "source": [
    "## 多个transformer块（编码器）"
   ]
  },
  {
   "cell_type": "code",
   "execution_count": 11,
   "id": "a1624c5a-24c6-41ca-a91a-e76303359484",
   "metadata": {},
   "outputs": [],
   "source": [
    "transformer_encoder = nn.TransformerEncoder(encoder_layer, num_layers=6)"
   ]
  },
  {
   "cell_type": "code",
   "execution_count": 12,
   "id": "44d1c531-a24b-4d3d-85eb-f051abc8877f",
   "metadata": {},
   "outputs": [],
   "source": [
    "out = transformer_encoder(src)"
   ]
  },
  {
   "cell_type": "code",
   "execution_count": 13,
   "id": "b03fb17b-3dad-4870-a88d-53630e8ebc32",
   "metadata": {},
   "outputs": [
    {
     "data": {
      "text/plain": [
       "tensor([[[ 1.2377,  0.5348, -1.4390, -0.3335],\n",
       "         [-0.4102,  1.5145,  0.1291, -1.2334],\n",
       "         [ 0.0787,  0.9051,  0.6680, -1.6518]],\n",
       "\n",
       "        [[ 1.5663,  0.1434, -1.0345, -0.6752],\n",
       "         [ 0.9824, -0.5532, -1.3628,  0.9336],\n",
       "         [ 1.5018,  0.3119, -0.9411, -0.8727]]],\n",
       "       grad_fn=<NativeLayerNormBackward0>)"
      ]
     },
     "execution_count": 13,
     "metadata": {},
     "output_type": "execute_result"
    }
   ],
   "source": [
    "out"
   ]
  },
  {
   "cell_type": "markdown",
   "id": "a9a19ab0-efef-44b6-b7d2-c042a52aeb9a",
   "metadata": {},
   "source": [
    "### 解码器"
   ]
  },
  {
   "cell_type": "code",
   "execution_count": 14,
   "id": "5138d432-961c-468f-820c-c0c6daf43713",
   "metadata": {},
   "outputs": [],
   "source": [
    "memory = transformer_encoder(src)"
   ]
  },
  {
   "cell_type": "code",
   "execution_count": 16,
   "id": "09ee0177-cf3c-4030-b6c9-84cb2bff9e50",
   "metadata": {},
   "outputs": [],
   "source": [
    "decoder_layer = nn.TransformerDecoderLayer(d_model=4, nhead=2)"
   ]
  },
  {
   "cell_type": "code",
   "execution_count": 18,
   "id": "ad8f282a-2c4a-4c13-85be-1673dd19e9f2",
   "metadata": {},
   "outputs": [],
   "source": [
    "transformer_decoder = nn.TransformerDecoder(decoder_layer, num_layers=6)"
   ]
  },
  {
   "cell_type": "code",
   "execution_count": 19,
   "id": "fe03e574-d24f-4e32-8e54-43ffd18e0fd5",
   "metadata": {},
   "outputs": [],
   "source": [
    "tgt = torch.rand(2, 3, 4)"
   ]
  },
  {
   "cell_type": "code",
   "execution_count": 20,
   "id": "38397bee-9751-4fee-8915-69c94e7acb02",
   "metadata": {},
   "outputs": [],
   "source": [
    "out = transformer_decoder(tgt, memory)  # tgt为解码器的输入，memory为编码器学习得到"
   ]
  },
  {
   "cell_type": "code",
   "execution_count": 21,
   "id": "d45e450a-f75d-446b-a26f-48337bb82320",
   "metadata": {},
   "outputs": [
    {
     "data": {
      "text/plain": [
       "tensor([[[-0.4753,  0.0035,  1.5892, -1.1174],\n",
       "         [-1.2090,  0.2629, -0.5322,  1.4784],\n",
       "         [-0.7810, -0.5426,  1.7153, -0.3917]],\n",
       "\n",
       "        [[ 1.2651, -1.1545, -0.7835,  0.6728],\n",
       "         [-1.3713,  0.7533, -0.5160,  1.1339],\n",
       "         [-0.2022, -1.1544,  1.6020, -0.2453]]],\n",
       "       grad_fn=<NativeLayerNormBackward0>)"
      ]
     },
     "execution_count": 21,
     "metadata": {},
     "output_type": "execute_result"
    }
   ],
   "source": [
    "out"
   ]
  },
  {
   "cell_type": "code",
   "execution_count": null,
   "id": "5c6af4a4-4995-4622-805c-2391cdef63fc",
   "metadata": {},
   "outputs": [],
   "source": []
  }
 ],
 "metadata": {
  "kernelspec": {
   "display_name": "Python 3 (ipykernel)",
   "language": "python",
   "name": "python3"
  },
  "language_info": {
   "codemirror_mode": {
    "name": "ipython",
    "version": 3
   },
   "file_extension": ".py",
   "mimetype": "text/x-python",
   "name": "python",
   "nbconvert_exporter": "python",
   "pygments_lexer": "ipython3",
   "version": "3.9.12"
  }
 },
 "nbformat": 4,
 "nbformat_minor": 5
}
