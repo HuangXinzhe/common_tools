{
 "cells": [
  {
   "cell_type": "code",
   "execution_count": 4,
   "id": "084f0a42-2bb7-4a6b-8cc4-f29d5668396a",
   "metadata": {},
   "outputs": [],
   "source": [
    "import torch\n",
    "from torch import nn"
   ]
  },
  {
   "cell_type": "code",
   "execution_count": 5,
   "id": "80b3e603-3032-48e4-a1e8-87d77d01607c",
   "metadata": {},
   "outputs": [],
   "source": [
    "embedding = nn.Embedding(8, 3)  # 词表大小为8，embedding向量维度为3"
   ]
  },
  {
   "cell_type": "code",
   "execution_count": 8,
   "id": "f6de8652-6bf3-487f-87b3-54602021bc30",
   "metadata": {},
   "outputs": [],
   "source": [
    "word_input = torch.tensor([[0, 1, 2, 1], [4, 6, 6, 7]])  # 两个序列长度为4"
   ]
  },
  {
   "cell_type": "code",
   "execution_count": 9,
   "id": "3dfaeb05-89fe-4a30-80bf-617a6a289dd9",
   "metadata": {},
   "outputs": [],
   "source": [
    "embedding_output = embedding(word_input)"
   ]
  },
  {
   "cell_type": "code",
   "execution_count": 10,
   "id": "197865e6-6c84-41b1-b6b8-46095a03c179",
   "metadata": {},
   "outputs": [
    {
     "data": {
      "text/plain": [
       "tensor([[[ 1.9859,  0.1232,  1.8898],\n",
       "         [-0.3319, -1.1808,  0.4555],\n",
       "         [ 0.4748, -0.7156, -0.2982],\n",
       "         [-0.3319, -1.1808,  0.4555]],\n",
       "\n",
       "        [[-0.1817,  0.9455, -1.7098],\n",
       "         [-0.2459,  0.5168,  1.0219],\n",
       "         [-0.2459,  0.5168,  1.0219],\n",
       "         [ 0.0331,  0.4589, -0.3198]]], grad_fn=<EmbeddingBackward0>)"
      ]
     },
     "execution_count": 10,
     "metadata": {},
     "output_type": "execute_result"
    }
   ],
   "source": [
    "embedding_output"
   ]
  },
  {
   "cell_type": "code",
   "execution_count": 11,
   "id": "6b19c891-d0a5-48d5-8ecb-de433101e3c1",
   "metadata": {},
   "outputs": [
    {
     "data": {
      "text/plain": [
       "torch.Size([2, 4, 3])"
      ]
     },
     "execution_count": 11,
     "metadata": {},
     "output_type": "execute_result"
    }
   ],
   "source": [
    "embedding_output.shape"
   ]
  },
  {
   "cell_type": "code",
   "execution_count": null,
   "id": "4284ca4d-fbe9-40ba-8bed-8b9b807e10bb",
   "metadata": {},
   "outputs": [],
   "source": []
  }
 ],
 "metadata": {
  "kernelspec": {
   "display_name": "Python 3 (ipykernel)",
   "language": "python",
   "name": "python3"
  },
  "language_info": {
   "codemirror_mode": {
    "name": "ipython",
    "version": 3
   },
   "file_extension": ".py",
   "mimetype": "text/x-python",
   "name": "python",
   "nbconvert_exporter": "python",
   "pygments_lexer": "ipython3",
   "version": "3.9.12"
  }
 },
 "nbformat": 4,
 "nbformat_minor": 5
}
