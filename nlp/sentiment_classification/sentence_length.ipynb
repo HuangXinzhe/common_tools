{
 "cells": [
  {
   "cell_type": "markdown",
   "id": "ebd6eebe-90fd-489c-9889-eb5b2b728f52",
   "metadata": {},
   "source": [
    "# 数据中不同句子的长度不同，先将一个批次的句子拼接，再记录每个句子开始的位置"
   ]
  },
  {
   "cell_type": "code",
   "execution_count": 15,
   "id": "4a602773-064a-4f83-9d78-d3d7986ca83a",
   "metadata": {},
   "outputs": [],
   "source": [
    "import torch\n",
    "from torch import nn"
   ]
  },
  {
   "cell_type": "code",
   "execution_count": 2,
   "id": "2154c131-3adb-46b6-90b4-424e848f1095",
   "metadata": {},
   "outputs": [],
   "source": [
    "input1 = torch.tensor([0, 1, 2, 1], dtype=torch.long)"
   ]
  },
  {
   "cell_type": "code",
   "execution_count": 3,
   "id": "0efd4de0-e46b-4a3a-b0c4-6ab447064a70",
   "metadata": {},
   "outputs": [],
   "source": [
    "input2 = torch.tensor([2, 1, 3, 7, 5], dtype=torch.long)"
   ]
  },
  {
   "cell_type": "code",
   "execution_count": 4,
   "id": "bc425002-92e9-4f30-8a36-702a390325b9",
   "metadata": {},
   "outputs": [],
   "source": [
    "input3 = torch.tensor([6, 4, 2], dtype=torch.long)"
   ]
  },
  {
   "cell_type": "code",
   "execution_count": 5,
   "id": "10031992-6932-42cc-9e1d-899ca1b32026",
   "metadata": {},
   "outputs": [],
   "source": [
    "input4 = torch.tensor([1, 3, 4, 3, 5, 7], dtype=torch.long)"
   ]
  },
  {
   "cell_type": "code",
   "execution_count": 6,
   "id": "b71adaf4-aec4-4023-8ab3-c71daf5050eb",
   "metadata": {},
   "outputs": [],
   "source": [
    "inputs = [input1, input2, input3, input4]"
   ]
  },
  {
   "cell_type": "code",
   "execution_count": 7,
   "id": "c6037e83-e2cd-4560-9a00-2784acc85f85",
   "metadata": {},
   "outputs": [
    {
     "data": {
      "text/plain": [
       "[tensor([0, 1, 2, 1]),\n",
       " tensor([2, 1, 3, 7, 5]),\n",
       " tensor([6, 4, 2]),\n",
       " tensor([1, 3, 4, 3, 5, 7])]"
      ]
     },
     "execution_count": 7,
     "metadata": {},
     "output_type": "execute_result"
    }
   ],
   "source": [
    "inputs"
   ]
  },
  {
   "cell_type": "code",
   "execution_count": 8,
   "id": "5a2cdde0-4cb1-4503-baf8-277e171c629b",
   "metadata": {},
   "outputs": [],
   "source": [
    "offsets = [0] + [i.shape[0] for i in inputs]"
   ]
  },
  {
   "cell_type": "code",
   "execution_count": 9,
   "id": "43eaf0ec-5eb4-43b9-b232-91359a2922e5",
   "metadata": {},
   "outputs": [
    {
     "data": {
      "text/plain": [
       "[0, 4, 5, 3, 6]"
      ]
     },
     "execution_count": 9,
     "metadata": {},
     "output_type": "execute_result"
    }
   ],
   "source": [
    "offsets"
   ]
  },
  {
   "cell_type": "code",
   "execution_count": 10,
   "id": "34779b02-5562-4326-a92e-576b790bcf5a",
   "metadata": {},
   "outputs": [],
   "source": [
    "offsets = torch.tensor(offsets[:-1]).cumsum(dim=0)  # cumsum沿着某方向上的累加"
   ]
  },
  {
   "cell_type": "code",
   "execution_count": 11,
   "id": "860b357e-95bc-4055-a559-847248e4d9f1",
   "metadata": {},
   "outputs": [
    {
     "data": {
      "text/plain": [
       "tensor([ 0,  4,  9, 12])"
      ]
     },
     "execution_count": 11,
     "metadata": {},
     "output_type": "execute_result"
    }
   ],
   "source": [
    "offsets"
   ]
  },
  {
   "cell_type": "code",
   "execution_count": 12,
   "id": "3fd9b95e-61d2-4cb4-a797-d24ce82e5d23",
   "metadata": {},
   "outputs": [],
   "source": [
    "inputs = torch.cat(inputs)"
   ]
  },
  {
   "cell_type": "code",
   "execution_count": 13,
   "id": "50a00e7a-3258-4ee3-b6b4-ef375aaafc32",
   "metadata": {},
   "outputs": [
    {
     "data": {
      "text/plain": [
       "tensor([0, 1, 2, 1, 2, 1, 3, 7, 5, 6, 4, 2, 1, 3, 4, 3, 5, 7])"
      ]
     },
     "execution_count": 13,
     "metadata": {},
     "output_type": "execute_result"
    }
   ],
   "source": [
    "inputs"
   ]
  },
  {
   "cell_type": "code",
   "execution_count": 16,
   "id": "4e557dad-d699-4bec-9e78-fcd979fbee70",
   "metadata": {},
   "outputs": [],
   "source": [
    "embeddingbag = nn.EmbeddingBag(num_embeddings=8, embedding_dim=3)"
   ]
  },
  {
   "cell_type": "code",
   "execution_count": 17,
   "id": "281eddb6-2543-49aa-bfe4-d9c098693404",
   "metadata": {},
   "outputs": [],
   "source": [
    "embeddings = embeddingbag(inputs, offsets)"
   ]
  },
  {
   "cell_type": "code",
   "execution_count": 18,
   "id": "e5e51d17-c5c9-4ef3-8b16-25a7e842e087",
   "metadata": {},
   "outputs": [
    {
     "data": {
      "text/plain": [
       "tensor([[ 0.6599,  0.2838, -0.4600],\n",
       "        [ 0.2742,  0.6886, -0.4493],\n",
       "        [ 0.3077,  0.3370, -0.1834],\n",
       "        [ 0.3323,  0.2237, -0.3745]], grad_fn=<EmbeddingBagBackward0>)"
      ]
     },
     "execution_count": 18,
     "metadata": {},
     "output_type": "execute_result"
    }
   ],
   "source": [
    "embeddings"
   ]
  },
  {
   "cell_type": "code",
   "execution_count": null,
   "id": "44988a07-81ee-47dd-8f67-78447fb92116",
   "metadata": {},
   "outputs": [],
   "source": []
  }
 ],
 "metadata": {
  "kernelspec": {
   "display_name": "Python 3 (ipykernel)",
   "language": "python",
   "name": "python3"
  },
  "language_info": {
   "codemirror_mode": {
    "name": "ipython",
    "version": 3
   },
   "file_extension": ".py",
   "mimetype": "text/x-python",
   "name": "python",
   "nbconvert_exporter": "python",
   "pygments_lexer": "ipython3",
   "version": "3.9.12"
  }
 },
 "nbformat": 4,
 "nbformat_minor": 5
}
