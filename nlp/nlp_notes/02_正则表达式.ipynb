{
 "cells": [
  {
   "cell_type": "markdown",
   "id": "388190d2-eb54-43e9-a880-274d308f06da",
   "metadata": {},
   "source": [
    "# Python正则表达式\n",
    "- 指定好匹配的模式-pattern\n",
    "- 选择相应的方法-match，search等\n",
    "- 得到匹配结果-group  \n",
    "\n",
    "- re.match，从开始位置开始匹配，如果开头没有则无\n",
    "- re.search，搜素整个字符串\n",
    "- re.findall，搜素整个字符串，返回一个list"
   ]
  }
 ],
 "metadata": {
  "kernelspec": {
   "display_name": "Python 3 (ipykernel)",
   "language": "python",
   "name": "python3"
  },
  "language_info": {
   "codemirror_mode": {
    "name": "ipython",
    "version": 3
   },
   "file_extension": ".py",
   "mimetype": "text/x-python",
   "name": "python",
   "nbconvert_exporter": "python",
   "pygments_lexer": "ipython3",
   "version": "3.9.12"
  }
 },
 "nbformat": 4,
 "nbformat_minor": 5
}
