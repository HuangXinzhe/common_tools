{
 "cells": [
  {
   "cell_type": "markdown",
   "id": "6e7e5b84",
   "metadata": {},
   "source": [
    "# 利用空格分词"
   ]
  },
  {
   "cell_type": "code",
   "execution_count": null,
   "id": "e3006289",
   "metadata": {},
   "outputs": [],
   "source": [
    "sentence = \"Thome\""
   ]
  }
 ],
 "metadata": {
  "kernelspec": {
   "display_name": "Python 3",
   "language": "python",
   "name": "python3"
  },
  "language_info": {
   "codemirror_mode": {
    "name": "ipython",
    "version": 3
   },
   "file_extension": ".py",
   "mimetype": "text/x-python",
   "name": "python",
   "nbconvert_exporter": "python",
   "pygments_lexer": "ipython3",
   "version": "3.8.13"
  }
 },
 "nbformat": 4,
 "nbformat_minor": 5
}
