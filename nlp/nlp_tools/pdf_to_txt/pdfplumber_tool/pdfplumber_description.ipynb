{
 "cells": [
  {
   "cell_type": "markdown",
   "id": "148b6857",
   "metadata": {},
   "source": [
    "# pdfplumber使用说明"
   ]
  },
  {
   "cell_type": "markdown",
   "id": "fb9bbe50",
   "metadata": {},
   "source": [
    "- 使用pdfplumber.open打开要处理的PDF文件\n",
    "- 当PDF受密码保护时需要传递password关键字参数，pdfplumber.open(\"file.pdf\", password = \"test\")"
   ]
  },
  {
   "cell_type": "code",
   "execution_count": 8,
   "id": "80e0b2ad",
   "metadata": {},
   "outputs": [
    {
     "name": "stdout",
     "output_type": "stream",
     "text": [
      "{'fontname': 'WNPYQS+STKaitiSC-Regular', 'adv': 480.0, 'upright': True, 'x0': 89.28, 'y0': 742.758, 'x1': 113.28, 'y1': 766.758, 'width': 24.0, 'height': 24.0, 'size': 24.0, 'object_type': 'char', 'page_number': 1, 'stroking_color': (0, 0, 0), 'non_stroking_color': (0, 0, 0), 'text': '王', 'top': 75.24199999999996, 'bottom': 99.24199999999996, 'doctop': 75.24199999999996}\n"
     ]
    }
   ],
   "source": [
    "import pdfplumber\n",
    "\n",
    "with pdfplumber.open(\"/Users/greedy/Documents/所有简历数据/IT/1.pdf\") as pdf:\n",
    "    first_page = pdf.pages[0]\n",
    "    print(first_page.chars[0])"
   ]
  },
  {
   "cell_type": "markdown",
   "id": "5e2e3296",
   "metadata": {},
   "source": [
    "## 文件相关信息"
   ]
  },
  {
   "cell_type": "code",
   "execution_count": 12,
   "id": "ef259557",
   "metadata": {},
   "outputs": [
    {
     "data": {
      "text/plain": [
       "{'Author': '葛二蛋',\n",
       " 'Comments': '',\n",
       " 'Company': '',\n",
       " 'CreationDate': \"D:20220117152121+07'21'\",\n",
       " 'Creator': 'WPS 文字',\n",
       " 'Keywords': '78520e38dc3d33721nRy39y8EFtRw5G9Uf-aTeKklg~~',\n",
       " 'ModDate': \"D:20220128170914+08'00'\",\n",
       " 'Producer': '; modified using iText® 5.5.13 ©2000-2018 iText Group NV (AGPL-version)',\n",
       " 'SourceModified': \"D:20220117152121+07'21'\",\n",
       " 'Subject': '',\n",
       " 'Title': '',\n",
       " 'Trapped': 'False'}"
      ]
     },
     "execution_count": 12,
     "metadata": {},
     "output_type": "execute_result"
    }
   ],
   "source": [
    "pdf.metadata"
   ]
  },
  {
   "cell_type": "markdown",
   "id": "3b3f3e87",
   "metadata": {},
   "source": [
    "## 文本中的页数"
   ]
  },
  {
   "cell_type": "code",
   "execution_count": 13,
   "id": "71a9c65f",
   "metadata": {},
   "outputs": [
    {
     "data": {
      "text/plain": [
       "[<Page:1>, <Page:2>, <Page:3>]"
      ]
     },
     "execution_count": 13,
     "metadata": {},
     "output_type": "execute_result"
    }
   ],
   "source": [
    "pdf.pages"
   ]
  },
  {
   "cell_type": "markdown",
   "id": "ccb40ba1",
   "metadata": {},
   "source": [
    "## 页面宽度和高度"
   ]
  },
  {
   "cell_type": "code",
   "execution_count": 18,
   "id": "9ab32ce3",
   "metadata": {},
   "outputs": [
    {
     "data": {
      "text/plain": [
       "595.35"
      ]
     },
     "execution_count": 18,
     "metadata": {},
     "output_type": "execute_result"
    }
   ],
   "source": [
    "pdf.pages[0].width"
   ]
  },
  {
   "cell_type": "code",
   "execution_count": 19,
   "id": "5c35661d",
   "metadata": {},
   "outputs": [
    {
     "data": {
      "text/plain": [
       "842"
      ]
     },
     "execution_count": 19,
     "metadata": {},
     "output_type": "execute_result"
    }
   ],
   "source": [
    "pdf.pages[1].height"
   ]
  },
  {
   "cell_type": "code",
   "execution_count": 1,
   "id": "0e66b28b",
   "metadata": {},
   "outputs": [
    {
     "ename": "ModuleNotFoundError",
     "evalue": "No module named 'pdfminer'",
     "output_type": "error",
     "traceback": [
      "\u001B[1;31m---------------------------------------------------------------------------\u001B[0m",
      "\u001B[1;31mModuleNotFoundError\u001B[0m                       Traceback (most recent call last)",
      "Input \u001B[1;32mIn [1]\u001B[0m, in \u001B[0;36m<cell line: 2>\u001B[1;34m()\u001B[0m\n\u001B[0;32m      1\u001B[0m \u001B[38;5;28;01mfrom\u001B[39;00m \u001B[38;5;21;01mio\u001B[39;00m \u001B[38;5;28;01mimport\u001B[39;00m StringIO\n\u001B[1;32m----> 2\u001B[0m \u001B[38;5;28;01mfrom\u001B[39;00m \u001B[38;5;21;01mpdfminer\u001B[39;00m\u001B[38;5;21;01m.\u001B[39;00m\u001B[38;5;21;01mlayout\u001B[39;00m \u001B[38;5;28;01mimport\u001B[39;00m LAParams\n\u001B[0;32m      3\u001B[0m \u001B[38;5;28;01mfrom\u001B[39;00m \u001B[38;5;21;01mpdfminer\u001B[39;00m\u001B[38;5;21;01m.\u001B[39;00m\u001B[38;5;21;01mpdfinterp\u001B[39;00m \u001B[38;5;28;01mimport\u001B[39;00m PDFResourceManager, PDFPageInterpreter\n\u001B[0;32m      4\u001B[0m \u001B[38;5;28;01mfrom\u001B[39;00m \u001B[38;5;21;01mpdfminer\u001B[39;00m\u001B[38;5;21;01m.\u001B[39;00m\u001B[38;5;21;01mconverter\u001B[39;00m \u001B[38;5;28;01mimport\u001B[39;00m \u001B[38;5;241m*\u001B[39m\n",
      "\u001B[1;31mModuleNotFoundError\u001B[0m: No module named 'pdfminer'"
     ]
    }
   ],
   "source": [
    "from io import StringIO\n",
    "from pdfminer.layout import LAParams\n",
    "from pdfminer.pdfinterp import PDFResourceManager, PDFPageInterpreter\n",
    "from pdfminer.converter import *\n",
    "from pdfminer.pdfpage import PDFPage\n",
    "\n",
    "\n",
    "def convertPDF(fname, pages=None):\n",
    "    if not pages:\n",
    "        pagenos = set()\n",
    "    else:\n",
    "        pagenos = set(pages)\n",
    "    caching = True\n",
    "    outfp = StringIO()\n",
    "    layoutmode = 'normal'\n",
    "    laparams = LAParams()\n",
    "    rotation = 0\n",
    "\n",
    "    rsrcmgr = PDFResourceManager(caching=caching)\n",
    "    device = HTMLConverter(rsrcmgr, outfp, scale=1,\n",
    "                           layoutmode=layoutmode, laparams=laparams,\n",
    "                           imagewriter=None)\n",
    "    fp = open(fname, 'rb')\n",
    "    interpreter = PDFPageInterpreter(rsrcmgr, device)\n",
    "    for page in PDFPage.get_pages(fp, pagenos,\n",
    "                                  maxpages=0, password='',\n",
    "                                  caching=caching, check_extractable=True):\n",
    "        page.rotate = (page.rotate + rotation) % 360\n",
    "        interpreter.process_page(page)\n",
    "    fp.close()\n",
    "    device.close()\n",
    "\n",
    "    text = outfp.getvalue()\n",
    "    outfp.close()\n",
    "    return text"
   ]
  },
  {
   "cell_type": "code",
   "execution_count": 2,
   "id": "056e49bf",
   "metadata": {},
   "outputs": [
    {
     "name": "stdout",
     "output_type": "stream",
     "text": [
      "Collecting pdfminer\n",
      "  Using cached pdfminer-20191125.tar.gz (4.2 MB)\n",
      "Collecting pycryptodome\n",
      "  Using cached pycryptodome-3.14.1-cp35-abi3-win_amd64.whl (1.8 MB)\n",
      "Building wheels for collected packages: pdfminer\n",
      "  Building wheel for pdfminer (setup.py): started\n"
     ]
    },
    {
     "name": "stderr",
     "output_type": "stream",
     "text": [
      "WARNING: Ignoring invalid distribution -ensorflow-gpu (c:\\users\\86183\\appdata\\roaming\\python\\python38\\site-packages)\n",
      "WARNING: Ignoring invalid distribution -ensorflow-gpu (c:\\users\\86183\\appdata\\roaming\\python\\python38\\site-packages)\n",
      "WARNING: Ignoring invalid distribution -ensorflow-gpu (c:\\users\\86183\\appdata\\roaming\\python\\python38\\site-packages)\n",
      "WARNING: Ignoring invalid distribution -ensorflow-gpu (c:\\users\\86183\\appdata\\roaming\\python\\python38\\site-packages)\n",
      "WARNING: Ignoring invalid distribution -ensorflow-gpu (c:\\users\\86183\\appdata\\roaming\\python\\python38\\site-packages)\n",
      "WARNING: Ignoring invalid distribution -ensorflow-gpu (c:\\users\\86183\\appdata\\roaming\\python\\python38\\site-packages)\n"
     ]
    },
    {
     "name": "stdout",
     "output_type": "stream",
     "text": [
      "  Building wheel for pdfminer (setup.py): finished with status 'done'\n",
      "  Created wheel for pdfminer: filename=pdfminer-20191125-py3-none-any.whl size=6140133 sha256=db12c4c2f10bbfe6da2ed1606826e197e67f03ee31128f9034bae9aea3a3c000\n",
      "  Stored in directory: c:\\users\\86183\\appdata\\local\\pip\\cache\\wheels\\1c\\28\\7d\\f390b82bb0307deb63ff27a1474fd308ec68ee028cb9ab6283\n",
      "Successfully built pdfminer\n",
      "Installing collected packages: pycryptodome, pdfminer\n",
      "Successfully installed pdfminer-20191125 pycryptodome-3.14.1\n"
     ]
    }
   ],
   "source": [
    "!pip install pdfminer"
   ]
  },
  {
   "cell_type": "code",
   "execution_count": null,
   "id": "9eadd740",
   "metadata": {},
   "outputs": [],
   "source": [
    "def convert_file_to_txt(file):\n",
    "    \"\"\"\n",
    "    文件格式转换及处理\n",
    "    \"\"\"\n",
    "\n",
    "    try:\n",
    "        # text = parser.from_file(file, service='text')['content']  # 读取各种类型的文件\n",
    "        if re.search('doc', file) or re.search('docx', file):\n",
    "            text = parser.from_file(file, service='text')['content']\n",
    "        elif re.search('jpg', file) or re.search('png', file):\n",
    "            text = pytesseract.image_to_string(Image.open(file), lang='chi_sim')\n",
    "        else:\n",
    "            with pdfplumber.open(file) as pdf:\n",
    "                text = ''\n",
    "                for page in pdf.pages:\n",
    "                    text += page.extract_text() + '\\n'\n",
    "\n",
    "            # with open(file, \"rb\") as f:\n",
    "            #     pdf = pdftotext.PDF(f)\n",
    "            # text = ''\n",
    "            # for page in pdf:\n",
    "            #     text += page\n",
    "\n",
    "                new_text = re.sub(r'\\n+', '\\n', text)\n",
    "                if len(new_text) < 100:\n",
    "                    pdfDoc = fitz.open(file)\n",
    "                    text = ''\n",
    "                    for pg in range(pdfDoc.pageCount):\n",
    "                        page = pdfDoc[pg]\n",
    "                        rotate = int(0)\n",
    "                        zoom_x = 2\n",
    "                        zoom_y = 2\n",
    "                        mat = fitz.Matrix(zoom_x, zoom_y).prerotate(rotate)\n",
    "                        pix = page.get_pixmap(matrix=mat, alpha=False)\n",
    "\n",
    "                        # file_name = re.search('(.*)/(.*).pdf', file).group(2)\n",
    "                        pix.writePNG('../data/resume_data/resume_pdf_image/' + '%s.png' % pg)  # 将图片写入指定的文件夹内\n",
    "\n",
    "                        path = \"../data/resume_data/resume_pdf_image/%s.png\" % pg\n",
    "\n",
    "                        text += pytesseract.image_to_string(Image.open(path), lang='chi_sim')\n",
    "\n",
    "                    shutil.rmtree('../data/resume_data/resume_pdf_image')\n",
    "                    os.mkdir('../data/resume_data/resume_pdf_image')\n",
    "\n",
    "    except Exception as e:  # Exception常见错误的基类\n",
    "        logging.error('Error in file:: ' + str(e))\n",
    "        return [], \" \"\n",
    "    try:\n",
    "        clean_text = re.sub(r'\\n+', '\\n', text)  # \\n+匹配一个或多个换行\n",
    "        clean_text = clean_text.replace(\"\\r\", \"\\n\").replace(\"\\t\", \" \")  # Normalize text blob，\\r回车符，\\t制表符\n",
    "        # splitlines()按照行('\\r', '\\r\\n', \\n')分隔，返回一个包含各行作为元素的列表，\n",
    "        # 如果参数keepends为 False，不包含换行符，如果为True，则保留换行符。\n",
    "        resume_lines = clean_text.splitlines()  # Split text blob into individual lines\n",
    "        resume_lines = [re.sub('\\s+', ' ', line.strip()) for line in resume_lines if\n",
    "                        line.strip()]  # Remove empty strings and whitespaces，当不为空时进行处理\n",
    "        return resume_lines, text  # resume_lines为列表，列表中的元素为简历中的每行内容，text为字符串，为原始简历文本\n",
    "    except Exception as e:\n",
    "        logging.error('Error in file:: ' + str(e))\n",
    "        return [], \" \""
   ]
  },
  {
   "cell_type": "code",
   "execution_count": null,
   "id": "7416fb59",
   "metadata": {},
   "outputs": [],
   "source": [
    "html_str_list = convertPDF(resume_name).split('<div')"
   ]
  },
  {
   "cell_type": "code",
   "execution_count": null,
   "id": "f80140ca",
   "metadata": {},
   "outputs": [],
   "source": [
    "layout_vector = []\n",
    "font_family = {}\n",
    "font_size = {}\n",
    "left_loc = {}\n",
    "\n",
    "resume_lines, full_text = convert_file_to_txt(resume_name)\n",
    "for txt_line in resume_lines:\n",
    "    for html_str in html_str_list:\n",
    "        if txt_line in html_str:\n",
    "            font_family_tag = re.search('font-family: (.*?);', html_str).group(1)\n",
    "            if font_family_tag not in font_family:\n",
    "                font_family[font_family_tag] = 1\n",
    "            else:\n",
    "                font_family[font_family_tag] += 1\n",
    "\n",
    "            font_size_tag = re.search('font-size:(.*?)px', html_str).group(1)\n",
    "            if font_size_tag not in font_size:\n",
    "                font_size[font_size_tag] = 1\n",
    "            else:\n",
    "                font_size[font_size_tag] += 1\n",
    "\n",
    "            left_loc_tag = re.search('left:(.*?)px', html_str).group(1)\n",
    "            if left_loc_tag not in left_loc:\n",
    "                left_loc[left_loc_tag] = 1\n",
    "            else:\n",
    "                left_loc[left_loc_tag] += 1\n",
    "            break\n",
    "\n",
    "# 获得字体样式、字体大小和左边位置的最大值\n",
    "max_font_family = max(font_family, key=font_family.get)\n",
    "max_font_size = max(font_size, key=font_size.get)\n",
    "max_left_loc = max(left_loc, key=left_loc.get)\n",
    "\n",
    "vector_tag = 1\n",
    "\n",
    "for html_str in html_str_list:\n",
    "    if line in html_str:\n",
    "        if re.search('font-family: (.*?);', html_str).group(1) == max_font_family:\n",
    "            layout_vector.append(1)\n",
    "        else:\n",
    "            layout_vector.append(0)\n",
    "\n",
    "        if re.search('font-size:(.*?)px', html_str).group(1) == max_font_size:\n",
    "            layout_vector.append(1)\n",
    "        else:\n",
    "            layout_vector.append(0)\n",
    "\n",
    "        if re.search('left:(.*?)px', html_str).group(1) == max_left_loc:\n",
    "            layout_vector.append(1)\n",
    "        else:\n",
    "            layout_vector.append(0)\n",
    "\n",
    "        vector_tag = 0\n",
    "\n",
    "        break\n",
    "\n",
    "if vector_tag:\n",
    "    layout_vector.append(0)\n",
    "    layout_vector.append(0)\n",
    "    layout_vector.append(0)"
   ]
  },
  {
   "cell_type": "code",
   "execution_count": null,
   "id": "598d2ab9",
   "metadata": {},
   "outputs": [],
   "source": []
  },
  {
   "cell_type": "code",
   "execution_count": null,
   "id": "310c45d8",
   "metadata": {},
   "outputs": [],
   "source": []
  }
 ],
 "metadata": {
  "kernelspec": {
   "display_name": "Python 3",
   "language": "python",
   "name": "python3"
  },
  "language_info": {
   "codemirror_mode": {
    "name": "ipython",
    "version": 3
   },
   "file_extension": ".py",
   "mimetype": "text/x-python",
   "name": "python",
   "nbconvert_exporter": "python",
   "pygments_lexer": "ipython3",
   "version": "3.8.13"
  }
 },
 "nbformat": 4,
 "nbformat_minor": 5
}