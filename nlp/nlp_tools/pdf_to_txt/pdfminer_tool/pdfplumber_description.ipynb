{
 "cells": [
  {
   "cell_type": "markdown",
   "id": "148b6857",
   "metadata": {},
   "source": [
    "# pdfplumber使用说明"
   ]
  },
  {
   "cell_type": "markdown",
   "id": "fb9bbe50",
   "metadata": {},
   "source": [
    "- 使用pdfplumber.open打开要处理的PDF文件\n",
    "- 当PDF受密码保护时需要传递password关键字参数，pdfplumber.open(\"file.pdf\", password = \"test\")"
   ]
  },
  {
   "cell_type": "code",
   "execution_count": 8,
   "id": "80e0b2ad",
   "metadata": {},
   "outputs": [
    {
     "name": "stdout",
     "output_type": "stream",
     "text": [
      "{'fontname': 'WNPYQS+STKaitiSC-Regular', 'adv': 480.0, 'upright': True, 'x0': 89.28, 'y0': 742.758, 'x1': 113.28, 'y1': 766.758, 'width': 24.0, 'height': 24.0, 'size': 24.0, 'object_type': 'char', 'page_number': 1, 'stroking_color': (0, 0, 0), 'non_stroking_color': (0, 0, 0), 'text': '王', 'top': 75.24199999999996, 'bottom': 99.24199999999996, 'doctop': 75.24199999999996}\n"
     ]
    }
   ],
   "source": [
    "import pdfplumber\n",
    "\n",
    "with pdfplumber.open(\"/Users/greedy/Documents/所有简历数据/IT/1.pdf\") as pdf:\n",
    "    first_page = pdf.pages[0]\n",
    "    print(first_page.chars[0])"
   ]
  },
  {
   "cell_type": "markdown",
   "id": "5e2e3296",
   "metadata": {},
   "source": [
    "## 文件相关信息"
   ]
  },
  {
   "cell_type": "code",
   "execution_count": 12,
   "id": "ef259557",
   "metadata": {},
   "outputs": [
    {
     "data": {
      "text/plain": [
       "{'Author': '葛二蛋',\n",
       " 'Comments': '',\n",
       " 'Company': '',\n",
       " 'CreationDate': \"D:20220117152121+07'21'\",\n",
       " 'Creator': 'WPS 文字',\n",
       " 'Keywords': '78520e38dc3d33721nRy39y8EFtRw5G9Uf-aTeKklg~~',\n",
       " 'ModDate': \"D:20220128170914+08'00'\",\n",
       " 'Producer': '; modified using iText® 5.5.13 ©2000-2018 iText Group NV (AGPL-version)',\n",
       " 'SourceModified': \"D:20220117152121+07'21'\",\n",
       " 'Subject': '',\n",
       " 'Title': '',\n",
       " 'Trapped': 'False'}"
      ]
     },
     "execution_count": 12,
     "metadata": {},
     "output_type": "execute_result"
    }
   ],
   "source": [
    "pdf.metadata"
   ]
  },
  {
   "cell_type": "markdown",
   "id": "3b3f3e87",
   "metadata": {},
   "source": [
    "## 文本中的页数"
   ]
  },
  {
   "cell_type": "code",
   "execution_count": 13,
   "id": "71a9c65f",
   "metadata": {},
   "outputs": [
    {
     "data": {
      "text/plain": [
       "[<Page:1>, <Page:2>, <Page:3>]"
      ]
     },
     "execution_count": 13,
     "metadata": {},
     "output_type": "execute_result"
    }
   ],
   "source": [
    "pdf.pages"
   ]
  },
  {
   "cell_type": "markdown",
   "id": "ccb40ba1",
   "metadata": {},
   "source": [
    "## 页面宽度和高度"
   ]
  },
  {
   "cell_type": "code",
   "execution_count": 18,
   "id": "9ab32ce3",
   "metadata": {},
   "outputs": [
    {
     "data": {
      "text/plain": [
       "595.35"
      ]
     },
     "execution_count": 18,
     "metadata": {},
     "output_type": "execute_result"
    }
   ],
   "source": [
    "pdf.pages[0].width"
   ]
  },
  {
   "cell_type": "code",
   "execution_count": 19,
   "id": "5c35661d",
   "metadata": {},
   "outputs": [
    {
     "data": {
      "text/plain": [
       "842"
      ]
     },
     "execution_count": 19,
     "metadata": {},
     "output_type": "execute_result"
    }
   ],
   "source": [
    "pdf.pages[1].height"
   ]
  },
  {
   "cell_type": "code",
   "execution_count": null,
   "id": "0e66b28b",
   "metadata": {},
   "outputs": [],
   "source": []
  },
  {
   "cell_type": "code",
   "execution_count": null,
   "id": "7416fb59",
   "metadata": {},
   "outputs": [],
   "source": []
  }
 ],
 "metadata": {
  "kernelspec": {
   "display_name": "Python 3 (ipykernel)",
   "language": "python",
   "name": "python3"
  },
  "language_info": {
   "codemirror_mode": {
    "name": "ipython",
    "version": 3
   },
   "file_extension": ".py",
   "mimetype": "text/x-python",
   "name": "python",
   "nbconvert_exporter": "python",
   "pygments_lexer": "ipython3",
   "version": "3.9.7"
  }
 },
 "nbformat": 4,
 "nbformat_minor": 5
}
