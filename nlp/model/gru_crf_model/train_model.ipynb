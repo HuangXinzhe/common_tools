{
 "cells": [
  {
   "cell_type": "markdown",
   "id": "ec488ed7",
   "metadata": {},
   "source": [
    "# 使用GRU_CRF训练数据"
   ]
  },
  {
   "cell_type": "code",
   "execution_count": 1,
   "id": "946c91b6",
   "metadata": {
    "scrolled": true
   },
   "outputs": [],
   "source": [
    "import sys\n",
    "import numpy as np\n",
    "import pandas as pd\n",
    "import tensorflow as tf\n",
    "from sklearn.model_selection import train_test_split\n",
    "from tqdm import tqdm\n",
    "import gc\n",
    "from gru_crf import GRU_CRF"
   ]
  },
  {
   "cell_type": "code",
   "execution_count": 2,
   "id": "2274f048",
   "metadata": {},
   "outputs": [],
   "source": [
    "# 使用Google的colab调用文件时需要添加路径，将文件放入指定的位置才能识别到\n",
    "# from google.colab import drive\n",
    "# drive.mount('/content/drive') \n",
    "# sys.path.append('/content/drive/MyDrive/data/')"
   ]
  },
  {
   "cell_type": "code",
   "execution_count": 3,
   "id": "1e879549",
   "metadata": {},
   "outputs": [],
   "source": [
    "# 使用GPU\n",
    "# gpus = tf.config.experimental.list_physical_devices(device_type=\"GPU\")\n",
    "# tf.config.experimental.set_visible_devices(devices=gpus[0], device_type=\"GPU\")"
   ]
  },
  {
   "cell_type": "markdown",
   "id": "2135568e",
   "metadata": {},
   "source": [
    "# 数据准备"
   ]
  },
  {
   "cell_type": "code",
   "execution_count": 4,
   "id": "1646f2ca",
   "metadata": {},
   "outputs": [],
   "source": [
    "# 加载数据\n",
    "X = []\n",
    "feaX = []\n",
    "y = []\n",
    "\n",
    "def data_read(line:str):\n",
    "    lx, lfea, ly = eval(line)\n",
    "    X.append(lx)\n",
    "    feaX.append(lfea)\n",
    "    y.append(ly)"
   ]
  },
  {
   "cell_type": "code",
   "execution_count": 5,
   "id": "b1941ccc",
   "metadata": {},
   "outputs": [
    {
     "name": "stdout",
     "output_type": "stream",
     "text": [
      "CPU times: user 3.72 s, sys: 123 ms, total: 3.84 s\n",
      "Wall time: 3.87 s\n"
     ]
    },
    {
     "data": {
      "text/plain": [
       "(905, 905)"
      ]
     },
     "execution_count": 5,
     "metadata": {},
     "output_type": "execute_result"
    }
   ],
   "source": [
    "%%time\n",
    "# 读取数据并将提取出数据中的原始文本、文本特征及其对应的标签\n",
    "# readline方法\n",
    "# with open(\"label_old_only_work_project.txt\", encoding='utf-8') as f:\n",
    "#     line = f.readline()\n",
    "#     while line:\n",
    "#         data_read(line)\n",
    "#         line = f.readline()\n",
    "        \n",
    "# readlines方法\n",
    "with open(\"label_old_only_work_project.txt\", encoding='utf-8') as f:\n",
    "    for line in f.readlines():\n",
    "        data_read(line)\n",
    "\n",
    "# X[0], feaX[0], y[0]\n",
    "len(feaX), len(y)\n",
    "# X[:3]"
   ]
  },
  {
   "cell_type": "code",
   "execution_count": 23,
   "id": "ae1216be",
   "metadata": {},
   "outputs": [
    {
     "name": "stdout",
     "output_type": "stream",
     "text": [
      "CPU times: user 53.9 ms, sys: 2.6 ms, total: 56.5 ms\n",
      "Wall time: 55.2 ms\n"
     ]
    }
   ],
   "source": [
    "%%time\n",
    "#X = [[\n",
    "#        X[i][j] for j in range(len(y[i])) if y[i][j] != 'O'\n",
    "#    ] for i in range(len(y)) if 'project-B' in y[i] or 'work-B' in y[i]\n",
    "#]\n",
    "#\n",
    "#feaX = [[\n",
    "#        feaX[i][j] for j in range(len(y[i])) if y[i][j] != 'O'\n",
    "#    ] for i in range(len(y)) if 'project-B' in y[i] or 'work-B' in y[i]\n",
    "#]\n",
    "#\n",
    "#y = [[\n",
    "#        y[i][j] for j in range(len(y[i])) if y[i][j] != 'O'\n",
    "#    ] for i in range(len(y)) if 'project-B' in y[i] or 'work-B' in y[i] \n",
    "#]\n",
    "\n",
    "X_new = []\n",
    "feaX_new = []\n",
    "y_new = []\n",
    "for i in range(len(y)):\n",
    "    if 'project-B' in y[i] or 'work-B' in y[i]:\n",
    "        X_new.append([X[i][j] for j in range(len(y[i])) if y[i][j] != 'O'])\n",
    "        feaX_new.append([feaX[i][j] for j in range(len(y[i])) if y[i][j] != 'O'])\n",
    "        y_new.append([y[i][j] for j in range(len(y[i])) if y[i][j] != 'O'])"
   ]
  },
  {
   "cell_type": "code",
   "execution_count": 28,
   "id": "c09c96d5",
   "metadata": {},
   "outputs": [
    {
     "data": {
      "text/plain": [
       "{'project-B': 0,\n",
       " 'project-I': 1,\n",
       " 'work-B': 2,\n",
       " 'work-I': 3,\n",
       " '<start>': 4,\n",
       " '<PAD>': 5}"
      ]
     },
     "execution_count": 28,
     "metadata": {},
     "output_type": "execute_result"
    }
   ],
   "source": [
    "# 构建数据标签字典\n",
    "tag2id = set()\n",
    "for i in y_new:\n",
    "    tag2id.update(i)\n",
    "tag2id = list(tag2id)\n",
    "tag2id.sort()\n",
    "tag2id = {k:v for v, k in enumerate(tag2id)}\n",
    "# 添加特征字符标签\n",
    "tag2id['<start>'] = len(tag2id)\n",
    "tag2id['<PAD>'] = len(tag2id)\n",
    "\n",
    "# label encoding\n",
    "y_new = [[tag2id[token] for token in sequence] for sequence in y_new]\n",
    "\n",
    "tag2id #, y[0]"
   ]
  },
  {
   "cell_type": "code",
   "execution_count": null,
   "id": "86b73943",
   "metadata": {},
   "outputs": [],
   "source": []
  }
 ],
 "metadata": {
  "kernelspec": {
   "display_name": "Python 3 (ipykernel)",
   "language": "python",
   "name": "python3"
  },
  "language_info": {
   "codemirror_mode": {
    "name": "ipython",
    "version": 3
   },
   "file_extension": ".py",
   "mimetype": "text/x-python",
   "name": "python",
   "nbconvert_exporter": "python",
   "pygments_lexer": "ipython3",
   "version": "3.9.7"
  }
 },
 "nbformat": 4,
 "nbformat_minor": 5
}
